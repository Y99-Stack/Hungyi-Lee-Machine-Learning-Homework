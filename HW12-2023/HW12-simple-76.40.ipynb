{
  "nbformat": 4,
  "nbformat_minor": 0,
  "metadata": {
    "colab": {
      "provenance": []
    },
    "kernelspec": {
      "display_name": "Python 3",
      "name": "python3"
    },
    "gpuClass": "standard",
    "widgets": {
      "application/vnd.jupyter.widget-state+json": {
        "c74b59fce66445c493aa2a4a8f9ff947": {
          "model_module": "@jupyter-widgets/controls",
          "model_name": "HBoxModel",
          "model_module_version": "1.5.0",
          "state": {
            "_dom_classes": [],
            "_model_module": "@jupyter-widgets/controls",
            "_model_module_version": "1.5.0",
            "_model_name": "HBoxModel",
            "_view_count": null,
            "_view_module": "@jupyter-widgets/controls",
            "_view_module_version": "1.5.0",
            "_view_name": "HBoxView",
            "box_style": "",
            "children": [
              "IPY_MODEL_5ea35e93742d4a988879927ef933768b",
              "IPY_MODEL_94db0860536a47c3be3023a34859f56e",
              "IPY_MODEL_0bb81b77edf140aaba6a0451fa1988e2"
            ],
            "layout": "IPY_MODEL_51116e3e21f04496bf4d50b320cfc119"
          }
        },
        "5ea35e93742d4a988879927ef933768b": {
          "model_module": "@jupyter-widgets/controls",
          "model_name": "HTMLModel",
          "model_module_version": "1.5.0",
          "state": {
            "_dom_classes": [],
            "_model_module": "@jupyter-widgets/controls",
            "_model_module_version": "1.5.0",
            "_model_name": "HTMLModel",
            "_view_count": null,
            "_view_module": "@jupyter-widgets/controls",
            "_view_module_version": "1.5.0",
            "_view_name": "HTMLView",
            "description": "",
            "description_tooltip": null,
            "layout": "IPY_MODEL_6a67ab6497ef4fbeb664890b3fb442b0",
            "placeholder": "​",
            "style": "IPY_MODEL_0d8d8678106a467da6d7fd95cabbefae",
            "value": "Total: -222.4, Final: -100.0: 100%"
          }
        },
        "94db0860536a47c3be3023a34859f56e": {
          "model_module": "@jupyter-widgets/controls",
          "model_name": "FloatProgressModel",
          "model_module_version": "1.5.0",
          "state": {
            "_dom_classes": [],
            "_model_module": "@jupyter-widgets/controls",
            "_model_module_version": "1.5.0",
            "_model_name": "FloatProgressModel",
            "_view_count": null,
            "_view_module": "@jupyter-widgets/controls",
            "_view_module_version": "1.5.0",
            "_view_name": "ProgressView",
            "bar_style": "success",
            "description": "",
            "description_tooltip": null,
            "layout": "IPY_MODEL_3783ba9eb76345f4be41c83e9aa5e474",
            "max": 100,
            "min": 0,
            "orientation": "horizontal",
            "style": "IPY_MODEL_0ac1f8a0cea940368f822ce05a3bafaf",
            "value": 100
          }
        },
        "0bb81b77edf140aaba6a0451fa1988e2": {
          "model_module": "@jupyter-widgets/controls",
          "model_name": "HTMLModel",
          "model_module_version": "1.5.0",
          "state": {
            "_dom_classes": [],
            "_model_module": "@jupyter-widgets/controls",
            "_model_module_version": "1.5.0",
            "_model_name": "HTMLModel",
            "_view_count": null,
            "_view_module": "@jupyter-widgets/controls",
            "_view_module_version": "1.5.0",
            "_view_name": "HTMLView",
            "description": "",
            "description_tooltip": null,
            "layout": "IPY_MODEL_0ee54ac035994c0eaf6c5d419e68bb1f",
            "placeholder": "​",
            "style": "IPY_MODEL_9864e8db1c854dcb99ccff23740403ea",
            "value": " 100/100 [01:48&lt;00:00,  1.62s/it]"
          }
        },
        "51116e3e21f04496bf4d50b320cfc119": {
          "model_module": "@jupyter-widgets/base",
          "model_name": "LayoutModel",
          "model_module_version": "1.2.0",
          "state": {
            "_model_module": "@jupyter-widgets/base",
            "_model_module_version": "1.2.0",
            "_model_name": "LayoutModel",
            "_view_count": null,
            "_view_module": "@jupyter-widgets/base",
            "_view_module_version": "1.2.0",
            "_view_name": "LayoutView",
            "align_content": null,
            "align_items": null,
            "align_self": null,
            "border": null,
            "bottom": null,
            "display": null,
            "flex": null,
            "flex_flow": null,
            "grid_area": null,
            "grid_auto_columns": null,
            "grid_auto_flow": null,
            "grid_auto_rows": null,
            "grid_column": null,
            "grid_gap": null,
            "grid_row": null,
            "grid_template_areas": null,
            "grid_template_columns": null,
            "grid_template_rows": null,
            "height": null,
            "justify_content": null,
            "justify_items": null,
            "left": null,
            "margin": null,
            "max_height": null,
            "max_width": null,
            "min_height": null,
            "min_width": null,
            "object_fit": null,
            "object_position": null,
            "order": null,
            "overflow": null,
            "overflow_x": null,
            "overflow_y": null,
            "padding": null,
            "right": null,
            "top": null,
            "visibility": null,
            "width": null
          }
        },
        "6a67ab6497ef4fbeb664890b3fb442b0": {
          "model_module": "@jupyter-widgets/base",
          "model_name": "LayoutModel",
          "model_module_version": "1.2.0",
          "state": {
            "_model_module": "@jupyter-widgets/base",
            "_model_module_version": "1.2.0",
            "_model_name": "LayoutModel",
            "_view_count": null,
            "_view_module": "@jupyter-widgets/base",
            "_view_module_version": "1.2.0",
            "_view_name": "LayoutView",
            "align_content": null,
            "align_items": null,
            "align_self": null,
            "border": null,
            "bottom": null,
            "display": null,
            "flex": null,
            "flex_flow": null,
            "grid_area": null,
            "grid_auto_columns": null,
            "grid_auto_flow": null,
            "grid_auto_rows": null,
            "grid_column": null,
            "grid_gap": null,
            "grid_row": null,
            "grid_template_areas": null,
            "grid_template_columns": null,
            "grid_template_rows": null,
            "height": null,
            "justify_content": null,
            "justify_items": null,
            "left": null,
            "margin": null,
            "max_height": null,
            "max_width": null,
            "min_height": null,
            "min_width": null,
            "object_fit": null,
            "object_position": null,
            "order": null,
            "overflow": null,
            "overflow_x": null,
            "overflow_y": null,
            "padding": null,
            "right": null,
            "top": null,
            "visibility": null,
            "width": null
          }
        },
        "0d8d8678106a467da6d7fd95cabbefae": {
          "model_module": "@jupyter-widgets/controls",
          "model_name": "DescriptionStyleModel",
          "model_module_version": "1.5.0",
          "state": {
            "_model_module": "@jupyter-widgets/controls",
            "_model_module_version": "1.5.0",
            "_model_name": "DescriptionStyleModel",
            "_view_count": null,
            "_view_module": "@jupyter-widgets/base",
            "_view_module_version": "1.2.0",
            "_view_name": "StyleView",
            "description_width": ""
          }
        },
        "3783ba9eb76345f4be41c83e9aa5e474": {
          "model_module": "@jupyter-widgets/base",
          "model_name": "LayoutModel",
          "model_module_version": "1.2.0",
          "state": {
            "_model_module": "@jupyter-widgets/base",
            "_model_module_version": "1.2.0",
            "_model_name": "LayoutModel",
            "_view_count": null,
            "_view_module": "@jupyter-widgets/base",
            "_view_module_version": "1.2.0",
            "_view_name": "LayoutView",
            "align_content": null,
            "align_items": null,
            "align_self": null,
            "border": null,
            "bottom": null,
            "display": null,
            "flex": null,
            "flex_flow": null,
            "grid_area": null,
            "grid_auto_columns": null,
            "grid_auto_flow": null,
            "grid_auto_rows": null,
            "grid_column": null,
            "grid_gap": null,
            "grid_row": null,
            "grid_template_areas": null,
            "grid_template_columns": null,
            "grid_template_rows": null,
            "height": null,
            "justify_content": null,
            "justify_items": null,
            "left": null,
            "margin": null,
            "max_height": null,
            "max_width": null,
            "min_height": null,
            "min_width": null,
            "object_fit": null,
            "object_position": null,
            "order": null,
            "overflow": null,
            "overflow_x": null,
            "overflow_y": null,
            "padding": null,
            "right": null,
            "top": null,
            "visibility": null,
            "width": null
          }
        },
        "0ac1f8a0cea940368f822ce05a3bafaf": {
          "model_module": "@jupyter-widgets/controls",
          "model_name": "ProgressStyleModel",
          "model_module_version": "1.5.0",
          "state": {
            "_model_module": "@jupyter-widgets/controls",
            "_model_module_version": "1.5.0",
            "_model_name": "ProgressStyleModel",
            "_view_count": null,
            "_view_module": "@jupyter-widgets/base",
            "_view_module_version": "1.2.0",
            "_view_name": "StyleView",
            "bar_color": null,
            "description_width": ""
          }
        },
        "0ee54ac035994c0eaf6c5d419e68bb1f": {
          "model_module": "@jupyter-widgets/base",
          "model_name": "LayoutModel",
          "model_module_version": "1.2.0",
          "state": {
            "_model_module": "@jupyter-widgets/base",
            "_model_module_version": "1.2.0",
            "_model_name": "LayoutModel",
            "_view_count": null,
            "_view_module": "@jupyter-widgets/base",
            "_view_module_version": "1.2.0",
            "_view_name": "LayoutView",
            "align_content": null,
            "align_items": null,
            "align_self": null,
            "border": null,
            "bottom": null,
            "display": null,
            "flex": null,
            "flex_flow": null,
            "grid_area": null,
            "grid_auto_columns": null,
            "grid_auto_flow": null,
            "grid_auto_rows": null,
            "grid_column": null,
            "grid_gap": null,
            "grid_row": null,
            "grid_template_areas": null,
            "grid_template_columns": null,
            "grid_template_rows": null,
            "height": null,
            "justify_content": null,
            "justify_items": null,
            "left": null,
            "margin": null,
            "max_height": null,
            "max_width": null,
            "min_height": null,
            "min_width": null,
            "object_fit": null,
            "object_position": null,
            "order": null,
            "overflow": null,
            "overflow_x": null,
            "overflow_y": null,
            "padding": null,
            "right": null,
            "top": null,
            "visibility": null,
            "width": null
          }
        },
        "9864e8db1c854dcb99ccff23740403ea": {
          "model_module": "@jupyter-widgets/controls",
          "model_name": "DescriptionStyleModel",
          "model_module_version": "1.5.0",
          "state": {
            "_model_module": "@jupyter-widgets/controls",
            "_model_module_version": "1.5.0",
            "_model_name": "DescriptionStyleModel",
            "_view_count": null,
            "_view_module": "@jupyter-widgets/base",
            "_view_module_version": "1.2.0",
            "_view_name": "StyleView",
            "description_width": ""
          }
        }
      }
    }
  },
  "cells": [
    {
      "cell_type": "markdown",
      "metadata": {
        "id": "Fp30SB4bxeQb"
      },
      "source": [
        "# **Homework 12 - Reinforcement Learning**\n",
        "\n",
        "If you have any problem, e-mail us at mlta-2023-spring@googlegroups.com\n",
        "\n"
      ]
    },
    {
      "cell_type": "markdown",
      "metadata": {
        "id": "yXsnCWPtWSNk"
      },
      "source": [
        "## Preliminary work\n",
        "\n",
        "First, we need to install all necessary packages.\n",
        "One of them, gym, builded by OpenAI, is a toolkit for developing Reinforcement Learning algorithm. Other packages are for visualization in colab."
      ]
    },
    {
      "cell_type": "code",
      "metadata": {
        "colab": {
          "base_uri": "https://localhost:8080/"
        },
        "id": "5e2bScpnkVbv",
        "outputId": "e65cbbce-754a-46d1-cd7e-e4622d8b8f1c"
      },
      "source": [
        "!apt update\n",
        "!apt install python3-opengl xvfb -y\n",
        "!pip install -q swig\n",
        "!pip install box2d==2.3.2 gym[box2d]==0.25.2 box2d-py pyvirtualdisplay tqdm numpy==1.22.4\n",
        "!pip install box2d==2.3.2 box2d-kengz\n",
        "!pip freeze > requirements.txt\n"
      ],
      "execution_count": 10,
      "outputs": [
        {
          "output_type": "stream",
          "name": "stderr",
          "text": [
            "/usr/local/lib/python3.10/dist-packages/ipykernel/ipkernel.py:283: DeprecationWarning: `should_run_async` will not call `transform_cell` automatically in the future. Please pass the result to `transformed_cell` argument and any exception that happen during thetransform in `preprocessing_exc_tuple` in IPython 7.17 and above.\n",
            "  and should_run_async(code)\n"
          ]
        },
        {
          "output_type": "stream",
          "name": "stdout",
          "text": [
            "\u001b[33m\r0% [Working]\u001b[0m\r            \rHit:1 https://cloud.r-project.org/bin/linux/ubuntu jammy-cran40/ InRelease\n",
            "Hit:2 https://developer.download.nvidia.com/compute/cuda/repos/ubuntu2204/x86_64  InRelease\n",
            "Hit:3 http://security.ubuntu.com/ubuntu jammy-security InRelease\n",
            "Ign:4 https://r2u.stat.illinois.edu/ubuntu jammy InRelease\n",
            "Hit:5 http://archive.ubuntu.com/ubuntu jammy InRelease\n",
            "Hit:6 https://r2u.stat.illinois.edu/ubuntu jammy Release\n",
            "Hit:7 http://archive.ubuntu.com/ubuntu jammy-updates InRelease\n",
            "Hit:8 http://archive.ubuntu.com/ubuntu jammy-backports InRelease\n",
            "Hit:10 https://ppa.launchpadcontent.net/deadsnakes/ppa/ubuntu jammy InRelease\n",
            "Hit:11 https://ppa.launchpadcontent.net/graphics-drivers/ppa/ubuntu jammy InRelease\n",
            "Hit:12 https://ppa.launchpadcontent.net/ubuntugis/ppa/ubuntu jammy InRelease\n",
            "Reading package lists... Done\n",
            "Building dependency tree... Done\n",
            "Reading state information... Done\n",
            "51 packages can be upgraded. Run 'apt list --upgradable' to see them.\n",
            "\u001b[1;33mW: \u001b[0mSkipping acquire of configured file 'main/source/Sources' as repository 'https://r2u.stat.illinois.edu/ubuntu jammy InRelease' does not seem to provide it (sources.list entry misspelt?)\u001b[0m\n",
            "Reading package lists... Done\n",
            "Building dependency tree... Done\n",
            "Reading state information... Done\n",
            "The following additional packages will be installed:\n",
            "  freeglut3 libfontenc1 libglu1-mesa libxfont2 libxkbfile1 x11-xkb-utils xfonts-base\n",
            "  xfonts-encodings xfonts-utils xserver-common\n",
            "Suggested packages:\n",
            "  libgle3 python3-numpy\n",
            "The following NEW packages will be installed:\n",
            "  freeglut3 libfontenc1 libglu1-mesa libxfont2 libxkbfile1 python3-opengl x11-xkb-utils xfonts-base\n",
            "  xfonts-encodings xfonts-utils xserver-common xvfb\n",
            "0 upgraded, 12 newly installed, 0 to remove and 51 not upgraded.\n",
            "Need to get 8,637 kB of archives.\n",
            "After this operation, 20.0 MB of additional disk space will be used.\n",
            "Get:1 http://archive.ubuntu.com/ubuntu jammy/universe amd64 freeglut3 amd64 2.8.1-6 [74.0 kB]\n",
            "Get:2 http://archive.ubuntu.com/ubuntu jammy/main amd64 libfontenc1 amd64 1:1.1.4-1build3 [14.7 kB]\n",
            "Get:3 http://archive.ubuntu.com/ubuntu jammy/main amd64 libxfont2 amd64 1:2.0.5-1build1 [94.5 kB]\n",
            "Get:4 http://archive.ubuntu.com/ubuntu jammy/main amd64 libxkbfile1 amd64 1:1.1.0-1build3 [71.8 kB]\n",
            "Get:5 http://archive.ubuntu.com/ubuntu jammy/main amd64 libglu1-mesa amd64 9.0.2-1 [145 kB]\n",
            "Get:6 http://archive.ubuntu.com/ubuntu jammy/universe amd64 python3-opengl all 3.1.5+dfsg-1 [605 kB]\n",
            "Get:7 http://archive.ubuntu.com/ubuntu jammy/main amd64 x11-xkb-utils amd64 7.7+5build4 [172 kB]\n",
            "Get:8 http://archive.ubuntu.com/ubuntu jammy/main amd64 xfonts-encodings all 1:1.0.5-0ubuntu2 [578 kB]\n",
            "Get:9 http://archive.ubuntu.com/ubuntu jammy/main amd64 xfonts-utils amd64 1:7.7+6build2 [94.6 kB]\n",
            "Get:10 http://archive.ubuntu.com/ubuntu jammy/main amd64 xfonts-base all 1:1.0.5 [5,896 kB]\n",
            "Get:11 http://archive.ubuntu.com/ubuntu jammy-updates/main amd64 xserver-common all 2:21.1.4-2ubuntu1.7~22.04.11 [28.6 kB]\n",
            "Get:12 http://archive.ubuntu.com/ubuntu jammy-updates/universe amd64 xvfb amd64 2:21.1.4-2ubuntu1.7~22.04.11 [863 kB]\n",
            "Fetched 8,637 kB in 2s (5,196 kB/s)\n",
            "Selecting previously unselected package freeglut3:amd64.\n",
            "(Reading database ... 123597 files and directories currently installed.)\n",
            "Preparing to unpack .../00-freeglut3_2.8.1-6_amd64.deb ...\n",
            "Unpacking freeglut3:amd64 (2.8.1-6) ...\n",
            "Selecting previously unselected package libfontenc1:amd64.\n",
            "Preparing to unpack .../01-libfontenc1_1%3a1.1.4-1build3_amd64.deb ...\n",
            "Unpacking libfontenc1:amd64 (1:1.1.4-1build3) ...\n",
            "Selecting previously unselected package libxfont2:amd64.\n",
            "Preparing to unpack .../02-libxfont2_1%3a2.0.5-1build1_amd64.deb ...\n",
            "Unpacking libxfont2:amd64 (1:2.0.5-1build1) ...\n",
            "Selecting previously unselected package libxkbfile1:amd64.\n",
            "Preparing to unpack .../03-libxkbfile1_1%3a1.1.0-1build3_amd64.deb ...\n",
            "Unpacking libxkbfile1:amd64 (1:1.1.0-1build3) ...\n",
            "Selecting previously unselected package libglu1-mesa:amd64.\n",
            "Preparing to unpack .../04-libglu1-mesa_9.0.2-1_amd64.deb ...\n",
            "Unpacking libglu1-mesa:amd64 (9.0.2-1) ...\n",
            "Selecting previously unselected package python3-opengl.\n",
            "Preparing to unpack .../05-python3-opengl_3.1.5+dfsg-1_all.deb ...\n",
            "Unpacking python3-opengl (3.1.5+dfsg-1) ...\n",
            "Selecting previously unselected package x11-xkb-utils.\n",
            "Preparing to unpack .../06-x11-xkb-utils_7.7+5build4_amd64.deb ...\n",
            "Unpacking x11-xkb-utils (7.7+5build4) ...\n",
            "Selecting previously unselected package xfonts-encodings.\n",
            "Preparing to unpack .../07-xfonts-encodings_1%3a1.0.5-0ubuntu2_all.deb ...\n",
            "Unpacking xfonts-encodings (1:1.0.5-0ubuntu2) ...\n",
            "Selecting previously unselected package xfonts-utils.\n",
            "Preparing to unpack .../08-xfonts-utils_1%3a7.7+6build2_amd64.deb ...\n",
            "Unpacking xfonts-utils (1:7.7+6build2) ...\n",
            "Selecting previously unselected package xfonts-base.\n",
            "Preparing to unpack .../09-xfonts-base_1%3a1.0.5_all.deb ...\n",
            "Unpacking xfonts-base (1:1.0.5) ...\n",
            "Selecting previously unselected package xserver-common.\n",
            "Preparing to unpack .../10-xserver-common_2%3a21.1.4-2ubuntu1.7~22.04.11_all.deb ...\n",
            "Unpacking xserver-common (2:21.1.4-2ubuntu1.7~22.04.11) ...\n",
            "Selecting previously unselected package xvfb.\n",
            "Preparing to unpack .../11-xvfb_2%3a21.1.4-2ubuntu1.7~22.04.11_amd64.deb ...\n",
            "Unpacking xvfb (2:21.1.4-2ubuntu1.7~22.04.11) ...\n",
            "Setting up freeglut3:amd64 (2.8.1-6) ...\n",
            "Setting up libfontenc1:amd64 (1:1.1.4-1build3) ...\n",
            "Setting up xfonts-encodings (1:1.0.5-0ubuntu2) ...\n",
            "Setting up libglu1-mesa:amd64 (9.0.2-1) ...\n",
            "Setting up libxkbfile1:amd64 (1:1.1.0-1build3) ...\n",
            "Setting up libxfont2:amd64 (1:2.0.5-1build1) ...\n",
            "Setting up x11-xkb-utils (7.7+5build4) ...\n",
            "Setting up python3-opengl (3.1.5+dfsg-1) ...\n",
            "Setting up xfonts-utils (1:7.7+6build2) ...\n",
            "Setting up xfonts-base (1:1.0.5) ...\n",
            "Setting up xserver-common (2:21.1.4-2ubuntu1.7~22.04.11) ...\n",
            "Setting up xvfb (2:21.1.4-2ubuntu1.7~22.04.11) ...\n",
            "Processing triggers for man-db (2.10.2-1) ...\n",
            "Processing triggers for fontconfig (2.13.1-4.2ubuntu5) ...\n",
            "Processing triggers for libc-bin (2.35-0ubuntu3.4) ...\n",
            "/sbin/ldconfig.real: /usr/local/lib/libur_adapter_opencl.so.0 is not a symbolic link\n",
            "\n",
            "/sbin/ldconfig.real: /usr/local/lib/libtbbbind.so.3 is not a symbolic link\n",
            "\n",
            "/sbin/ldconfig.real: /usr/local/lib/libtbbmalloc_proxy.so.2 is not a symbolic link\n",
            "\n",
            "/sbin/ldconfig.real: /usr/local/lib/libtbbbind_2_5.so.3 is not a symbolic link\n",
            "\n",
            "/sbin/ldconfig.real: /usr/local/lib/libtbb.so.12 is not a symbolic link\n",
            "\n",
            "/sbin/ldconfig.real: /usr/local/lib/libur_loader.so.0 is not a symbolic link\n",
            "\n",
            "/sbin/ldconfig.real: /usr/local/lib/libtbbmalloc.so.2 is not a symbolic link\n",
            "\n",
            "/sbin/ldconfig.real: /usr/local/lib/libur_adapter_level_zero.so.0 is not a symbolic link\n",
            "\n",
            "/sbin/ldconfig.real: /usr/local/lib/libtbbbind_2_0.so.3 is not a symbolic link\n",
            "\n",
            "Requirement already satisfied: box2d==2.3.2 in /usr/local/lib/python3.10/dist-packages (2.3.2)\n",
            "Requirement already satisfied: gym==0.25.2 in /usr/local/lib/python3.10/dist-packages (from gym[box2d]==0.25.2) (0.25.2)\n",
            "Requirement already satisfied: box2d-py in /usr/local/lib/python3.10/dist-packages (2.3.5)\n",
            "Requirement already satisfied: pyvirtualdisplay in /usr/local/lib/python3.10/dist-packages (3.0)\n",
            "Requirement already satisfied: tqdm in /usr/local/lib/python3.10/dist-packages (4.66.5)\n",
            "Requirement already satisfied: numpy==1.22.4 in /usr/local/lib/python3.10/dist-packages (1.22.4)\n",
            "Requirement already satisfied: cloudpickle>=1.2.0 in /usr/local/lib/python3.10/dist-packages (from gym==0.25.2->gym[box2d]==0.25.2) (2.2.1)\n",
            "Requirement already satisfied: gym-notices>=0.0.4 in /usr/local/lib/python3.10/dist-packages (from gym==0.25.2->gym[box2d]==0.25.2) (0.0.8)\n",
            "Requirement already satisfied: pygame==2.1.0 in /usr/local/lib/python3.10/dist-packages (from gym[box2d]==0.25.2) (2.1.0)\n",
            "Requirement already satisfied: swig==4.* in /usr/local/lib/python3.10/dist-packages (from gym[box2d]==0.25.2) (4.2.1)\n",
            "Requirement already satisfied: box2d==2.3.2 in /usr/local/lib/python3.10/dist-packages (2.3.2)\n",
            "Requirement already satisfied: box2d-kengz in /usr/local/lib/python3.10/dist-packages (2.3.3)\n"
          ]
        }
      ]
    },
    {
      "cell_type": "markdown",
      "metadata": {
        "id": "M_-i3cdoYsks"
      },
      "source": [
        "\n",
        "Next, set up virtual display，and import all necessaary packages."
      ]
    },
    {
      "cell_type": "code",
      "metadata": {
        "id": "nl2nREINDLiw"
      },
      "source": [
        "%%capture\n",
        "from pyvirtualdisplay import Display\n",
        "virtual_display = Display(visible=0, size=(1400, 900))\n",
        "virtual_display.start()\n",
        "\n",
        "%matplotlib inline\n",
        "import matplotlib.pyplot as plt\n",
        "\n",
        "from IPython import display\n",
        "\n",
        "import numpy as np\n",
        "import torch\n",
        "import torch.nn as nn\n",
        "import torch.optim as optim\n",
        "import torch.nn.functional as F\n",
        "from torch.distributions import Categorical\n",
        "from tqdm.notebook import tqdm"
      ],
      "execution_count": 11,
      "outputs": []
    },
    {
      "cell_type": "markdown",
      "metadata": {
        "id": "CaEJ8BUCpN9P"
      },
      "source": [
        "# Warning ! Do not revise random seed !!!\n",
        "# Your submission on JudgeBoi will not reproduce your result !!!\n",
        "Make your HW result to be reproducible.\n"
      ]
    },
    {
      "cell_type": "code",
      "metadata": {
        "id": "fV9i8i2YkRbO"
      },
      "source": [
        "seed = 2023 # Do not change this\n",
        "def fix(env, seed):\n",
        "  env.seed(seed)\n",
        "  env.action_space.seed(seed)\n",
        "  torch.backends.cudnn.deterministic = True\n",
        "  torch.backends.cudnn.benchmark = False\n",
        "  np.random.seed(seed)\n",
        "  torch.manual_seed(seed)\n",
        "  if torch.cuda.is_available():\n",
        "      torch.cuda.manual_seed_all(seed)"
      ],
      "execution_count": 12,
      "outputs": []
    },
    {
      "cell_type": "markdown",
      "metadata": {
        "id": "He0XDx6bzjgC"
      },
      "source": [
        "Last, call gym and build an [Lunar Lander](https://gymnasium.farama.org/content/migration-guide/) environment."
      ]
    },
    {
      "cell_type": "code",
      "metadata": {
        "id": "N_4-xJcbBt09"
      },
      "source": [
        "%%capture\n",
        "import gym\n",
        "import random\n",
        "env = gym.make('LunarLander-v2')\n",
        "fix(env, seed) # fix the environment Do not revise this !!!"
      ],
      "execution_count": 13,
      "outputs": []
    },
    {
      "cell_type": "markdown",
      "metadata": {
        "id": "NrkVvTrvWZ5H"
      },
      "source": [
        "## What Lunar Lander？\n",
        "\n",
        "“LunarLander-v2”is to simulate the situation when the craft lands on the surface of the moon.\n",
        "\n",
        "This task is to enable the craft to land \"safely\" at the pad between the two yellow flags.\n",
        "> Landing pad is always at coordinates (0,0).\n",
        "> Coordinates are the first two numbers in state vector.\n",
        "\n",
        "![](https://gym.openai.com/assets/docs/aeloop-138c89d44114492fd02822303e6b4b07213010bb14ca5856d2d49d6b62d88e53.svg)\n",
        "\n",
        "\"LunarLander-v2\" actually includes \"Agent\" and \"Environment\".\n",
        "\n",
        "In this homework, we will utilize the function `step()` to control the action of \"Agent\".\n",
        "\n",
        "Then `step()` will return the observation/state and reward given by the \"Environment\"."
      ]
    },
    {
      "cell_type": "markdown",
      "metadata": {
        "id": "bIbp82sljvAt"
      },
      "source": [
        "### Observation / State\n",
        "\n",
        "First, we can take a look at what an Observation / State looks like."
      ]
    },
    {
      "cell_type": "code",
      "metadata": {
        "colab": {
          "base_uri": "https://localhost:8080/"
        },
        "id": "rsXZra3N9R5T",
        "outputId": "67a55e3f-867f-4264-b4ca-76a9d2ff4415"
      },
      "source": [
        "print(env.observation_space)"
      ],
      "execution_count": 14,
      "outputs": [
        {
          "output_type": "stream",
          "name": "stdout",
          "text": [
            "Box([-1.5       -1.5       -5.        -5.        -3.1415927 -5.\n",
            " -0.        -0.       ], [1.5       1.5       5.        5.        3.1415927 5.        1.\n",
            " 1.       ], (8,), float32)\n"
          ]
        }
      ]
    },
    {
      "cell_type": "markdown",
      "metadata": {
        "id": "ezdfoThbAQ49"
      },
      "source": [
        "\n",
        "`Box(8,)`means that observation is an 8-dim vector\n",
        "### Action\n",
        "\n",
        "Actions can be taken by looks like"
      ]
    },
    {
      "cell_type": "code",
      "metadata": {
        "id": "p1k4dIrBAaKi",
        "colab": {
          "base_uri": "https://localhost:8080/"
        },
        "outputId": "4899d00d-b1bb-407e-9d9c-91e5004ce681"
      },
      "source": [
        "print(env.action_space)"
      ],
      "execution_count": 15,
      "outputs": [
        {
          "output_type": "stream",
          "name": "stdout",
          "text": [
            "Discrete(4)\n"
          ]
        }
      ]
    },
    {
      "cell_type": "markdown",
      "metadata": {
        "id": "dejXT6PHBrPn"
      },
      "source": [
        "`Discrete(4)` implies that there are four kinds of actions can be taken by agent.\n",
        "- 0 implies the agent will not take any actions\n",
        "- 2 implies the agent will accelerate downward\n",
        "- 1, 3 implies the agent will accelerate left and right\n",
        "\n",
        "Next, we will try to make the agent interact with the environment.\n",
        "Before taking any actions, we recommend to call `reset()` function to reset the environment. Also, this function will return the initial state of the environment."
      ]
    },
    {
      "cell_type": "code",
      "metadata": {
        "id": "pi4OmrmZgnWA",
        "colab": {
          "base_uri": "https://localhost:8080/"
        },
        "outputId": "0f4d37c3-20dc-4699-f3be-26a776912249"
      },
      "source": [
        "initial_state = env.reset()\n",
        "print(initial_state)"
      ],
      "execution_count": 17,
      "outputs": [
        {
          "output_type": "stream",
          "name": "stdout",
          "text": [
            "[-0.00552921  1.4196991  -0.5600674   0.3901667   0.00641378  0.12686351\n",
            "  0.          0.        ]\n"
          ]
        }
      ]
    },
    {
      "cell_type": "markdown",
      "metadata": {
        "id": "uBx0mEqqgxJ9"
      },
      "source": [
        "Then, we try to get a random action from the agent's action space."
      ]
    },
    {
      "cell_type": "code",
      "metadata": {
        "id": "vxkOEXRKgizt",
        "colab": {
          "base_uri": "https://localhost:8080/"
        },
        "outputId": "c35e316c-2c2c-4abf-9b15-7233460e898a"
      },
      "source": [
        "random_action = env.action_space.sample()\n",
        "print(random_action)"
      ],
      "execution_count": 18,
      "outputs": [
        {
          "output_type": "stream",
          "name": "stdout",
          "text": [
            "1\n"
          ]
        }
      ]
    },
    {
      "cell_type": "markdown",
      "metadata": {
        "id": "mns-bO01g0-J"
      },
      "source": [
        "More, we can utilize `step()` to make agent act according to the randomly-selected `random_action`.\n",
        "The `step()` function will return four values:\n",
        "- observation / state\n",
        "- reward\n",
        "- done (True/ False)\n",
        "- Other information"
      ]
    },
    {
      "cell_type": "code",
      "metadata": {
        "id": "E_WViSxGgIk9"
      },
      "source": [
        "observation, reward, done, info = env.step(random_action)"
      ],
      "execution_count": 25,
      "outputs": []
    },
    {
      "cell_type": "code",
      "metadata": {
        "id": "yK7r126kuCNp",
        "colab": {
          "base_uri": "https://localhost:8080/"
        },
        "outputId": "8a526055-5af9-4de1-93af-c74c3df948ae"
      },
      "source": [
        "print(observation)\n",
        "print(reward)\n",
        "print(done)\n",
        "print(info)"
      ],
      "execution_count": 26,
      "outputs": [
        {
          "output_type": "stream",
          "name": "stdout",
          "text": [
            "[-0.01680317  1.4355052  -0.57813877  0.3377443   0.02433886  0.20073727\n",
            "  0.          0.        ]\n",
            "-1.3142977082742664\n",
            "False\n",
            "{}\n"
          ]
        }
      ]
    },
    {
      "cell_type": "markdown",
      "metadata": {
        "id": "GKdS8vOihxhc"
      },
      "source": [
        "### Reward\n",
        "\n",
        "\n",
        "> Landing pad is always at coordinates (0,0). Coordinates are the first two numbers in state vector. Reward for moving from the top of the screen to landing pad and zero speed is about 100..140 points. If lander moves away from landing pad it loses reward back. Episode finishes if the lander crashes or comes to rest, receiving additional -100 or +100 points. Each leg ground contact is +10. Firing main engine is -0.3 points each frame. Solved is 200 points."
      ]
    },
    {
      "cell_type": "code",
      "metadata": {
        "id": "vxQNs77hi0_7",
        "colab": {
          "base_uri": "https://localhost:8080/"
        },
        "outputId": "ba4fcaf0-c45e-48e4-e17a-c7f785e9df99"
      },
      "source": [
        "print(reward)"
      ],
      "execution_count": 27,
      "outputs": [
        {
          "output_type": "stream",
          "name": "stdout",
          "text": [
            "-1.3142977082742664\n"
          ]
        }
      ]
    },
    {
      "cell_type": "markdown",
      "metadata": {
        "id": "Mhqp6D-XgHpe"
      },
      "source": [
        "### Random Agent\n",
        "In the end, before we start training, we can see whether a random agent can successfully land the moon or not."
      ]
    },
    {
      "cell_type": "code",
      "metadata": {
        "id": "Y3G0bxoccelv",
        "colab": {
          "base_uri": "https://localhost:8080/",
          "height": 396
        },
        "outputId": "e937620b-77c1-4109-c6e9-cd025a4328d4"
      },
      "source": [
        "env.reset()\n",
        "\n",
        "img = plt.imshow(env.render(mode='rgb_array'))\n",
        "\n",
        "done = False\n",
        "while not done:\n",
        "    action = env.action_space.sample()\n",
        "    observation, reward, done, _ = env.step(action)\n",
        "\n",
        "    img.set_data(env.render(mode='rgb_array'))\n",
        "    display.display(plt.gcf())\n",
        "    display.clear_output(wait=True)"
      ],
      "execution_count": 28,
      "outputs": [
        {
          "output_type": "display_data",
          "data": {
            "text/plain": [
              "<Figure size 640x480 with 1 Axes>"
            ],
            "image/png": "[encoded data removed]"
          },
          "metadata": {}
        }
      ]
    },
    {
      "cell_type": "code",
      "source": [
        "print(reward)"
      ],
      "metadata": {
        "colab": {
          "base_uri": "https://localhost:8080/"
        },
        "id": "sMdICbN5cfR-",
        "outputId": "b8fc7615-3a9f-4a7d-f234-f8f233ed42dc"
      },
      "execution_count": 29,
      "outputs": [
        {
          "output_type": "stream",
          "name": "stdout",
          "text": [
            "-100\n"
          ]
        },
        {
          "output_type": "stream",
          "name": "stderr",
          "text": [
            "/usr/local/lib/python3.10/dist-packages/ipykernel/ipkernel.py:283: DeprecationWarning: `should_run_async` will not call `transform_cell` automatically in the future. Please pass the result to `transformed_cell` argument and any exception that happen during thetransform in `preprocessing_exc_tuple` in IPython 7.17 and above.\n",
            "  and should_run_async(code)\n"
          ]
        }
      ]
    },
    {
      "cell_type": "markdown",
      "metadata": {
        "id": "F5paWqo7tWL2"
      },
      "source": [
        "## Policy Gradient\n",
        "Now, we can build a simple policy network. The network will return one of action in the action space."
      ]
    },
    {
      "cell_type": "code",
      "metadata": {
        "id": "J8tdmeD-tZew"
      },
      "source": [
        "# Take a state input and generate a probability distribution of an action through a series of Fully Connected Layers\n",
        "class PolicyGradientNetwork(nn.Module):\n",
        "\n",
        "    def __init__(self):\n",
        "        super().__init__()\n",
        "        self.fc1 = nn.Linear(8, 16)\n",
        "        self.fc2 = nn.Linear(16, 16)\n",
        "        self.fc3 = nn.Linear(16, 4)\n",
        "\n",
        "    def forward(self, state):\n",
        "        hid = torch.tanh(self.fc1(state))\n",
        "        hid = torch.tanh(hid)\n",
        "        return F.softmax(self.fc3(hid), dim=-1)"
      ],
      "execution_count": 30,
      "outputs": []
    },
    {
      "cell_type": "markdown",
      "metadata": {
        "id": "ynbqJrhIFTC3"
      },
      "source": [
        "Then, we need to build a simple agent. The agent will acts according to the output of the policy network above. There are a few things can be done by agent:\n",
        "- `learn()`：update the policy network from log probabilities and rewards.\n",
        "- `sample()`：After receiving observation from the environment, utilize policy network to tell which action to take. The return values of this function includes action and log probabilities."
      ]
    },
    {
      "cell_type": "code",
      "metadata": {
        "id": "zZo-IxJx286z"
      },
      "source": [
        "from torch.optim.lr_scheduler import StepLR\n",
        "# The Policy Gradient Agent is used for the strategy gradient method. Agent uses neural network to generate probability distribution of actions and updates the network parameters by gradient descent\n",
        "class PolicyGradientAgent():\n",
        "\n",
        "    def __init__(self, network):\n",
        "        self.network = network\n",
        "        self.optimizer = optim.SGD(self.network.parameters(), lr=0.002)\n",
        "\n",
        "    def forward(self, state):\n",
        "        return self.network(state)\n",
        "    def learn(self, log_probs, rewards):\n",
        "        loss = (-log_probs * rewards).sum() # You don't need to revise this to pass simple baseline (but you can)\n",
        "\n",
        "        self.optimizer.zero_grad()\n",
        "        loss.backward()\n",
        "        self.optimizer.step()\n",
        "\n",
        "    def sample(self, state):\n",
        "        action_prob = self.network(torch.FloatTensor(state))\n",
        "        action_dist = Categorical(action_prob)\n",
        "        action = action_dist.sample()\n",
        "        log_prob = action_dist.log_prob(action)\n",
        "        return action.item(), log_prob"
      ],
      "execution_count": 31,
      "outputs": []
    },
    {
      "cell_type": "markdown",
      "metadata": {
        "id": "ehPlnTKyRZf9"
      },
      "source": [
        "Lastly, build a network and agent to start training."
      ]
    },
    {
      "cell_type": "code",
      "metadata": {
        "id": "GfJIvML-RYjL"
      },
      "source": [
        "network = PolicyGradientNetwork()\n",
        "agent = PolicyGradientAgent(network)"
      ],
      "execution_count": 32,
      "outputs": []
    },
    {
      "cell_type": "markdown",
      "metadata": {
        "id": "ouv23glgf5Qt"
      },
      "source": [
        "## Training Agent\n",
        "\n",
        "Now let's start to train our agent.\n",
        "Through taking all the interactions between agent and environment as training data, the policy network can learn from all these attempts,"
      ]
    },
    {
      "cell_type": "code",
      "metadata": {
        "id": "vg5rxBBaf38_",
        "colab": {
          "base_uri": "https://localhost:8080/",
          "height": 1000,
          "referenced_widgets": [
            "c74b59fce66445c493aa2a4a8f9ff947",
            "5ea35e93742d4a988879927ef933768b",
            "94db0860536a47c3be3023a34859f56e",
            "0bb81b77edf140aaba6a0451fa1988e2",
            "51116e3e21f04496bf4d50b320cfc119",
            "6a67ab6497ef4fbeb664890b3fb442b0",
            "0d8d8678106a467da6d7fd95cabbefae",
            "3783ba9eb76345f4be41c83e9aa5e474",
            "0ac1f8a0cea940368f822ce05a3bafaf",
            "0ee54ac035994c0eaf6c5d419e68bb1f",
            "9864e8db1c854dcb99ccff23740403ea"
          ]
        },
        "outputId": "26e285bd-88d5-4ae6-8529-af59cacd39e2"
      },
      "source": [
        "agent.network.train()  # Switch network into training mode\n",
        "EPISODE_PER_BATCH = 5  # update the agent every 5 episode\n",
        "NUM_BATCH = 100        # totally update the agent for 100 time, thus\n",
        "\n",
        "avg_total_rewards, avg_final_rewards = [], []\n",
        "\n",
        "prg_bar = tqdm(range(NUM_BATCH))\n",
        "# 每次主循环batch中，agent和env互动EPISODE_PER_BATCH次，但是agent在每次主循环中值更新一次，所以agent更新100次，互动500次\n",
        "for batch in prg_bar:\n",
        "\n",
        "    log_probs, rewards = [], []\n",
        "    total_rewards, final_rewards = [], []\n",
        "\n",
        "    # collect trajectory\n",
        "    for episode in range(EPISODE_PER_BATCH):\n",
        "\n",
        "        state = env.reset()\n",
        "        total_reward, total_step = 0, 0\n",
        "        seq_rewards = []\n",
        "        while True:\n",
        "\n",
        "            action, log_prob = agent.sample(state) # at, log(at|st)\n",
        "            next_state, reward, done, _ = env.step(action)\n",
        "\n",
        "            log_probs.append(log_prob) # [log(a1|s1), log(a2|s2), ...., log(at|st)]\n",
        "            # seq_rewards.append(reward)\n",
        "            state = next_state\n",
        "            total_reward += reward\n",
        "            total_step += 1\n",
        "            rewards.append(reward) # change here\n",
        "            # ! IMPORTANT !\n",
        "            # Current reward implementation: immediate reward,  given action_list : a1, a2, a3 ......\n",
        "            #                                                         rewards :     r1, r2 ,r3 ......\n",
        "            # medium：change \"rewards\" to accumulative decaying reward, given action_list : a1,                           a2,                           a3, ......\n",
        "            #                                                           rewards :           r1+0.99*r2+0.99^2*r3+......, r2+0.99*r3+0.99^2*r4+...... ,  r3+0.99*r4+0.99^2*r5+ ......\n",
        "            # boss : implement Actor-Critic\n",
        "            if done:\n",
        "                final_rewards.append(reward)\n",
        "                total_rewards.append(total_reward)\n",
        "\n",
        "                break\n",
        "\n",
        "    print(f\"rewards looks like \", np.shape(rewards))\n",
        "    #print(f\"log_probs looks like \", np.shape(log_probs))\n",
        "    # record training process\n",
        "    avg_total_reward = sum(total_rewards) / len(total_rewards)\n",
        "    avg_final_reward = sum(final_rewards) / len(final_rewards)\n",
        "    avg_total_rewards.append(avg_total_reward)\n",
        "    avg_final_rewards.append(avg_final_reward)\n",
        "    prg_bar.set_description(f\"Total: {avg_total_reward: 4.1f}, Final: {avg_final_reward: 4.1f}\")\n",
        "\n",
        "    # update agent\n",
        "    # rewards = np.concatenate(rewards, axis=0)\n",
        "    rewards = (rewards - np.mean(rewards)) / (np.std(rewards) + 1e-9)  # normalize the reward\n",
        "    agent.learn(torch.stack(log_probs), torch.from_numpy(rewards))\n",
        "    print(\"logs prob looks like \", torch.stack(log_probs).size())\n",
        "    print(\"torch.from_numpy(rewards) looks like \", torch.from_numpy(rewards).size())"
      ],
      "execution_count": 33,
      "outputs": [
        {
          "output_type": "display_data",
          "data": {
            "text/plain": [
              "  0%|          | 0/100 [00:00<?, ?it/s]"
            ],
            "application/vnd.jupyter.widget-view+json": {
              "version_major": 2,
              "version_minor": 0,
              "model_id": "c74b59fce66445c493aa2a4a8f9ff947"
            }
          },
          "metadata": {}
        },
        {
          "output_type": "stream",
          "name": "stdout",
          "text": [
            "rewards looks like  (422,)\n",
            "logs prob looks like  torch.Size([422])\n",
            "torch.from_numpy(rewards) looks like  torch.Size([422])\n",
            "rewards looks like  (509,)\n",
            "logs prob looks like  torch.Size([509])\n",
            "torch.from_numpy(rewards) looks like  torch.Size([509])\n",
            "rewards looks like  (506,)\n",
            "logs prob looks like  torch.Size([506])\n",
            "torch.from_numpy(rewards) looks like  torch.Size([506])\n",
            "rewards looks like  (488,)\n",
            "logs prob looks like  torch.Size([488])\n",
            "torch.from_numpy(rewards) looks like  torch.Size([488])\n",
            "rewards looks like  (434,)\n",
            "logs prob looks like  torch.Size([434])\n",
            "torch.from_numpy(rewards) looks like  torch.Size([434])\n",
            "rewards looks like  (425,)\n",
            "logs prob looks like  torch.Size([425])\n",
            "torch.from_numpy(rewards) looks like  torch.Size([425])\n",
            "rewards looks like  (477,)\n",
            "logs prob looks like  torch.Size([477])\n",
            "torch.from_numpy(rewards) looks like  torch.Size([477])\n",
            "rewards looks like  (482,)\n",
            "logs prob looks like  torch.Size([482])\n",
            "torch.from_numpy(rewards) looks like  torch.Size([482])\n",
            "rewards looks like  (472,)\n",
            "logs prob looks like  torch.Size([472])\n",
            "torch.from_numpy(rewards) looks like  torch.Size([472])\n",
            "rewards looks like  (494,)\n",
            "logs prob looks like  torch.Size([494])\n",
            "torch.from_numpy(rewards) looks like  torch.Size([494])\n",
            "rewards looks like  (521,)\n",
            "logs prob looks like  torch.Size([521])\n",
            "torch.from_numpy(rewards) looks like  torch.Size([521])\n",
            "rewards looks like  (504,)\n",
            "logs prob looks like  torch.Size([504])\n",
            "torch.from_numpy(rewards) looks like  torch.Size([504])\n",
            "rewards looks like  (593,)\n",
            "logs prob looks like  torch.Size([593])\n",
            "torch.from_numpy(rewards) looks like  torch.Size([593])\n",
            "rewards looks like  (633,)\n",
            "logs prob looks like  torch.Size([633])\n",
            "torch.from_numpy(rewards) looks like  torch.Size([633])\n",
            "rewards looks like  (565,)\n",
            "logs prob looks like  torch.Size([565])\n",
            "torch.from_numpy(rewards) looks like  torch.Size([565])\n",
            "rewards looks like  (731,)\n",
            "logs prob looks like  torch.Size([731])\n",
            "torch.from_numpy(rewards) looks like  torch.Size([731])\n",
            "rewards looks like  (702,)\n",
            "logs prob looks like  torch.Size([702])\n",
            "torch.from_numpy(rewards) looks like  torch.Size([702])\n",
            "rewards looks like  (644,)\n",
            "logs prob looks like  torch.Size([644])\n",
            "torch.from_numpy(rewards) looks like  torch.Size([644])\n",
            "rewards looks like  (672,)\n",
            "logs prob looks like  torch.Size([672])\n",
            "torch.from_numpy(rewards) looks like  torch.Size([672])\n",
            "rewards looks like  (887,)\n",
            "logs prob looks like  torch.Size([887])\n",
            "torch.from_numpy(rewards) looks like  torch.Size([887])\n",
            "rewards looks like  (417,)\n",
            "logs prob looks like  torch.Size([417])\n",
            "torch.from_numpy(rewards) looks like  torch.Size([417])\n",
            "rewards looks like  (543,)\n",
            "logs prob looks like  torch.Size([543])\n",
            "torch.from_numpy(rewards) looks like  torch.Size([543])\n",
            "rewards looks like  (526,)\n",
            "logs prob looks like  torch.Size([526])\n",
            "torch.from_numpy(rewards) looks like  torch.Size([526])\n",
            "rewards looks like  (530,)\n",
            "logs prob looks like  torch.Size([530])\n",
            "torch.from_numpy(rewards) looks like  torch.Size([530])\n",
            "rewards looks like  (589,)\n",
            "logs prob looks like  torch.Size([589])\n",
            "torch.from_numpy(rewards) looks like  torch.Size([589])\n",
            "rewards looks like  (536,)\n",
            "logs prob looks like  torch.Size([536])\n",
            "torch.from_numpy(rewards) looks like  torch.Size([536])\n",
            "rewards looks like  (577,)\n",
            "logs prob looks like  torch.Size([577])\n",
            "torch.from_numpy(rewards) looks like  torch.Size([577])\n",
            "rewards looks like  (519,)\n",
            "logs prob looks like  torch.Size([519])\n",
            "torch.from_numpy(rewards) looks like  torch.Size([519])\n",
            "rewards looks like  (500,)\n",
            "logs prob looks like  torch.Size([500])\n",
            "torch.from_numpy(rewards) looks like  torch.Size([500])\n",
            "rewards looks like  (471,)\n",
            "logs prob looks like  torch.Size([471])\n",
            "torch.from_numpy(rewards) looks like  torch.Size([471])\n",
            "rewards looks like  (495,)\n",
            "logs prob looks like  torch.Size([495])\n",
            "torch.from_numpy(rewards) looks like  torch.Size([495])\n",
            "rewards looks like  (525,)\n",
            "logs prob looks like  torch.Size([525])\n",
            "torch.from_numpy(rewards) looks like  torch.Size([525])\n",
            "rewards looks like  (493,)\n",
            "logs prob looks like  torch.Size([493])\n",
            "torch.from_numpy(rewards) looks like  torch.Size([493])\n",
            "rewards looks like  (550,)\n",
            "logs prob looks like  torch.Size([550])\n",
            "torch.from_numpy(rewards) looks like  torch.Size([550])\n",
            "rewards looks like  (615,)\n",
            "logs prob looks like  torch.Size([615])\n",
            "torch.from_numpy(rewards) looks like  torch.Size([615])\n",
            "rewards looks like  (559,)\n",
            "logs prob looks like  torch.Size([559])\n",
            "torch.from_numpy(rewards) looks like  torch.Size([559])\n",
            "rewards looks like  (610,)\n",
            "logs prob looks like  torch.Size([610])\n",
            "torch.from_numpy(rewards) looks like  torch.Size([610])\n",
            "rewards looks like  (658,)\n",
            "logs prob looks like  torch.Size([658])\n",
            "torch.from_numpy(rewards) looks like  torch.Size([658])\n",
            "rewards looks like  (538,)\n",
            "logs prob looks like  torch.Size([538])\n",
            "torch.from_numpy(rewards) looks like  torch.Size([538])\n",
            "rewards looks like  (532,)\n",
            "logs prob looks like  torch.Size([532])\n",
            "torch.from_numpy(rewards) looks like  torch.Size([532])\n",
            "rewards looks like  (434,)\n",
            "logs prob looks like  torch.Size([434])\n",
            "torch.from_numpy(rewards) looks like  torch.Size([434])\n",
            "rewards looks like  (557,)\n",
            "logs prob looks like  torch.Size([557])\n",
            "torch.from_numpy(rewards) looks like  torch.Size([557])\n",
            "rewards looks like  (1479,)\n",
            "logs prob looks like  torch.Size([1479])\n",
            "torch.from_numpy(rewards) looks like  torch.Size([1479])\n",
            "rewards looks like  (598,)\n",
            "logs prob looks like  torch.Size([598])\n",
            "torch.from_numpy(rewards) looks like  torch.Size([598])\n",
            "rewards looks like  (451,)\n",
            "logs prob looks like  torch.Size([451])\n",
            "torch.from_numpy(rewards) looks like  torch.Size([451])\n",
            "rewards looks like  (494,)\n",
            "logs prob looks like  torch.Size([494])\n",
            "torch.from_numpy(rewards) looks like  torch.Size([494])\n",
            "rewards looks like  (631,)\n",
            "logs prob looks like  torch.Size([631])\n",
            "torch.from_numpy(rewards) looks like  torch.Size([631])\n",
            "rewards looks like  (491,)\n",
            "logs prob looks like  torch.Size([491])\n",
            "torch.from_numpy(rewards) looks like  torch.Size([491])\n",
            "rewards looks like  (474,)\n",
            "logs prob looks like  torch.Size([474])\n",
            "torch.from_numpy(rewards) looks like  torch.Size([474])\n",
            "rewards looks like  (565,)\n",
            "logs prob looks like  torch.Size([565])\n",
            "torch.from_numpy(rewards) looks like  torch.Size([565])\n",
            "rewards looks like  (596,)\n",
            "logs prob looks like  torch.Size([596])\n",
            "torch.from_numpy(rewards) looks like  torch.Size([596])\n",
            "rewards looks like  (669,)\n",
            "logs prob looks like  torch.Size([669])\n",
            "torch.from_numpy(rewards) looks like  torch.Size([669])\n",
            "rewards looks like  (631,)\n",
            "logs prob looks like  torch.Size([631])\n",
            "torch.from_numpy(rewards) looks like  torch.Size([631])\n",
            "rewards looks like  (474,)\n",
            "logs prob looks like  torch.Size([474])\n",
            "torch.from_numpy(rewards) looks like  torch.Size([474])\n",
            "rewards looks like  (518,)\n",
            "logs prob looks like  torch.Size([518])\n",
            "torch.from_numpy(rewards) looks like  torch.Size([518])\n",
            "rewards looks like  (605,)\n",
            "logs prob looks like  torch.Size([605])\n",
            "torch.from_numpy(rewards) looks like  torch.Size([605])\n",
            "rewards looks like  (580,)\n",
            "logs prob looks like  torch.Size([580])\n",
            "torch.from_numpy(rewards) looks like  torch.Size([580])\n",
            "rewards looks like  (613,)\n",
            "logs prob looks like  torch.Size([613])\n",
            "torch.from_numpy(rewards) looks like  torch.Size([613])\n",
            "rewards looks like  (630,)\n",
            "logs prob looks like  torch.Size([630])\n",
            "torch.from_numpy(rewards) looks like  torch.Size([630])\n",
            "rewards looks like  (646,)\n",
            "logs prob looks like  torch.Size([646])\n",
            "torch.from_numpy(rewards) looks like  torch.Size([646])\n",
            "rewards looks like  (607,)\n",
            "logs prob looks like  torch.Size([607])\n",
            "torch.from_numpy(rewards) looks like  torch.Size([607])\n",
            "rewards looks like  (745,)\n",
            "logs prob looks like  torch.Size([745])\n",
            "torch.from_numpy(rewards) looks like  torch.Size([745])\n",
            "rewards looks like  (841,)\n",
            "logs prob looks like  torch.Size([841])\n",
            "torch.from_numpy(rewards) looks like  torch.Size([841])\n",
            "rewards looks like  (901,)\n",
            "logs prob looks like  torch.Size([901])\n",
            "torch.from_numpy(rewards) looks like  torch.Size([901])\n",
            "rewards looks like  (849,)\n",
            "logs prob looks like  torch.Size([849])\n",
            "torch.from_numpy(rewards) looks like  torch.Size([849])\n",
            "rewards looks like  (645,)\n",
            "logs prob looks like  torch.Size([645])\n",
            "torch.from_numpy(rewards) looks like  torch.Size([645])\n",
            "rewards looks like  (663,)\n",
            "logs prob looks like  torch.Size([663])\n",
            "torch.from_numpy(rewards) looks like  torch.Size([663])\n",
            "rewards looks like  (718,)\n",
            "logs prob looks like  torch.Size([718])\n",
            "torch.from_numpy(rewards) looks like  torch.Size([718])\n",
            "rewards looks like  (1589,)\n",
            "logs prob looks like  torch.Size([1589])\n",
            "torch.from_numpy(rewards) looks like  torch.Size([1589])\n",
            "rewards looks like  (659,)\n",
            "logs prob looks like  torch.Size([659])\n",
            "torch.from_numpy(rewards) looks like  torch.Size([659])\n",
            "rewards looks like  (825,)\n",
            "logs prob looks like  torch.Size([825])\n",
            "torch.from_numpy(rewards) looks like  torch.Size([825])\n",
            "rewards looks like  (725,)\n",
            "logs prob looks like  torch.Size([725])\n",
            "torch.from_numpy(rewards) looks like  torch.Size([725])\n",
            "rewards looks like  (741,)\n",
            "logs prob looks like  torch.Size([741])\n",
            "torch.from_numpy(rewards) looks like  torch.Size([741])\n",
            "rewards looks like  (843,)\n",
            "logs prob looks like  torch.Size([843])\n",
            "torch.from_numpy(rewards) looks like  torch.Size([843])\n",
            "rewards looks like  (849,)\n",
            "logs prob looks like  torch.Size([849])\n",
            "torch.from_numpy(rewards) looks like  torch.Size([849])\n",
            "rewards looks like  (1516,)\n",
            "logs prob looks like  torch.Size([1516])\n",
            "torch.from_numpy(rewards) looks like  torch.Size([1516])\n",
            "rewards looks like  (797,)\n",
            "logs prob looks like  torch.Size([797])\n",
            "torch.from_numpy(rewards) looks like  torch.Size([797])\n",
            "rewards looks like  (741,)\n",
            "logs prob looks like  torch.Size([741])\n",
            "torch.from_numpy(rewards) looks like  torch.Size([741])\n",
            "rewards looks like  (814,)\n",
            "logs prob looks like  torch.Size([814])\n",
            "torch.from_numpy(rewards) looks like  torch.Size([814])\n",
            "rewards looks like  (923,)\n",
            "logs prob looks like  torch.Size([923])\n",
            "torch.from_numpy(rewards) looks like  torch.Size([923])\n",
            "rewards looks like  (940,)\n",
            "logs prob looks like  torch.Size([940])\n",
            "torch.from_numpy(rewards) looks like  torch.Size([940])\n",
            "rewards looks like  (947,)\n",
            "logs prob looks like  torch.Size([947])\n",
            "torch.from_numpy(rewards) looks like  torch.Size([947])\n",
            "rewards looks like  (1717,)\n",
            "logs prob looks like  torch.Size([1717])\n",
            "torch.from_numpy(rewards) looks like  torch.Size([1717])\n",
            "rewards looks like  (1024,)\n",
            "logs prob looks like  torch.Size([1024])\n",
            "torch.from_numpy(rewards) looks like  torch.Size([1024])\n",
            "rewards looks like  (919,)\n",
            "logs prob looks like  torch.Size([919])\n",
            "torch.from_numpy(rewards) looks like  torch.Size([919])\n",
            "rewards looks like  (1015,)\n",
            "logs prob looks like  torch.Size([1015])\n",
            "torch.from_numpy(rewards) looks like  torch.Size([1015])\n",
            "rewards looks like  (893,)\n",
            "logs prob looks like  torch.Size([893])\n",
            "torch.from_numpy(rewards) looks like  torch.Size([893])\n",
            "rewards looks like  (1308,)\n",
            "logs prob looks like  torch.Size([1308])\n",
            "torch.from_numpy(rewards) looks like  torch.Size([1308])\n",
            "rewards looks like  (1027,)\n",
            "logs prob looks like  torch.Size([1027])\n",
            "torch.from_numpy(rewards) looks like  torch.Size([1027])\n",
            "rewards looks like  (945,)\n",
            "logs prob looks like  torch.Size([945])\n",
            "torch.from_numpy(rewards) looks like  torch.Size([945])\n",
            "rewards looks like  (925,)\n",
            "logs prob looks like  torch.Size([925])\n",
            "torch.from_numpy(rewards) looks like  torch.Size([925])\n",
            "rewards looks like  (1261,)\n",
            "logs prob looks like  torch.Size([1261])\n",
            "torch.from_numpy(rewards) looks like  torch.Size([1261])\n",
            "rewards looks like  (636,)\n",
            "logs prob looks like  torch.Size([636])\n",
            "torch.from_numpy(rewards) looks like  torch.Size([636])\n",
            "rewards looks like  (1765,)\n",
            "logs prob looks like  torch.Size([1765])\n",
            "torch.from_numpy(rewards) looks like  torch.Size([1765])\n",
            "rewards looks like  (1181,)\n",
            "logs prob looks like  torch.Size([1181])\n",
            "torch.from_numpy(rewards) looks like  torch.Size([1181])\n",
            "rewards looks like  (1855,)\n",
            "logs prob looks like  torch.Size([1855])\n",
            "torch.from_numpy(rewards) looks like  torch.Size([1855])\n",
            "rewards looks like  (894,)\n",
            "logs prob looks like  torch.Size([894])\n",
            "torch.from_numpy(rewards) looks like  torch.Size([894])\n",
            "rewards looks like  (920,)\n",
            "logs prob looks like  torch.Size([920])\n",
            "torch.from_numpy(rewards) looks like  torch.Size([920])\n",
            "rewards looks like  (821,)\n",
            "logs prob looks like  torch.Size([821])\n",
            "torch.from_numpy(rewards) looks like  torch.Size([821])\n",
            "rewards looks like  (939,)\n",
            "logs prob looks like  torch.Size([939])\n",
            "torch.from_numpy(rewards) looks like  torch.Size([939])\n"
          ]
        }
      ]
    },
    {
      "cell_type": "markdown",
      "metadata": {
        "id": "vNb_tuFYhKVK"
      },
      "source": [
        "### Training Result\n",
        "During the training process, we recorded `avg_total_reward`, which represents the average total reward of episodes before updating the policy network.\n",
        "\n",
        "Theoretically, if the agent becomes better, the `avg_total_reward` will increase.\n",
        "The visualization of the training process is shown below:  \n"
      ]
    },
    {
      "cell_type": "code",
      "metadata": {
        "id": "wZYOI8H10SHN",
        "colab": {
          "base_uri": "https://localhost:8080/",
          "height": 452
        },
        "outputId": "2951eb4e-1996-4382-f91c-a055b2ef5254"
      },
      "source": [
        "plt.plot(avg_total_rewards)\n",
        "plt.title(\"Total Rewards\")\n",
        "plt.show()"
      ],
      "execution_count": 34,
      "outputs": [
        {
          "output_type": "display_data",
          "data": {
            "text/plain": [
              "<Figure size 640x480 with 1 Axes>"
            ],
            "image/png": "[encoded data removed]"
          },
          "metadata": {}
        }
      ]
    },
    {
      "cell_type": "markdown",
      "metadata": {
        "id": "mV5jj4dThz0Y"
      },
      "source": [
        "In addition, `avg_final_reward` represents average final rewards of episodes. To be specific, final rewards is the last reward received in one episode, indicating whether the craft lands successfully or not.\n"
      ]
    },
    {
      "cell_type": "code",
      "metadata": {
        "id": "txDZ5vlGWz5w",
        "colab": {
          "base_uri": "https://localhost:8080/",
          "height": 452
        },
        "outputId": "4afbf3cc-3ebc-49c7-e012-01d8fd9e8b7e"
      },
      "source": [
        "plt.plot(avg_final_rewards)\n",
        "plt.title(\"Final Rewards\")\n",
        "plt.show()"
      ],
      "execution_count": 35,
      "outputs": [
        {
          "output_type": "display_data",
          "data": {
            "text/plain": [
              "<Figure size 640x480 with 1 Axes>"
            ],
            "image/png": "[encoded data removed]"
          },
          "metadata": {}
        }
      ]
    },
    {
      "cell_type": "markdown",
      "metadata": {
        "id": "u2HaGRVEYGQS"
      },
      "source": [
        "## Testing\n",
        "The testing result will be the average reward of 5 testing"
      ]
    },
    {
      "cell_type": "code",
      "metadata": {
        "id": "5yFuUKKRYH73",
        "colab": {
          "base_uri": "https://localhost:8080/",
          "height": 414
        },
        "outputId": "d41d0386-36e8-4e3f-8fcc-b28d6ed29a11"
      },
      "source": [
        "fix(env, seed)\n",
        "agent.network.eval()  # set the network into evaluation mode\n",
        "NUM_OF_TEST = 5 # Do not revise this !!!\n",
        "test_total_reward = []\n",
        "action_list = []\n",
        "for i in range(NUM_OF_TEST):\n",
        "  actions = []\n",
        "  state = env.reset()\n",
        "\n",
        "  img = plt.imshow(env.render(mode='rgb_array'))\n",
        "\n",
        "  total_reward = 0\n",
        "\n",
        "  done = False\n",
        "  while not done:\n",
        "      action, _ = agent.sample(state)\n",
        "      actions.append(action)\n",
        "      state, reward, done, _ = env.step(action)\n",
        "\n",
        "      total_reward += reward\n",
        "\n",
        "      img.set_data(env.render(mode='rgb_array'))\n",
        "      display.display(plt.gcf())\n",
        "      display.clear_output(wait=True)\n",
        "\n",
        "  print(total_reward)\n",
        "  test_total_reward.append(total_reward)\n",
        "\n",
        "  action_list.append(actions) # save the result of testing\n"
      ],
      "execution_count": 36,
      "outputs": [
        {
          "output_type": "stream",
          "name": "stdout",
          "text": [
            "-69.50413033150363\n"
          ]
        },
        {
          "output_type": "display_data",
          "data": {
            "text/plain": [
              "<Figure size 640x480 with 1 Axes>"
            ],
            "image/png": "[encoded data removed]"
          },
          "metadata": {}
        }
      ]
    },
    {
      "cell_type": "code",
      "metadata": {
        "id": "Aex7mcKr0J01",
        "colab": {
          "base_uri": "https://localhost:8080/"
        },
        "outputId": "6803239b-74c0-482c-8d2a-e0fc4f8234f0"
      },
      "source": [
        "print(np.mean(test_total_reward))"
      ],
      "execution_count": 37,
      "outputs": [
        {
          "output_type": "stream",
          "name": "stdout",
          "text": [
            "-76.39676871253315\n"
          ]
        }
      ]
    },
    {
      "cell_type": "markdown",
      "metadata": {
        "id": "leyebGYRpqsF"
      },
      "source": [
        "Action list"
      ]
    },
    {
      "cell_type": "code",
      "metadata": {
        "id": "hGAH4YWDpp4u",
        "colab": {
          "base_uri": "https://localhost:8080/"
        },
        "outputId": "d97ae889-7de0-4816-d538-155adbb27880"
      },
      "source": [
        "print(\"Action list looks like \", action_list)\n",
        "print(\"Action list's shape looks like \", np.shape(action_list))"
      ],
      "execution_count": 38,
      "outputs": [
        {
          "output_type": "stream",
          "name": "stdout",
          "text": [
            "Action list looks like  [[3, 3, 3, 3, 3, 3, 3, 2, 2, 3, 0, 3, 2, 2, 2, 3, 2, 2, 3, 2, 2, 3, 2, 2, 1, 3, 2, 1, 2, 2, 1, 2, 3, 1, 3, 2, 2, 2, 2, 1, 2, 2, 1, 2, 1, 1, 1, 1, 2, 2, 1, 2, 2, 0, 2, 2, 2, 1, 2, 2, 1, 1, 2, 1, 1, 2, 1, 1, 2, 2, 0, 1, 1, 1, 1, 2, 1, 2, 2, 1, 1, 2, 2, 2, 2, 1, 2, 1, 1, 1, 1, 2, 2, 2, 2, 2, 2, 1, 2, 2, 2, 2, 2, 2, 2, 2, 3, 2, 3, 3, 3, 3, 1, 2, 3, 3, 2, 3, 2, 3, 2, 3, 3, 3, 3, 3, 3, 2, 0, 3, 2, 0, 2, 3, 3, 3, 0, 3, 2, 3, 3, 3, 2, 3, 3, 3, 2, 3, 3, 3, 3, 3, 3, 3, 3, 2, 2, 2, 3, 2, 3, 3, 3, 3], [3, 2, 2, 2, 3, 3, 2, 3, 2, 2, 2, 2, 2, 2, 2, 2, 2, 2, 2, 2, 2, 2, 1, 0, 2, 2, 2, 2, 0, 1, 2, 2, 2, 2, 2, 0, 2, 3, 2, 2, 2, 0, 2, 1, 0, 2, 3, 2, 2, 2, 3, 3, 2, 2, 1, 2, 2, 2, 1, 2, 2, 1, 0, 2, 1, 2, 2, 1, 1, 2, 1, 2, 2, 2, 2, 1, 1, 2, 1, 1, 2, 1, 1, 1, 2, 0, 1, 1, 1, 2, 2, 1, 1, 0, 2, 1, 1, 3, 2, 2, 0, 1, 2, 3, 2, 1, 2, 2, 2, 2, 2, 2, 1, 2, 3, 2, 2, 3, 2, 2, 2, 2, 3, 3, 2, 2, 2, 2, 3, 3, 2, 3, 3, 3, 2, 3, 3, 2, 3, 3, 3, 2, 3, 3, 3, 3, 3, 3, 3, 2, 2, 3, 3, 3, 3, 2, 3, 3, 3, 3, 3, 3, 3, 3, 3, 3, 3, 3, 3, 3, 3, 3, 3, 3, 3, 3, 3, 3, 3, 3, 2, 3, 3, 2], [2, 3, 2, 3, 2, 3, 3, 2, 2, 3, 1, 2, 2, 0, 3, 3, 2, 3, 3, 3, 2, 2, 3, 2, 2, 0, 2, 2, 2, 3, 2, 3, 2, 2, 2, 3, 2, 3, 2, 2, 3, 1, 0, 2, 2, 2, 2, 2, 0, 2, 1, 2, 2, 2, 2, 0, 1, 1, 1, 2, 2, 2, 2, 2, 1, 1, 0, 3, 1, 1, 2, 1, 1, 2, 1, 2, 2, 2, 1, 1, 2, 1, 1, 2, 1, 1, 2, 1, 2, 2, 1, 2, 1, 2, 2, 1, 2, 1, 2, 2, 1, 2, 1, 1, 2, 2, 2, 2, 2, 2, 2, 1, 2, 2, 2, 3, 2, 2, 3, 3, 2, 0, 0, 3, 2, 2, 3, 2, 2, 3, 2, 3, 3, 0, 3, 3, 3, 3, 3, 3, 3, 3, 3, 3, 3, 2, 3, 3, 3, 3, 3, 3, 3, 2, 3, 3, 3, 3, 3, 2, 0, 2, 3, 2, 3, 2, 2, 2, 3, 2, 2, 3, 2, 3, 2, 3, 3, 2, 2, 3], [2, 2, 2, 3, 2, 2, 2, 3, 2, 2, 3, 3, 3, 3, 2, 0, 2, 2, 2, 3, 3, 2, 2, 1, 1, 2, 3, 2, 2, 2, 3, 0, 0, 2, 2, 3, 2, 1, 2, 2, 0, 2, 2, 3, 2, 1, 2, 2, 2, 2, 2, 2, 2, 0, 2, 1, 3, 2, 1, 0, 1, 2, 1, 1, 1, 1, 1, 1, 2, 2, 0, 1, 2, 2, 2, 2, 2, 0, 1, 1, 1, 2, 2, 1, 2, 1, 1, 1, 2, 2, 1, 1, 2, 2, 1, 2, 2, 1, 2, 2, 2, 1, 1, 1, 2, 2, 2, 2, 1, 2, 1, 1, 1, 1], [2, 2, 2, 0, 2, 1, 3, 3, 2, 2, 0, 2, 2, 3, 2, 0, 1, 2, 2, 2, 1, 1, 2, 2, 1, 1, 1, 2, 1, 1, 3, 2, 2, 1, 1, 2, 3, 2, 2, 2, 2, 3, 2, 1, 2, 3, 2, 0, 2, 2, 2, 2, 2, 2, 2, 2, 3, 2, 2, 3, 2, 1, 3, 3, 3, 3, 2, 3, 2, 3, 2, 1, 3, 2, 2, 3, 3, 2, 2, 2, 3, 3, 3, 2, 2, 2, 2, 3, 2, 3, 1, 2, 2, 2, 2, 1, 1, 3, 2, 1, 2, 2, 1, 2, 2, 0, 2, 1, 2, 2, 2, 2, 0, 3, 2, 1, 1, 1, 2, 2, 2, 2, 2, 1, 1, 2, 1, 1, 2, 1, 1, 1, 1, 2, 2, 1, 2, 2, 2, 1, 2, 2, 1, 2, 2, 2, 2, 1, 1, 0, 2, 2, 1, 2, 2, 2, 1, 0, 2, 2, 2, 2, 2, 2, 3, 3, 2, 3, 3, 2, 3, 2, 2, 2, 3, 2, 2, 2, 3, 3, 2, 2, 3, 3, 3, 3, 3, 3, 2, 3, 3, 3, 2, 3, 2, 3, 3, 3, 2, 3, 2, 0, 3, 3, 3, 2, 3, 3, 3, 2, 2, 3, 2, 3, 2, 3, 3, 0, 2, 2, 3, 2, 3, 2, 3, 2, 2, 3]]\n",
            "Action list's shape looks like  (5,)\n"
          ]
        },
        {
          "output_type": "stream",
          "name": "stderr",
          "text": [
            "/usr/local/lib/python3.10/dist-packages/numpy/core/fromnumeric.py:2007: VisibleDeprecationWarning: Creating an ndarray from ragged nested sequences (which is a list-or-tuple of lists-or-tuples-or ndarrays with different lengths or shapes) is deprecated. If you meant to do this, you must specify 'dtype=object' when creating the ndarray.\n",
            "  result = asarray(a).shape\n"
          ]
        }
      ]
    },
    {
      "cell_type": "markdown",
      "metadata": {
        "id": "fNkmwucrHMen"
      },
      "source": [
        "Analysis of actions taken by agent"
      ]
    },
    {
      "cell_type": "code",
      "metadata": {
        "id": "WHdAItjj1nxw",
        "colab": {
          "base_uri": "https://localhost:8080/"
        },
        "outputId": "229abfea-f034-4a71-f360-b8329a5c8a69"
      },
      "source": [
        "distribution = {}\n",
        "for actions in action_list:\n",
        "  for action in actions:\n",
        "    if action not in distribution.keys():\n",
        "      distribution[action] = 1\n",
        "    else:\n",
        "      distribution[action] += 1\n",
        "print(distribution)"
      ],
      "execution_count": 39,
      "outputs": [
        {
          "output_type": "stream",
          "name": "stdout",
          "text": [
            "{3: 245, 2: 424, 0: 43, 1: 158}\n"
          ]
        }
      ]
    },
    {
      "cell_type": "markdown",
      "metadata": {
        "id": "ricE0schY75M"
      },
      "source": [
        "Saving the result of Model Testing\n"
      ]
    },
    {
      "cell_type": "code",
      "metadata": {
        "id": "GZsMkGmIY42b",
        "colab": {
          "base_uri": "https://localhost:8080/"
        },
        "outputId": "75195a0a-5f3e-4c8c-ec7f-d4e98068f623"
      },
      "source": [
        "PATH = \"Action_List.npy\" # Can be modified into the name or path you want\n",
        "np.save(PATH ,np.array(action_list))"
      ],
      "execution_count": 40,
      "outputs": [
        {
          "output_type": "stream",
          "name": "stderr",
          "text": [
            "<ipython-input-40-0cd63aefc5d4>:2: VisibleDeprecationWarning: Creating an ndarray from ragged nested sequences (which is a list-or-tuple of lists-or-tuples-or ndarrays with different lengths or shapes) is deprecated. If you meant to do this, you must specify 'dtype=object' when creating the ndarray.\n",
            "  np.save(PATH ,np.array(action_list))\n"
          ]
        }
      ]
    },
    {
      "cell_type": "markdown",
      "metadata": {
        "id": "asK7WfbkaLjt"
      },
      "source": [
        "### This is the file you need to submit !!!\n",
        "Download the testing result to your device\n",
        "\n"
      ]
    },
    {
      "cell_type": "code",
      "metadata": {
        "id": "c-CqyhHzaWAL",
        "colab": {
          "base_uri": "https://localhost:8080/",
          "height": 17
        },
        "outputId": "d492cd1f-d843-4eb8-9a4a-b3bd6eae04d9"
      },
      "source": [
        "from google.colab import files\n",
        "files.download(PATH)"
      ],
      "execution_count": null,
      "outputs": [
        {
          "output_type": "display_data",
          "data": {
            "text/plain": [
              "<IPython.core.display.Javascript object>"
            ],
            "application/javascript": [
              "\n",
              "    async function download(id, filename, size) {\n",
              "      if (!google.colab.kernel.accessAllowed) {\n",
              "        return;\n",
              "      }\n",
              "      const div = document.createElement('div');\n",
              "      const label = document.createElement('label');\n",
              "      label.textContent = `Downloading \"${filename}\": `;\n",
              "      div.appendChild(label);\n",
              "      const progress = document.createElement('progress');\n",
              "      progress.max = size;\n",
              "      div.appendChild(progress);\n",
              "      document.body.appendChild(div);\n",
              "\n",
              "      const buffers = [];\n",
              "      let downloaded = 0;\n",
              "\n",
              "      const channel = await google.colab.kernel.comms.open(id);\n",
              "      // Send a message to notify the kernel that we're ready.\n",
              "      channel.send({})\n",
              "\n",
              "      for await (const message of channel.messages) {\n",
              "        // Send a message to notify the kernel that we're ready.\n",
              "        channel.send({})\n",
              "        if (message.buffers) {\n",
              "          for (const buffer of message.buffers) {\n",
              "            buffers.push(buffer);\n",
              "            downloaded += buffer.byteLength;\n",
              "            progress.value = downloaded;\n",
              "          }\n",
              "        }\n",
              "      }\n",
              "      const blob = new Blob(buffers, {type: 'application/binary'});\n",
              "      const a = document.createElement('a');\n",
              "      a.href = window.URL.createObjectURL(blob);\n",
              "      a.download = filename;\n",
              "      div.appendChild(a);\n",
              "      a.click();\n",
              "      div.remove();\n",
              "    }\n",
              "  "
            ]
          },
          "metadata": {}
        },
        {
          "output_type": "display_data",
          "data": {
            "text/plain": [
              "<IPython.core.display.Javascript object>"
            ],
            "application/javascript": [
              "download(\"download_1a8e7903-a12b-4522-a66b-8b66c7299980\", \"Action_List.npy\", 2293)"
            ]
          },
          "metadata": {}
        }
      ]
    },
    {
      "cell_type": "markdown",
      "metadata": {
        "id": "seT4NUmWmAZ1"
      },
      "source": [
        "# Server\n",
        "The code below simulate the environment on the judge server. Can be used for testing."
      ]
    },
    {
      "cell_type": "code",
      "metadata": {
        "id": "U69c-YTxaw6b",
        "colab": {
          "base_uri": "https://localhost:8080/",
          "height": 487
        },
        "outputId": "4c81d988-2a45-4159-f9fb-b985617b6dd3"
      },
      "source": [
        "action_list = np.load(PATH,allow_pickle=True) # The action list you upload\n",
        "seed = 2023 # Do not revise this\n",
        "fix(env, seed)\n",
        "\n",
        "agent.network.eval()  # set network to evaluation mode\n",
        "\n",
        "test_total_reward = []\n",
        "if len(action_list) != 5:\n",
        "  print(\"Wrong format of file !!!\")\n",
        "  exit(0)\n",
        "for actions in action_list:\n",
        "  state = env.reset()\n",
        "  img = plt.imshow(env.render(mode='rgb_array'))\n",
        "\n",
        "  total_reward = 0\n",
        "\n",
        "  done = False\n",
        "\n",
        "  for action in actions:\n",
        "\n",
        "      state, reward, done, _ = env.step(action)\n",
        "      total_reward += reward\n",
        "      if done:\n",
        "        break\n",
        "\n",
        "  print(f\"Your reward is : %.2f\"%total_reward)\n",
        "  test_total_reward.append(total_reward)"
      ],
      "execution_count": 41,
      "outputs": [
        {
          "output_type": "stream",
          "name": "stdout",
          "text": [
            "Your reward is : -78.18\n",
            "Your reward is : -183.25\n",
            "Your reward is : -44.41\n",
            "Your reward is : -6.63\n",
            "Your reward is : -69.50\n"
          ]
        },
        {
          "output_type": "display_data",
          "data": {
            "text/plain": [
              "<Figure size 640x480 with 1 Axes>"
            ],
            "image/png": "[encoded data removed]"
          },
          "metadata": {}
        }
      ]
    },
    {
      "cell_type": "markdown",
      "metadata": {
        "id": "TjFBWwQP1hVe"
      },
      "source": [
        "# Your score"
      ]
    },
    {
      "cell_type": "code",
      "metadata": {
        "id": "GpJpZz3Wbm0X",
        "colab": {
          "base_uri": "https://localhost:8080/"
        },
        "outputId": "ad4efe23-da40-4c54-b210-d96b5d941878"
      },
      "source": [
        "print(f\"Your final reward is : %.2f\"%np.mean(test_total_reward))"
      ],
      "execution_count": 42,
      "outputs": [
        {
          "output_type": "stream",
          "name": "stdout",
          "text": [
            "Your final reward is : -76.40\n"
          ]
        }
      ]
    },
    {
      "cell_type": "markdown",
      "metadata": {
        "id": "wUBtYXG2eaqf"
      },
      "source": [
        "## Reference\n",
        "\n",
        "Below are some useful tips for you to get high score.\n",
        "\n",
        "- [DRL Lecture 1: Policy Gradient (Review)](https://youtu.be/z95ZYgPgXOY)\n",
        "- [ML Lecture 23-3: Reinforcement Learning (including Q-learning) start at 30:00](https://youtu.be/2-JNBzCq77c?t=1800)\n",
        "- [Lecture 7: Policy Gradient, David Silver](http://www0.cs.ucl.ac.uk/staff/d.silver/web/Teaching_files/pg.pdf)\n"
      ]
    }
  ]
}