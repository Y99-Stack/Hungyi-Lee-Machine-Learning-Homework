{
  "nbformat": 4,
  "nbformat_minor": 0,
  "metadata": {
    "colab": {
      "provenance": []
    },
    "kernelspec": {
      "display_name": "Python 3",
      "name": "python3"
    },
    "gpuClass": "standard",
    "widgets": {
      "application/vnd.jupyter.widget-state+json": {
        "ac792be9a91f48938deb20b6d445a2b8": {
          "model_module": "@jupyter-widgets/controls",
          "model_name": "HBoxModel",
          "model_module_version": "1.5.0",
          "state": {
            "_dom_classes": [],
            "_model_module": "@jupyter-widgets/controls",
            "_model_module_version": "1.5.0",
            "_model_name": "HBoxModel",
            "_view_count": null,
            "_view_module": "@jupyter-widgets/controls",
            "_view_module_version": "1.5.0",
            "_view_name": "HBoxView",
            "box_style": "",
            "children": [
              "IPY_MODEL_3f173a63f91d4a7b8c82c75a35f18a29",
              "IPY_MODEL_dbd9e922593c4f35a58f974ecab7c6b2",
              "IPY_MODEL_d192ae55293f417c91f6230da1cc6d7c"
            ],
            "layout": "IPY_MODEL_616e9d1b272e4ce8bb4ef173cc76e07c"
          }
        },
        "3f173a63f91d4a7b8c82c75a35f18a29": {
          "model_module": "@jupyter-widgets/controls",
          "model_name": "HTMLModel",
          "model_module_version": "1.5.0",
          "state": {
            "_dom_classes": [],
            "_model_module": "@jupyter-widgets/controls",
            "_model_module_version": "1.5.0",
            "_model_name": "HTMLModel",
            "_view_count": null,
            "_view_module": "@jupyter-widgets/controls",
            "_view_module_version": "1.5.0",
            "_view_name": "HTMLView",
            "description": "",
            "description_tooltip": null,
            "layout": "IPY_MODEL_3fa9ae2ef5c9449fb711ebcf36f01799",
            "placeholder": "​",
            "style": "IPY_MODEL_b98950f8d01d487c9138943c30ebef73",
            "value": "Total:  65.5, Final: -40.0: 100%"
          }
        },
        "dbd9e922593c4f35a58f974ecab7c6b2": {
          "model_module": "@jupyter-widgets/controls",
          "model_name": "FloatProgressModel",
          "model_module_version": "1.5.0",
          "state": {
            "_dom_classes": [],
            "_model_module": "@jupyter-widgets/controls",
            "_model_module_version": "1.5.0",
            "_model_name": "FloatProgressModel",
            "_view_count": null,
            "_view_module": "@jupyter-widgets/controls",
            "_view_module_version": "1.5.0",
            "_view_name": "ProgressView",
            "bar_style": "success",
            "description": "",
            "description_tooltip": null,
            "layout": "IPY_MODEL_2e24be564a4148849309132361faa330",
            "max": 400,
            "min": 0,
            "orientation": "horizontal",
            "style": "IPY_MODEL_0824a252de3e442f8107ed5e72c12192",
            "value": 400
          }
        },
        "d192ae55293f417c91f6230da1cc6d7c": {
          "model_module": "@jupyter-widgets/controls",
          "model_name": "HTMLModel",
          "model_module_version": "1.5.0",
          "state": {
            "_dom_classes": [],
            "_model_module": "@jupyter-widgets/controls",
            "_model_module_version": "1.5.0",
            "_model_name": "HTMLModel",
            "_view_count": null,
            "_view_module": "@jupyter-widgets/controls",
            "_view_module_version": "1.5.0",
            "_view_name": "HTMLView",
            "description": "",
            "description_tooltip": null,
            "layout": "IPY_MODEL_a370255a6a2c41249c2e3c47dff68ab7",
            "placeholder": "​",
            "style": "IPY_MODEL_9a80086ea42f4a458f34dbf1af28a3d0",
            "value": " 400/400 [23:53&lt;00:00, 10.76s/it]"
          }
        },
        "616e9d1b272e4ce8bb4ef173cc76e07c": {
          "model_module": "@jupyter-widgets/base",
          "model_name": "LayoutModel",
          "model_module_version": "1.2.0",
          "state": {
            "_model_module": "@jupyter-widgets/base",
            "_model_module_version": "1.2.0",
            "_model_name": "LayoutModel",
            "_view_count": null,
            "_view_module": "@jupyter-widgets/base",
            "_view_module_version": "1.2.0",
            "_view_name": "LayoutView",
            "align_content": null,
            "align_items": null,
            "align_self": null,
            "border": null,
            "bottom": null,
            "display": null,
            "flex": null,
            "flex_flow": null,
            "grid_area": null,
            "grid_auto_columns": null,
            "grid_auto_flow": null,
            "grid_auto_rows": null,
            "grid_column": null,
            "grid_gap": null,
            "grid_row": null,
            "grid_template_areas": null,
            "grid_template_columns": null,
            "grid_template_rows": null,
            "height": null,
            "justify_content": null,
            "justify_items": null,
            "left": null,
            "margin": null,
            "max_height": null,
            "max_width": null,
            "min_height": null,
            "min_width": null,
            "object_fit": null,
            "object_position": null,
            "order": null,
            "overflow": null,
            "overflow_x": null,
            "overflow_y": null,
            "padding": null,
            "right": null,
            "top": null,
            "visibility": null,
            "width": null
          }
        },
        "3fa9ae2ef5c9449fb711ebcf36f01799": {
          "model_module": "@jupyter-widgets/base",
          "model_name": "LayoutModel",
          "model_module_version": "1.2.0",
          "state": {
            "_model_module": "@jupyter-widgets/base",
            "_model_module_version": "1.2.0",
            "_model_name": "LayoutModel",
            "_view_count": null,
            "_view_module": "@jupyter-widgets/base",
            "_view_module_version": "1.2.0",
            "_view_name": "LayoutView",
            "align_content": null,
            "align_items": null,
            "align_self": null,
            "border": null,
            "bottom": null,
            "display": null,
            "flex": null,
            "flex_flow": null,
            "grid_area": null,
            "grid_auto_columns": null,
            "grid_auto_flow": null,
            "grid_auto_rows": null,
            "grid_column": null,
            "grid_gap": null,
            "grid_row": null,
            "grid_template_areas": null,
            "grid_template_columns": null,
            "grid_template_rows": null,
            "height": null,
            "justify_content": null,
            "justify_items": null,
            "left": null,
            "margin": null,
            "max_height": null,
            "max_width": null,
            "min_height": null,
            "min_width": null,
            "object_fit": null,
            "object_position": null,
            "order": null,
            "overflow": null,
            "overflow_x": null,
            "overflow_y": null,
            "padding": null,
            "right": null,
            "top": null,
            "visibility": null,
            "width": null
          }
        },
        "b98950f8d01d487c9138943c30ebef73": {
          "model_module": "@jupyter-widgets/controls",
          "model_name": "DescriptionStyleModel",
          "model_module_version": "1.5.0",
          "state": {
            "_model_module": "@jupyter-widgets/controls",
            "_model_module_version": "1.5.0",
            "_model_name": "DescriptionStyleModel",
            "_view_count": null,
            "_view_module": "@jupyter-widgets/base",
            "_view_module_version": "1.2.0",
            "_view_name": "StyleView",
            "description_width": ""
          }
        },
        "2e24be564a4148849309132361faa330": {
          "model_module": "@jupyter-widgets/base",
          "model_name": "LayoutModel",
          "model_module_version": "1.2.0",
          "state": {
            "_model_module": "@jupyter-widgets/base",
            "_model_module_version": "1.2.0",
            "_model_name": "LayoutModel",
            "_view_count": null,
            "_view_module": "@jupyter-widgets/base",
            "_view_module_version": "1.2.0",
            "_view_name": "LayoutView",
            "align_content": null,
            "align_items": null,
            "align_self": null,
            "border": null,
            "bottom": null,
            "display": null,
            "flex": null,
            "flex_flow": null,
            "grid_area": null,
            "grid_auto_columns": null,
            "grid_auto_flow": null,
            "grid_auto_rows": null,
            "grid_column": null,
            "grid_gap": null,
            "grid_row": null,
            "grid_template_areas": null,
            "grid_template_columns": null,
            "grid_template_rows": null,
            "height": null,
            "justify_content": null,
            "justify_items": null,
            "left": null,
            "margin": null,
            "max_height": null,
            "max_width": null,
            "min_height": null,
            "min_width": null,
            "object_fit": null,
            "object_position": null,
            "order": null,
            "overflow": null,
            "overflow_x": null,
            "overflow_y": null,
            "padding": null,
            "right": null,
            "top": null,
            "visibility": null,
            "width": null
          }
        },
        "0824a252de3e442f8107ed5e72c12192": {
          "model_module": "@jupyter-widgets/controls",
          "model_name": "ProgressStyleModel",
          "model_module_version": "1.5.0",
          "state": {
            "_model_module": "@jupyter-widgets/controls",
            "_model_module_version": "1.5.0",
            "_model_name": "ProgressStyleModel",
            "_view_count": null,
            "_view_module": "@jupyter-widgets/base",
            "_view_module_version": "1.2.0",
            "_view_name": "StyleView",
            "bar_color": null,
            "description_width": ""
          }
        },
        "a370255a6a2c41249c2e3c47dff68ab7": {
          "model_module": "@jupyter-widgets/base",
          "model_name": "LayoutModel",
          "model_module_version": "1.2.0",
          "state": {
            "_model_module": "@jupyter-widgets/base",
            "_model_module_version": "1.2.0",
            "_model_name": "LayoutModel",
            "_view_count": null,
            "_view_module": "@jupyter-widgets/base",
            "_view_module_version": "1.2.0",
            "_view_name": "LayoutView",
            "align_content": null,
            "align_items": null,
            "align_self": null,
            "border": null,
            "bottom": null,
            "display": null,
            "flex": null,
            "flex_flow": null,
            "grid_area": null,
            "grid_auto_columns": null,
            "grid_auto_flow": null,
            "grid_auto_rows": null,
            "grid_column": null,
            "grid_gap": null,
            "grid_row": null,
            "grid_template_areas": null,
            "grid_template_columns": null,
            "grid_template_rows": null,
            "height": null,
            "justify_content": null,
            "justify_items": null,
            "left": null,
            "margin": null,
            "max_height": null,
            "max_width": null,
            "min_height": null,
            "min_width": null,
            "object_fit": null,
            "object_position": null,
            "order": null,
            "overflow": null,
            "overflow_x": null,
            "overflow_y": null,
            "padding": null,
            "right": null,
            "top": null,
            "visibility": null,
            "width": null
          }
        },
        "9a80086ea42f4a458f34dbf1af28a3d0": {
          "model_module": "@jupyter-widgets/controls",
          "model_name": "DescriptionStyleModel",
          "model_module_version": "1.5.0",
          "state": {
            "_model_module": "@jupyter-widgets/controls",
            "_model_module_version": "1.5.0",
            "_model_name": "DescriptionStyleModel",
            "_view_count": null,
            "_view_module": "@jupyter-widgets/base",
            "_view_module_version": "1.2.0",
            "_view_name": "StyleView",
            "description_width": ""
          }
        }
      }
    }
  },
  "cells": [
    {
      "cell_type": "markdown",
      "metadata": {
        "id": "Fp30SB4bxeQb"
      },
      "source": [
        "# **Homework 12 - Reinforcement Learning**\n",
        "\n",
        "If you have any problem, e-mail us at mlta-2023-spring@googlegroups.com\n",
        "\n"
      ]
    },
    {
      "cell_type": "markdown",
      "metadata": {
        "id": "yXsnCWPtWSNk"
      },
      "source": [
        "## Preliminary work\n",
        "\n",
        "First, we need to install all necessary packages.\n",
        "One of them, gym, builded by OpenAI, is a toolkit for developing Reinforcement Learning algorithm. Other packages are for visualization in colab."
      ]
    },
    {
      "cell_type": "code",
      "metadata": {
        "colab": {
          "base_uri": "https://localhost:8080/"
        },
        "id": "5e2bScpnkVbv",
        "outputId": "13b71afc-6a89-4470-bf67-4ac33e60efa1"
      },
      "source": [
        "!apt update\n",
        "!apt install python3-opengl xvfb -y\n",
        "!pip install -q swig\n",
        "!pip install box2d==2.3.2 gym[box2d]==0.25.2 box2d-py pyvirtualdisplay tqdm numpy==1.22.4\n",
        "!pip install box2d==2.3.2 box2d-kengz\n",
        "!pip freeze > requirements.txt\n"
      ],
      "execution_count": 76,
      "outputs": [
        {
          "output_type": "stream",
          "name": "stdout",
          "text": [
            "\u001b[33m\r0% [Working]\u001b[0m\r            \rHit:1 https://cloud.r-project.org/bin/linux/ubuntu jammy-cran40/ InRelease\n",
            "\u001b[33m\r0% [Connecting to archive.ubuntu.com] [Connecting to security.ubuntu.com] [Connected to r2u.stat.ill\u001b[0m\r                                                                                                    \rHit:2 https://developer.download.nvidia.com/compute/cuda/repos/ubuntu2204/x86_64  InRelease\n",
            "Ign:3 https://r2u.stat.illinois.edu/ubuntu jammy InRelease\n",
            "Hit:4 https://r2u.stat.illinois.edu/ubuntu jammy Release\n",
            "Hit:5 http://security.ubuntu.com/ubuntu jammy-security InRelease\n",
            "Hit:6 http://archive.ubuntu.com/ubuntu jammy InRelease\n",
            "Hit:8 http://archive.ubuntu.com/ubuntu jammy-updates InRelease\n",
            "Hit:9 http://archive.ubuntu.com/ubuntu jammy-backports InRelease\n",
            "Hit:10 https://ppa.launchpadcontent.net/deadsnakes/ppa/ubuntu jammy InRelease\n",
            "Hit:11 https://ppa.launchpadcontent.net/graphics-drivers/ppa/ubuntu jammy InRelease\n",
            "Hit:12 https://ppa.launchpadcontent.net/ubuntugis/ppa/ubuntu jammy InRelease\n",
            "Reading package lists... Done\n",
            "Building dependency tree... Done\n",
            "Reading state information... Done\n",
            "51 packages can be upgraded. Run 'apt list --upgradable' to see them.\n",
            "\u001b[1;33mW: \u001b[0mSkipping acquire of configured file 'main/source/Sources' as repository 'https://r2u.stat.illinois.edu/ubuntu jammy InRelease' does not seem to provide it (sources.list entry misspelt?)\u001b[0m\n",
            "Reading package lists... Done\n",
            "Building dependency tree... Done\n",
            "Reading state information... Done\n",
            "python3-opengl is already the newest version (3.1.5+dfsg-1).\n",
            "xvfb is already the newest version (2:21.1.4-2ubuntu1.7~22.04.11).\n",
            "0 upgraded, 0 newly installed, 0 to remove and 51 not upgraded.\n",
            "Requirement already satisfied: box2d==2.3.2 in /usr/local/lib/python3.10/dist-packages (2.3.2)\n",
            "Requirement already satisfied: gym==0.25.2 in /usr/local/lib/python3.10/dist-packages (from gym[box2d]==0.25.2) (0.25.2)\n",
            "Requirement already satisfied: box2d-py in /usr/local/lib/python3.10/dist-packages (2.3.5)\n",
            "Requirement already satisfied: pyvirtualdisplay in /usr/local/lib/python3.10/dist-packages (3.0)\n",
            "Requirement already satisfied: tqdm in /usr/local/lib/python3.10/dist-packages (4.66.5)\n",
            "Requirement already satisfied: numpy==1.22.4 in /usr/local/lib/python3.10/dist-packages (1.22.4)\n",
            "Requirement already satisfied: cloudpickle>=1.2.0 in /usr/local/lib/python3.10/dist-packages (from gym==0.25.2->gym[box2d]==0.25.2) (2.2.1)\n",
            "Requirement already satisfied: gym-notices>=0.0.4 in /usr/local/lib/python3.10/dist-packages (from gym==0.25.2->gym[box2d]==0.25.2) (0.0.8)\n",
            "Requirement already satisfied: pygame==2.1.0 in /usr/local/lib/python3.10/dist-packages (from gym[box2d]==0.25.2) (2.1.0)\n",
            "Requirement already satisfied: swig==4.* in /usr/local/lib/python3.10/dist-packages (from gym[box2d]==0.25.2) (4.2.1)\n",
            "Requirement already satisfied: box2d==2.3.2 in /usr/local/lib/python3.10/dist-packages (2.3.2)\n",
            "Requirement already satisfied: box2d-kengz in /usr/local/lib/python3.10/dist-packages (2.3.3)\n"
          ]
        }
      ]
    },
    {
      "cell_type": "markdown",
      "metadata": {
        "id": "M_-i3cdoYsks"
      },
      "source": [
        "\n",
        "Next, set up virtual display，and import all necessaary packages."
      ]
    },
    {
      "cell_type": "code",
      "metadata": {
        "id": "nl2nREINDLiw"
      },
      "source": [
        "%%capture\n",
        "from pyvirtualdisplay import Display\n",
        "virtual_display = Display(visible=0, size=(1400, 900))\n",
        "virtual_display.start()\n",
        "\n",
        "%matplotlib inline\n",
        "import matplotlib.pyplot as plt\n",
        "\n",
        "from IPython import display\n",
        "\n",
        "import numpy as np\n",
        "import torch\n",
        "import torch.nn as nn\n",
        "import torch.optim as optim\n",
        "import torch.nn.functional as F\n",
        "from torch.distributions import Categorical\n",
        "from tqdm.notebook import tqdm"
      ],
      "execution_count": 77,
      "outputs": []
    },
    {
      "cell_type": "markdown",
      "metadata": {
        "id": "CaEJ8BUCpN9P"
      },
      "source": [
        "# Warning ! Do not revise random seed !!!\n",
        "# Your submission on JudgeBoi will not reproduce your result !!!\n",
        "Make your HW result to be reproducible.\n"
      ]
    },
    {
      "cell_type": "code",
      "metadata": {
        "id": "fV9i8i2YkRbO",
        "colab": {
          "base_uri": "https://localhost:8080/"
        },
        "outputId": "e2369f21-4f7d-42a2-b624-8b79b2732c18"
      },
      "source": [
        "seed = 2023 # Do not change this\n",
        "def fix(env, seed):\n",
        "  env.seed(seed)\n",
        "  env.action_space.seed(seed)\n",
        "  torch.backends.cudnn.deterministic = True\n",
        "  torch.backends.cudnn.benchmark = False\n",
        "  np.random.seed(seed)\n",
        "  torch.manual_seed(seed)\n",
        "  if torch.cuda.is_available():\n",
        "      torch.cuda.manual_seed_all(seed)"
      ],
      "execution_count": 78,
      "outputs": [
        {
          "output_type": "stream",
          "name": "stderr",
          "text": [
            "/usr/local/lib/python3.10/dist-packages/ipykernel/ipkernel.py:283: DeprecationWarning: `should_run_async` will not call `transform_cell` automatically in the future. Please pass the result to `transformed_cell` argument and any exception that happen during thetransform in `preprocessing_exc_tuple` in IPython 7.17 and above.\n",
            "  and should_run_async(code)\n"
          ]
        }
      ]
    },
    {
      "cell_type": "markdown",
      "metadata": {
        "id": "He0XDx6bzjgC"
      },
      "source": [
        "Last, call gym and build an [Lunar Lander](https://gymnasium.farama.org/content/migration-guide/) environment."
      ]
    },
    {
      "cell_type": "code",
      "metadata": {
        "id": "N_4-xJcbBt09"
      },
      "source": [
        "%%capture\n",
        "import gym\n",
        "import random\n",
        "env = gym.make('LunarLander-v2')\n",
        "fix(env, seed) # fix the environment Do not revise this !!!"
      ],
      "execution_count": 79,
      "outputs": []
    },
    {
      "cell_type": "markdown",
      "metadata": {
        "id": "NrkVvTrvWZ5H"
      },
      "source": [
        "## What Lunar Lander？\n",
        "\n",
        "“LunarLander-v2”is to simulate the situation when the craft lands on the surface of the moon.\n",
        "\n",
        "This task is to enable the craft to land \"safely\" at the pad between the two yellow flags.\n",
        "> Landing pad is always at coordinates (0,0).\n",
        "> Coordinates are the first two numbers in state vector.\n",
        "\n",
        "![](https://gym.openai.com/assets/docs/aeloop-138c89d44114492fd02822303e6b4b07213010bb14ca5856d2d49d6b62d88e53.svg)\n",
        "\n",
        "\"LunarLander-v2\" actually includes \"Agent\" and \"Environment\".\n",
        "\n",
        "In this homework, we will utilize the function `step()` to control the action of \"Agent\".\n",
        "\n",
        "Then `step()` will return the observation/state and reward given by the \"Environment\"."
      ]
    },
    {
      "cell_type": "markdown",
      "metadata": {
        "id": "bIbp82sljvAt"
      },
      "source": [
        "### Observation / State\n",
        "\n",
        "First, we can take a look at what an Observation / State looks like."
      ]
    },
    {
      "cell_type": "code",
      "metadata": {
        "colab": {
          "base_uri": "https://localhost:8080/"
        },
        "id": "rsXZra3N9R5T",
        "outputId": "52882843-c312-447b-f160-fc5133b0f96e"
      },
      "source": [
        "print(env.observation_space)"
      ],
      "execution_count": 80,
      "outputs": [
        {
          "output_type": "stream",
          "name": "stdout",
          "text": [
            "Box([-1.5       -1.5       -5.        -5.        -3.1415927 -5.\n",
            " -0.        -0.       ], [1.5       1.5       5.        5.        3.1415927 5.        1.\n",
            " 1.       ], (8,), float32)\n"
          ]
        }
      ]
    },
    {
      "cell_type": "markdown",
      "metadata": {
        "id": "ezdfoThbAQ49"
      },
      "source": [
        "\n",
        "`Box(8,)`means that observation is an 8-dim vector\n",
        "### Action\n",
        "\n",
        "Actions can be taken by looks like"
      ]
    },
    {
      "cell_type": "code",
      "metadata": {
        "id": "p1k4dIrBAaKi",
        "colab": {
          "base_uri": "https://localhost:8080/"
        },
        "outputId": "aafca2eb-41bb-48e8-f45a-f024831270b9"
      },
      "source": [
        "print(env.action_space)"
      ],
      "execution_count": 81,
      "outputs": [
        {
          "output_type": "stream",
          "name": "stdout",
          "text": [
            "Discrete(4)\n"
          ]
        }
      ]
    },
    {
      "cell_type": "markdown",
      "metadata": {
        "id": "dejXT6PHBrPn"
      },
      "source": [
        "`Discrete(4)` implies that there are four kinds of actions can be taken by agent.\n",
        "- 0 implies the agent will not take any actions\n",
        "- 2 implies the agent will accelerate downward\n",
        "- 1, 3 implies the agent will accelerate left and right\n",
        "\n",
        "Next, we will try to make the agent interact with the environment.\n",
        "Before taking any actions, we recommend to call `reset()` function to reset the environment. Also, this function will return the initial state of the environment."
      ]
    },
    {
      "cell_type": "code",
      "metadata": {
        "id": "pi4OmrmZgnWA",
        "colab": {
          "base_uri": "https://localhost:8080/"
        },
        "outputId": "d23ccbba-cdb7-4025-92da-5d207c425bf7"
      },
      "source": [
        "initial_state = env.reset()\n",
        "print(initial_state)"
      ],
      "execution_count": 82,
      "outputs": [
        {
          "output_type": "stream",
          "name": "stdout",
          "text": [
            "[-0.00506535  1.413064   -0.5130838   0.09527162  0.00587628  0.11622101\n",
            "  0.          0.        ]\n"
          ]
        }
      ]
    },
    {
      "cell_type": "markdown",
      "metadata": {
        "id": "uBx0mEqqgxJ9"
      },
      "source": [
        "Then, we try to get a random action from the agent's action space."
      ]
    },
    {
      "cell_type": "code",
      "metadata": {
        "id": "vxkOEXRKgizt",
        "colab": {
          "base_uri": "https://localhost:8080/"
        },
        "outputId": "dbe2a4f2-b665-4c78-8433-01920e1846a6"
      },
      "source": [
        "random_action = env.action_space.sample()\n",
        "print(random_action)"
      ],
      "execution_count": 83,
      "outputs": [
        {
          "output_type": "stream",
          "name": "stdout",
          "text": [
            "1\n"
          ]
        }
      ]
    },
    {
      "cell_type": "markdown",
      "metadata": {
        "id": "mns-bO01g0-J"
      },
      "source": [
        "More, we can utilize `step()` to make agent act according to the randomly-selected `random_action`.\n",
        "The `step()` function will return four values:\n",
        "- observation / state\n",
        "- reward\n",
        "- done (True/ False)\n",
        "- Other information"
      ]
    },
    {
      "cell_type": "code",
      "metadata": {
        "id": "E_WViSxGgIk9"
      },
      "source": [
        "observation, reward, done, info = env.step(random_action)"
      ],
      "execution_count": 84,
      "outputs": []
    },
    {
      "cell_type": "code",
      "metadata": {
        "id": "yK7r126kuCNp",
        "colab": {
          "base_uri": "https://localhost:8080/"
        },
        "outputId": "67bfab85-058a-41a7-fb96-a6c9b3e56a98"
      },
      "source": [
        "print(observation)\n",
        "print(reward)\n",
        "print(done)\n",
        "print(info)"
      ],
      "execution_count": 85,
      "outputs": [
        {
          "output_type": "stream",
          "name": "stdout",
          "text": [
            "[-0.01021204  1.4146308  -0.5225479   0.06958859  0.01365644  0.15561804\n",
            "  0.          0.        ]\n",
            "-1.4981841929643156\n",
            "False\n",
            "{}\n"
          ]
        }
      ]
    },
    {
      "cell_type": "markdown",
      "metadata": {
        "id": "GKdS8vOihxhc"
      },
      "source": [
        "### Reward\n",
        "\n",
        "\n",
        "> Landing pad is always at coordinates (0,0). Coordinates are the first two numbers in state vector. Reward for moving from the top of the screen to landing pad and zero speed is about 100..140 points. If lander moves away from landing pad it loses reward back. Episode finishes if the lander crashes or comes to rest, receiving additional -100 or +100 points. Each leg ground contact is +10. Firing main engine is -0.3 points each frame. Solved is 200 points."
      ]
    },
    {
      "cell_type": "code",
      "metadata": {
        "id": "vxQNs77hi0_7",
        "colab": {
          "base_uri": "https://localhost:8080/"
        },
        "outputId": "2493c6a9-c484-4ffe-81a1-e712b2fb2d7c"
      },
      "source": [
        "print(reward)"
      ],
      "execution_count": 86,
      "outputs": [
        {
          "output_type": "stream",
          "name": "stdout",
          "text": [
            "-1.4981841929643156\n"
          ]
        }
      ]
    },
    {
      "cell_type": "markdown",
      "metadata": {
        "id": "Mhqp6D-XgHpe"
      },
      "source": [
        "### Random Agent\n",
        "In the end, before we start training, we can see whether a random agent can successfully land the moon or not."
      ]
    },
    {
      "cell_type": "code",
      "metadata": {
        "id": "Y3G0bxoccelv",
        "colab": {
          "base_uri": "https://localhost:8080/",
          "height": 396
        },
        "outputId": "259a091d-129c-4f04-ef62-4513d2c30d3e"
      },
      "source": [
        "env.reset()\n",
        "\n",
        "img = plt.imshow(env.render(mode='rgb_array'))\n",
        "\n",
        "done = False\n",
        "while not done:\n",
        "    action = env.action_space.sample()\n",
        "    observation, reward, done, _ = env.step(action)\n",
        "\n",
        "    img.set_data(env.render(mode='rgb_array'))\n",
        "    display.display(plt.gcf())\n",
        "    display.clear_output(wait=True)"
      ],
      "execution_count": 87,
      "outputs": [
        {
          "output_type": "display_data",
          "data": {
            "text/plain": [
              "<Figure size 640x480 with 1 Axes>"
            ],
            "image/png": "[encoded data removed]"
          },
          "metadata": {}
        }
      ]
    },
    {
      "cell_type": "code",
      "source": [
        "print(reward)"
      ],
      "metadata": {
        "colab": {
          "base_uri": "https://localhost:8080/"
        },
        "id": "sMdICbN5cfR-",
        "outputId": "24b7e400-4fa2-4e03-894d-e34fe3695f47"
      },
      "execution_count": 88,
      "outputs": [
        {
          "output_type": "stream",
          "name": "stdout",
          "text": [
            "-100\n"
          ]
        }
      ]
    },
    {
      "cell_type": "markdown",
      "metadata": {
        "id": "F5paWqo7tWL2"
      },
      "source": [
        "## Policy Gradient\n",
        "Now, we can build a simple policy network. The network will return one of action in the action space."
      ]
    },
    {
      "cell_type": "code",
      "metadata": {
        "id": "J8tdmeD-tZew"
      },
      "source": [
        "# Take a state input and generate a probability distribution of an action through a series of Fully Connected Layers\n",
        "class PolicyGradientNetwork(nn.Module):\n",
        "\n",
        "    def __init__(self):\n",
        "        super().__init__()\n",
        "        self.fc1 = nn.Linear(8, 16)\n",
        "        self.fc2 = nn.Linear(16, 16)\n",
        "        self.fc3 = nn.Linear(16, 4)\n",
        "\n",
        "    def forward(self, state):\n",
        "        hid = torch.tanh(self.fc1(state))\n",
        "        hid = torch.tanh(hid)\n",
        "        return F.softmax(self.fc3(hid), dim=-1)"
      ],
      "execution_count": 89,
      "outputs": []
    },
    {
      "cell_type": "markdown",
      "metadata": {
        "id": "ynbqJrhIFTC3"
      },
      "source": [
        "Then, we need to build a simple agent. The agent will acts according to the output of the policy network above. There are a few things can be done by agent:\n",
        "- `learn()`：update the policy network from log probabilities and rewards.\n",
        "- `sample()`：After receiving observation from the environment, utilize policy network to tell which action to take. The return values of this function includes action and log probabilities."
      ]
    },
    {
      "cell_type": "code",
      "metadata": {
        "id": "zZo-IxJx286z"
      },
      "source": [
        "from torch.optim.lr_scheduler import StepLR\n",
        "# The Policy Gradient Agent is used for the strategy gradient method. Agent uses neural network to generate probability distribution of actions and updates the network parameters by gradient descent\n",
        "class PolicyGradientAgent():\n",
        "\n",
        "    def __init__(self, network):\n",
        "        self.network = network\n",
        "        self.optimizer = optim.SGD(self.network.parameters(), lr=0.002)\n",
        "\n",
        "    def forward(self, state):\n",
        "        return self.network(state)\n",
        "    def learn(self, log_probs, rewards):\n",
        "        loss = (-log_probs * rewards).sum() # You don't need to revise this to pass simple baseline (but you can)\n",
        "\n",
        "        self.optimizer.zero_grad()\n",
        "        loss.backward()\n",
        "        self.optimizer.step()\n",
        "\n",
        "    def sample(self, state):\n",
        "        action_prob = self.network(torch.FloatTensor(state))\n",
        "        action_dist = Categorical(action_prob)\n",
        "        action = action_dist.sample()\n",
        "        log_prob = action_dist.log_prob(action)\n",
        "        return action.item(), log_prob"
      ],
      "execution_count": 90,
      "outputs": []
    },
    {
      "cell_type": "markdown",
      "metadata": {
        "id": "ehPlnTKyRZf9"
      },
      "source": [
        "Lastly, build a network and agent to start training."
      ]
    },
    {
      "cell_type": "code",
      "metadata": {
        "id": "GfJIvML-RYjL"
      },
      "source": [
        "network = PolicyGradientNetwork()\n",
        "agent = PolicyGradientAgent(network)"
      ],
      "execution_count": 91,
      "outputs": []
    },
    {
      "cell_type": "markdown",
      "metadata": {
        "id": "ouv23glgf5Qt"
      },
      "source": [
        "## Training Agent\n",
        "\n",
        "Now let's start to train our agent.\n",
        "Through taking all the interactions between agent and environment as training data, the policy network can learn from all these attempts,"
      ]
    },
    {
      "cell_type": "code",
      "metadata": {
        "id": "vg5rxBBaf38_",
        "colab": {
          "base_uri": "https://localhost:8080/",
          "height": 1000,
          "referenced_widgets": [
            "ac792be9a91f48938deb20b6d445a2b8",
            "3f173a63f91d4a7b8c82c75a35f18a29",
            "dbd9e922593c4f35a58f974ecab7c6b2",
            "d192ae55293f417c91f6230da1cc6d7c",
            "616e9d1b272e4ce8bb4ef173cc76e07c",
            "3fa9ae2ef5c9449fb711ebcf36f01799",
            "b98950f8d01d487c9138943c30ebef73",
            "2e24be564a4148849309132361faa330",
            "0824a252de3e442f8107ed5e72c12192",
            "a370255a6a2c41249c2e3c47dff68ab7",
            "9a80086ea42f4a458f34dbf1af28a3d0"
          ]
        },
        "outputId": "ba36a4ae-f9f3-414d-aa74-8257e54ba949"
      },
      "source": [
        "agent.network.train()  # Switch network into training mode\n",
        "EPISODE_PER_BATCH = 5  # update the agent every 5 episode\n",
        "NUM_BATCH = 400        # totally update the agent for 400 time\n",
        "rate = 0.99            # medium: accumulative decaying reward decaying rate\n",
        "avg_total_rewards, avg_final_rewards = [], []\n",
        "\n",
        "prg_bar = tqdm(range(NUM_BATCH))\n",
        "# 每次主循环batch中，agent和env互动EPISODE_PER_BATCH次，但是agent在每次主循环中值更新一次，所以agent更新NUM_BATCH次，互动NUM_BATCH*EPISODE_PER_BATCH次\n",
        "for batch in prg_bar:\n",
        "\n",
        "    log_probs, rewards = [], []\n",
        "    total_rewards, final_rewards = [], []\n",
        "\n",
        "    # collect trajectory\n",
        "    for episode in range(EPISODE_PER_BATCH):\n",
        "\n",
        "        state = env.reset()\n",
        "        total_reward, total_step = 0, 0\n",
        "        seq_rewards = []\n",
        "        while True:\n",
        "\n",
        "            action, log_prob = agent.sample(state) # at, log(at|st)\n",
        "            next_state, reward, done, _ = env.step(action)\n",
        "\n",
        "            log_probs.append(log_prob) # [log(a1|s1), log(a2|s2), ...., log(at|st)]\n",
        "            seq_rewards.append(reward) # r1, r2, ...., rt\n",
        "            state = next_state\n",
        "            total_reward += reward\n",
        "            total_step += 1 # total_step in each episode is different\n",
        "            # rewards.append(reward) # change here\n",
        "            # ! IMPORTANT !\n",
        "            # Current reward implementation: immediate reward,  given action_list : a1, a2, a3 ......\n",
        "            #                                                         rewards :     r1, r2 ,r3 ......\n",
        "            # medium：change \"rewards\" to accumulative decaying reward, given action_list : a1,                           a2,                           a3, ......\n",
        "            #                                                           rewards :           r1+0.99*r2+0.99^2*r3+......, r2+0.99*r3+0.99^2*r4+...... ,  r3+0.99*r4+0.99^2*r5+ ......\n",
        "            # boss : implement Actor-Critic\n",
        "            if done: # done is return by environment, true means current episode is done\n",
        "                final_rewards.append(reward) # final step reward\n",
        "                total_rewards.append(total_reward) # total reward of this episode\n",
        "                # calculate accumulative decaying reward\n",
        "                discounted_rewards = []\n",
        "                R = 0\n",
        "                for r in reversed(seq_rewards):\n",
        "                  R = r + rate * R\n",
        "                  discounted_rewards.insert(0, R)\n",
        "\n",
        "                rewards.extend(discounted_rewards)\n",
        "                break\n",
        "\n",
        "    print(f\"rewards looks like \", np.shape(rewards))\n",
        "    # print(f\"total step\",total_step)\n",
        "    # print(f\"log_probs looks like \", np.shape(log_probs))\n",
        "    # record training process\n",
        "    avg_total_reward = sum(total_rewards) / len(total_rewards) # average total reward for each episode in current batch\n",
        "    avg_final_reward = sum(final_rewards) / len(final_rewards) # average final reward for each episode in current batch\n",
        "    avg_total_rewards.append(avg_total_reward)\n",
        "    avg_final_rewards.append(avg_final_reward)\n",
        "    prg_bar.set_description(f\"Total: {avg_total_reward: 4.1f}, Final: {avg_final_reward: 4.1f}\")\n",
        "\n",
        "    # update agent\n",
        "    # rewards = np.concatenate(rewards, axis=0)\n",
        "    rewards = (rewards - np.mean(rewards)) / (np.std(rewards) + 1e-9)  # normalize the reward\n",
        "    agent.learn(torch.stack(log_probs), torch.from_numpy(rewards))\n",
        "    print(\"logs prob looks like \", torch.stack(log_probs).size())\n",
        "    print(\"torch.from_numpy(rewards) looks like \", torch.from_numpy(rewards).size())"
      ],
      "execution_count": 103,
      "outputs": [
        {
          "output_type": "display_data",
          "data": {
            "text/plain": [
              "  0%|          | 0/400 [00:00<?, ?it/s]"
            ],
            "application/vnd.jupyter.widget-view+json": {
              "version_major": 2,
              "version_minor": 0,
              "model_id": "ac792be9a91f48938deb20b6d445a2b8"
            }
          },
          "metadata": {}
        },
        {
          "output_type": "stream",
          "name": "stdout",
          "text": [
            "rewards looks like  (523,)\n",
            "logs prob looks like  torch.Size([523])\n",
            "torch.from_numpy(rewards) looks like  torch.Size([523])\n",
            "rewards looks like  (614,)\n",
            "logs prob looks like  torch.Size([614])\n",
            "torch.from_numpy(rewards) looks like  torch.Size([614])\n",
            "rewards looks like  (478,)\n",
            "logs prob looks like  torch.Size([478])\n",
            "torch.from_numpy(rewards) looks like  torch.Size([478])\n",
            "rewards looks like  (600,)\n",
            "logs prob looks like  torch.Size([600])\n",
            "torch.from_numpy(rewards) looks like  torch.Size([600])\n",
            "rewards looks like  (576,)\n",
            "logs prob looks like  torch.Size([576])\n",
            "torch.from_numpy(rewards) looks like  torch.Size([576])\n",
            "rewards looks like  (516,)\n",
            "logs prob looks like  torch.Size([516])\n",
            "torch.from_numpy(rewards) looks like  torch.Size([516])\n",
            "rewards looks like  (473,)\n",
            "logs prob looks like  torch.Size([473])\n",
            "torch.from_numpy(rewards) looks like  torch.Size([473])\n",
            "rewards looks like  (477,)\n",
            "logs prob looks like  torch.Size([477])\n",
            "torch.from_numpy(rewards) looks like  torch.Size([477])\n",
            "rewards looks like  (485,)\n",
            "logs prob looks like  torch.Size([485])\n",
            "torch.from_numpy(rewards) looks like  torch.Size([485])\n",
            "rewards looks like  (479,)\n",
            "logs prob looks like  torch.Size([479])\n",
            "torch.from_numpy(rewards) looks like  torch.Size([479])\n",
            "rewards looks like  (472,)\n",
            "logs prob looks like  torch.Size([472])\n",
            "torch.from_numpy(rewards) looks like  torch.Size([472])\n",
            "rewards looks like  (552,)\n",
            "logs prob looks like  torch.Size([552])\n",
            "torch.from_numpy(rewards) looks like  torch.Size([552])\n",
            "rewards looks like  (463,)\n",
            "logs prob looks like  torch.Size([463])\n",
            "torch.from_numpy(rewards) looks like  torch.Size([463])\n",
            "rewards looks like  (517,)\n",
            "logs prob looks like  torch.Size([517])\n",
            "torch.from_numpy(rewards) looks like  torch.Size([517])\n",
            "rewards looks like  (641,)\n",
            "logs prob looks like  torch.Size([641])\n",
            "torch.from_numpy(rewards) looks like  torch.Size([641])\n",
            "rewards looks like  (547,)\n",
            "logs prob looks like  torch.Size([547])\n",
            "torch.from_numpy(rewards) looks like  torch.Size([547])\n",
            "rewards looks like  (516,)\n",
            "logs prob looks like  torch.Size([516])\n",
            "torch.from_numpy(rewards) looks like  torch.Size([516])\n",
            "rewards looks like  (574,)\n",
            "logs prob looks like  torch.Size([574])\n",
            "torch.from_numpy(rewards) looks like  torch.Size([574])\n",
            "rewards looks like  (476,)\n",
            "logs prob looks like  torch.Size([476])\n",
            "torch.from_numpy(rewards) looks like  torch.Size([476])\n",
            "rewards looks like  (496,)\n",
            "logs prob looks like  torch.Size([496])\n",
            "torch.from_numpy(rewards) looks like  torch.Size([496])\n",
            "rewards looks like  (566,)\n",
            "logs prob looks like  torch.Size([566])\n",
            "torch.from_numpy(rewards) looks like  torch.Size([566])\n",
            "rewards looks like  (539,)\n",
            "logs prob looks like  torch.Size([539])\n",
            "torch.from_numpy(rewards) looks like  torch.Size([539])\n",
            "rewards looks like  (562,)\n",
            "logs prob looks like  torch.Size([562])\n",
            "torch.from_numpy(rewards) looks like  torch.Size([562])\n",
            "rewards looks like  (448,)\n",
            "logs prob looks like  torch.Size([448])\n",
            "torch.from_numpy(rewards) looks like  torch.Size([448])\n",
            "rewards looks like  (622,)\n",
            "logs prob looks like  torch.Size([622])\n",
            "torch.from_numpy(rewards) looks like  torch.Size([622])\n",
            "rewards looks like  (747,)\n",
            "logs prob looks like  torch.Size([747])\n",
            "torch.from_numpy(rewards) looks like  torch.Size([747])\n",
            "rewards looks like  (554,)\n",
            "logs prob looks like  torch.Size([554])\n",
            "torch.from_numpy(rewards) looks like  torch.Size([554])\n",
            "rewards looks like  (536,)\n",
            "logs prob looks like  torch.Size([536])\n",
            "torch.from_numpy(rewards) looks like  torch.Size([536])\n",
            "rewards looks like  (756,)\n",
            "logs prob looks like  torch.Size([756])\n",
            "torch.from_numpy(rewards) looks like  torch.Size([756])\n",
            "rewards looks like  (510,)\n",
            "logs prob looks like  torch.Size([510])\n",
            "torch.from_numpy(rewards) looks like  torch.Size([510])\n",
            "rewards looks like  (515,)\n",
            "logs prob looks like  torch.Size([515])\n",
            "torch.from_numpy(rewards) looks like  torch.Size([515])\n",
            "rewards looks like  (620,)\n",
            "logs prob looks like  torch.Size([620])\n",
            "torch.from_numpy(rewards) looks like  torch.Size([620])\n",
            "rewards looks like  (1282,)\n",
            "logs prob looks like  torch.Size([1282])\n",
            "torch.from_numpy(rewards) looks like  torch.Size([1282])\n",
            "rewards looks like  (788,)\n",
            "logs prob looks like  torch.Size([788])\n",
            "torch.from_numpy(rewards) looks like  torch.Size([788])\n",
            "rewards looks like  (666,)\n",
            "logs prob looks like  torch.Size([666])\n",
            "torch.from_numpy(rewards) looks like  torch.Size([666])\n",
            "rewards looks like  (645,)\n",
            "logs prob looks like  torch.Size([645])\n",
            "torch.from_numpy(rewards) looks like  torch.Size([645])\n",
            "rewards looks like  (631,)\n",
            "logs prob looks like  torch.Size([631])\n",
            "torch.from_numpy(rewards) looks like  torch.Size([631])\n",
            "rewards looks like  (613,)\n",
            "logs prob looks like  torch.Size([613])\n",
            "torch.from_numpy(rewards) looks like  torch.Size([613])\n",
            "rewards looks like  (778,)\n",
            "logs prob looks like  torch.Size([778])\n",
            "torch.from_numpy(rewards) looks like  torch.Size([778])\n",
            "rewards looks like  (574,)\n",
            "logs prob looks like  torch.Size([574])\n",
            "torch.from_numpy(rewards) looks like  torch.Size([574])\n",
            "rewards looks like  (547,)\n",
            "logs prob looks like  torch.Size([547])\n",
            "torch.from_numpy(rewards) looks like  torch.Size([547])\n",
            "rewards looks like  (654,)\n",
            "logs prob looks like  torch.Size([654])\n",
            "torch.from_numpy(rewards) looks like  torch.Size([654])\n",
            "rewards looks like  (611,)\n",
            "logs prob looks like  torch.Size([611])\n",
            "torch.from_numpy(rewards) looks like  torch.Size([611])\n",
            "rewards looks like  (620,)\n",
            "logs prob looks like  torch.Size([620])\n",
            "torch.from_numpy(rewards) looks like  torch.Size([620])\n",
            "rewards looks like  (607,)\n",
            "logs prob looks like  torch.Size([607])\n",
            "torch.from_numpy(rewards) looks like  torch.Size([607])\n",
            "rewards looks like  (513,)\n",
            "logs prob looks like  torch.Size([513])\n",
            "torch.from_numpy(rewards) looks like  torch.Size([513])\n",
            "rewards looks like  (603,)\n",
            "logs prob looks like  torch.Size([603])\n",
            "torch.from_numpy(rewards) looks like  torch.Size([603])\n",
            "rewards looks like  (636,)\n",
            "logs prob looks like  torch.Size([636])\n",
            "torch.from_numpy(rewards) looks like  torch.Size([636])\n",
            "rewards looks like  (675,)\n",
            "logs prob looks like  torch.Size([675])\n",
            "torch.from_numpy(rewards) looks like  torch.Size([675])\n",
            "rewards looks like  (711,)\n",
            "logs prob looks like  torch.Size([711])\n",
            "torch.from_numpy(rewards) looks like  torch.Size([711])\n",
            "rewards looks like  (823,)\n",
            "logs prob looks like  torch.Size([823])\n",
            "torch.from_numpy(rewards) looks like  torch.Size([823])\n",
            "rewards looks like  (670,)\n",
            "logs prob looks like  torch.Size([670])\n",
            "torch.from_numpy(rewards) looks like  torch.Size([670])\n",
            "rewards looks like  (530,)\n",
            "logs prob looks like  torch.Size([530])\n",
            "torch.from_numpy(rewards) looks like  torch.Size([530])\n",
            "rewards looks like  (697,)\n",
            "logs prob looks like  torch.Size([697])\n",
            "torch.from_numpy(rewards) looks like  torch.Size([697])\n",
            "rewards looks like  (574,)\n",
            "logs prob looks like  torch.Size([574])\n",
            "torch.from_numpy(rewards) looks like  torch.Size([574])\n",
            "rewards looks like  (618,)\n",
            "logs prob looks like  torch.Size([618])\n",
            "torch.from_numpy(rewards) looks like  torch.Size([618])\n",
            "rewards looks like  (461,)\n",
            "logs prob looks like  torch.Size([461])\n",
            "torch.from_numpy(rewards) looks like  torch.Size([461])\n",
            "rewards looks like  (462,)\n",
            "logs prob looks like  torch.Size([462])\n",
            "torch.from_numpy(rewards) looks like  torch.Size([462])\n",
            "rewards looks like  (478,)\n",
            "logs prob looks like  torch.Size([478])\n",
            "torch.from_numpy(rewards) looks like  torch.Size([478])\n",
            "rewards looks like  (583,)\n",
            "logs prob looks like  torch.Size([583])\n",
            "torch.from_numpy(rewards) looks like  torch.Size([583])\n",
            "rewards looks like  (647,)\n",
            "logs prob looks like  torch.Size([647])\n",
            "torch.from_numpy(rewards) looks like  torch.Size([647])\n",
            "rewards looks like  (599,)\n",
            "logs prob looks like  torch.Size([599])\n",
            "torch.from_numpy(rewards) looks like  torch.Size([599])\n",
            "rewards looks like  (571,)\n",
            "logs prob looks like  torch.Size([571])\n",
            "torch.from_numpy(rewards) looks like  torch.Size([571])\n",
            "rewards looks like  (556,)\n",
            "logs prob looks like  torch.Size([556])\n",
            "torch.from_numpy(rewards) looks like  torch.Size([556])\n",
            "rewards looks like  (573,)\n",
            "logs prob looks like  torch.Size([573])\n",
            "torch.from_numpy(rewards) looks like  torch.Size([573])\n",
            "rewards looks like  (546,)\n",
            "logs prob looks like  torch.Size([546])\n",
            "torch.from_numpy(rewards) looks like  torch.Size([546])\n",
            "rewards looks like  (559,)\n",
            "logs prob looks like  torch.Size([559])\n",
            "torch.from_numpy(rewards) looks like  torch.Size([559])\n",
            "rewards looks like  (480,)\n",
            "logs prob looks like  torch.Size([480])\n",
            "torch.from_numpy(rewards) looks like  torch.Size([480])\n",
            "rewards looks like  (594,)\n",
            "logs prob looks like  torch.Size([594])\n",
            "torch.from_numpy(rewards) looks like  torch.Size([594])\n",
            "rewards looks like  (611,)\n",
            "logs prob looks like  torch.Size([611])\n",
            "torch.from_numpy(rewards) looks like  torch.Size([611])\n",
            "rewards looks like  (885,)\n",
            "logs prob looks like  torch.Size([885])\n",
            "torch.from_numpy(rewards) looks like  torch.Size([885])\n",
            "rewards looks like  (682,)\n",
            "logs prob looks like  torch.Size([682])\n",
            "torch.from_numpy(rewards) looks like  torch.Size([682])\n",
            "rewards looks like  (512,)\n",
            "logs prob looks like  torch.Size([512])\n",
            "torch.from_numpy(rewards) looks like  torch.Size([512])\n",
            "rewards looks like  (573,)\n",
            "logs prob looks like  torch.Size([573])\n",
            "torch.from_numpy(rewards) looks like  torch.Size([573])\n",
            "rewards looks like  (657,)\n",
            "logs prob looks like  torch.Size([657])\n",
            "torch.from_numpy(rewards) looks like  torch.Size([657])\n",
            "rewards looks like  (597,)\n",
            "logs prob looks like  torch.Size([597])\n",
            "torch.from_numpy(rewards) looks like  torch.Size([597])\n",
            "rewards looks like  (607,)\n",
            "logs prob looks like  torch.Size([607])\n",
            "torch.from_numpy(rewards) looks like  torch.Size([607])\n",
            "rewards looks like  (675,)\n",
            "logs prob looks like  torch.Size([675])\n",
            "torch.from_numpy(rewards) looks like  torch.Size([675])\n",
            "rewards looks like  (644,)\n",
            "logs prob looks like  torch.Size([644])\n",
            "torch.from_numpy(rewards) looks like  torch.Size([644])\n",
            "rewards looks like  (690,)\n",
            "logs prob looks like  torch.Size([690])\n",
            "torch.from_numpy(rewards) looks like  torch.Size([690])\n",
            "rewards looks like  (756,)\n",
            "logs prob looks like  torch.Size([756])\n",
            "torch.from_numpy(rewards) looks like  torch.Size([756])\n",
            "rewards looks like  (804,)\n",
            "logs prob looks like  torch.Size([804])\n",
            "torch.from_numpy(rewards) looks like  torch.Size([804])\n",
            "rewards looks like  (898,)\n",
            "logs prob looks like  torch.Size([898])\n",
            "torch.from_numpy(rewards) looks like  torch.Size([898])\n",
            "rewards looks like  (631,)\n",
            "logs prob looks like  torch.Size([631])\n",
            "torch.from_numpy(rewards) looks like  torch.Size([631])\n",
            "rewards looks like  (566,)\n",
            "logs prob looks like  torch.Size([566])\n",
            "torch.from_numpy(rewards) looks like  torch.Size([566])\n",
            "rewards looks like  (1496,)\n",
            "logs prob looks like  torch.Size([1496])\n",
            "torch.from_numpy(rewards) looks like  torch.Size([1496])\n",
            "rewards looks like  (633,)\n",
            "logs prob looks like  torch.Size([633])\n",
            "torch.from_numpy(rewards) looks like  torch.Size([633])\n",
            "rewards looks like  (680,)\n",
            "logs prob looks like  torch.Size([680])\n",
            "torch.from_numpy(rewards) looks like  torch.Size([680])\n",
            "rewards looks like  (572,)\n",
            "logs prob looks like  torch.Size([572])\n",
            "torch.from_numpy(rewards) looks like  torch.Size([572])\n",
            "rewards looks like  (609,)\n",
            "logs prob looks like  torch.Size([609])\n",
            "torch.from_numpy(rewards) looks like  torch.Size([609])\n",
            "rewards looks like  (696,)\n",
            "logs prob looks like  torch.Size([696])\n",
            "torch.from_numpy(rewards) looks like  torch.Size([696])\n",
            "rewards looks like  (748,)\n",
            "logs prob looks like  torch.Size([748])\n",
            "torch.from_numpy(rewards) looks like  torch.Size([748])\n",
            "rewards looks like  (755,)\n",
            "logs prob looks like  torch.Size([755])\n",
            "torch.from_numpy(rewards) looks like  torch.Size([755])\n",
            "rewards looks like  (785,)\n",
            "logs prob looks like  torch.Size([785])\n",
            "torch.from_numpy(rewards) looks like  torch.Size([785])\n",
            "rewards looks like  (637,)\n",
            "logs prob looks like  torch.Size([637])\n",
            "torch.from_numpy(rewards) looks like  torch.Size([637])\n",
            "rewards looks like  (707,)\n",
            "logs prob looks like  torch.Size([707])\n",
            "torch.from_numpy(rewards) looks like  torch.Size([707])\n",
            "rewards looks like  (672,)\n",
            "logs prob looks like  torch.Size([672])\n",
            "torch.from_numpy(rewards) looks like  torch.Size([672])\n",
            "rewards looks like  (815,)\n",
            "logs prob looks like  torch.Size([815])\n",
            "torch.from_numpy(rewards) looks like  torch.Size([815])\n",
            "rewards looks like  (681,)\n",
            "logs prob looks like  torch.Size([681])\n",
            "torch.from_numpy(rewards) looks like  torch.Size([681])\n",
            "rewards looks like  (667,)\n",
            "logs prob looks like  torch.Size([667])\n",
            "torch.from_numpy(rewards) looks like  torch.Size([667])\n",
            "rewards looks like  (1693,)\n",
            "logs prob looks like  torch.Size([1693])\n",
            "torch.from_numpy(rewards) looks like  torch.Size([1693])\n",
            "rewards looks like  (582,)\n",
            "logs prob looks like  torch.Size([582])\n",
            "torch.from_numpy(rewards) looks like  torch.Size([582])\n",
            "rewards looks like  (1324,)\n",
            "logs prob looks like  torch.Size([1324])\n",
            "torch.from_numpy(rewards) looks like  torch.Size([1324])\n",
            "rewards looks like  (766,)\n",
            "logs prob looks like  torch.Size([766])\n",
            "torch.from_numpy(rewards) looks like  torch.Size([766])\n",
            "rewards looks like  (746,)\n",
            "logs prob looks like  torch.Size([746])\n",
            "torch.from_numpy(rewards) looks like  torch.Size([746])\n",
            "rewards looks like  (765,)\n",
            "logs prob looks like  torch.Size([765])\n",
            "torch.from_numpy(rewards) looks like  torch.Size([765])\n",
            "rewards looks like  (1455,)\n",
            "logs prob looks like  torch.Size([1455])\n",
            "torch.from_numpy(rewards) looks like  torch.Size([1455])\n",
            "rewards looks like  (610,)\n",
            "logs prob looks like  torch.Size([610])\n",
            "torch.from_numpy(rewards) looks like  torch.Size([610])\n",
            "rewards looks like  (1592,)\n",
            "logs prob looks like  torch.Size([1592])\n",
            "torch.from_numpy(rewards) looks like  torch.Size([1592])\n",
            "rewards looks like  (555,)\n",
            "logs prob looks like  torch.Size([555])\n",
            "torch.from_numpy(rewards) looks like  torch.Size([555])\n",
            "rewards looks like  (534,)\n",
            "logs prob looks like  torch.Size([534])\n",
            "torch.from_numpy(rewards) looks like  torch.Size([534])\n",
            "rewards looks like  (557,)\n",
            "logs prob looks like  torch.Size([557])\n",
            "torch.from_numpy(rewards) looks like  torch.Size([557])\n",
            "rewards looks like  (717,)\n",
            "logs prob looks like  torch.Size([717])\n",
            "torch.from_numpy(rewards) looks like  torch.Size([717])\n",
            "rewards looks like  (1428,)\n",
            "logs prob looks like  torch.Size([1428])\n",
            "torch.from_numpy(rewards) looks like  torch.Size([1428])\n",
            "rewards looks like  (551,)\n",
            "logs prob looks like  torch.Size([551])\n",
            "torch.from_numpy(rewards) looks like  torch.Size([551])\n",
            "rewards looks like  (548,)\n",
            "logs prob looks like  torch.Size([548])\n",
            "torch.from_numpy(rewards) looks like  torch.Size([548])\n",
            "rewards looks like  (1459,)\n",
            "logs prob looks like  torch.Size([1459])\n",
            "torch.from_numpy(rewards) looks like  torch.Size([1459])\n",
            "rewards looks like  (702,)\n",
            "logs prob looks like  torch.Size([702])\n",
            "torch.from_numpy(rewards) looks like  torch.Size([702])\n",
            "rewards looks like  (745,)\n",
            "logs prob looks like  torch.Size([745])\n",
            "torch.from_numpy(rewards) looks like  torch.Size([745])\n",
            "rewards looks like  (708,)\n",
            "logs prob looks like  torch.Size([708])\n",
            "torch.from_numpy(rewards) looks like  torch.Size([708])\n",
            "rewards looks like  (967,)\n",
            "logs prob looks like  torch.Size([967])\n",
            "torch.from_numpy(rewards) looks like  torch.Size([967])\n",
            "rewards looks like  (1727,)\n",
            "logs prob looks like  torch.Size([1727])\n",
            "torch.from_numpy(rewards) looks like  torch.Size([1727])\n",
            "rewards looks like  (604,)\n",
            "logs prob looks like  torch.Size([604])\n",
            "torch.from_numpy(rewards) looks like  torch.Size([604])\n",
            "rewards looks like  (652,)\n",
            "logs prob looks like  torch.Size([652])\n",
            "torch.from_numpy(rewards) looks like  torch.Size([652])\n",
            "rewards looks like  (646,)\n",
            "logs prob looks like  torch.Size([646])\n",
            "torch.from_numpy(rewards) looks like  torch.Size([646])\n",
            "rewards looks like  (585,)\n",
            "logs prob looks like  torch.Size([585])\n",
            "torch.from_numpy(rewards) looks like  torch.Size([585])\n",
            "rewards looks like  (721,)\n",
            "logs prob looks like  torch.Size([721])\n",
            "torch.from_numpy(rewards) looks like  torch.Size([721])\n",
            "rewards looks like  (1539,)\n",
            "logs prob looks like  torch.Size([1539])\n",
            "torch.from_numpy(rewards) looks like  torch.Size([1539])\n",
            "rewards looks like  (579,)\n",
            "logs prob looks like  torch.Size([579])\n",
            "torch.from_numpy(rewards) looks like  torch.Size([579])\n",
            "rewards looks like  (1556,)\n",
            "logs prob looks like  torch.Size([1556])\n",
            "torch.from_numpy(rewards) looks like  torch.Size([1556])\n",
            "rewards looks like  (2133,)\n",
            "logs prob looks like  torch.Size([2133])\n",
            "torch.from_numpy(rewards) looks like  torch.Size([2133])\n",
            "rewards looks like  (2546,)\n",
            "logs prob looks like  torch.Size([2546])\n",
            "torch.from_numpy(rewards) looks like  torch.Size([2546])\n",
            "rewards looks like  (806,)\n",
            "logs prob looks like  torch.Size([806])\n",
            "torch.from_numpy(rewards) looks like  torch.Size([806])\n",
            "rewards looks like  (962,)\n",
            "logs prob looks like  torch.Size([962])\n",
            "torch.from_numpy(rewards) looks like  torch.Size([962])\n",
            "rewards looks like  (1625,)\n",
            "logs prob looks like  torch.Size([1625])\n",
            "torch.from_numpy(rewards) looks like  torch.Size([1625])\n",
            "rewards looks like  (898,)\n",
            "logs prob looks like  torch.Size([898])\n",
            "torch.from_numpy(rewards) looks like  torch.Size([898])\n",
            "rewards looks like  (1056,)\n",
            "logs prob looks like  torch.Size([1056])\n",
            "torch.from_numpy(rewards) looks like  torch.Size([1056])\n",
            "rewards looks like  (2611,)\n",
            "logs prob looks like  torch.Size([2611])\n",
            "torch.from_numpy(rewards) looks like  torch.Size([2611])\n",
            "rewards looks like  (2043,)\n",
            "logs prob looks like  torch.Size([2043])\n",
            "torch.from_numpy(rewards) looks like  torch.Size([2043])\n",
            "rewards looks like  (3065,)\n",
            "logs prob looks like  torch.Size([3065])\n",
            "torch.from_numpy(rewards) looks like  torch.Size([3065])\n",
            "rewards looks like  (1979,)\n",
            "logs prob looks like  torch.Size([1979])\n",
            "torch.from_numpy(rewards) looks like  torch.Size([1979])\n",
            "rewards looks like  (1726,)\n",
            "logs prob looks like  torch.Size([1726])\n",
            "torch.from_numpy(rewards) looks like  torch.Size([1726])\n",
            "rewards looks like  (2461,)\n",
            "logs prob looks like  torch.Size([2461])\n",
            "torch.from_numpy(rewards) looks like  torch.Size([2461])\n",
            "rewards looks like  (927,)\n",
            "logs prob looks like  torch.Size([927])\n",
            "torch.from_numpy(rewards) looks like  torch.Size([927])\n",
            "rewards looks like  (1127,)\n",
            "logs prob looks like  torch.Size([1127])\n",
            "torch.from_numpy(rewards) looks like  torch.Size([1127])\n",
            "rewards looks like  (4182,)\n",
            "logs prob looks like  torch.Size([4182])\n",
            "torch.from_numpy(rewards) looks like  torch.Size([4182])\n",
            "rewards looks like  (699,)\n",
            "logs prob looks like  torch.Size([699])\n",
            "torch.from_numpy(rewards) looks like  torch.Size([699])\n",
            "rewards looks like  (723,)\n",
            "logs prob looks like  torch.Size([723])\n",
            "torch.from_numpy(rewards) looks like  torch.Size([723])\n",
            "rewards looks like  (1692,)\n",
            "logs prob looks like  torch.Size([1692])\n",
            "torch.from_numpy(rewards) looks like  torch.Size([1692])\n",
            "rewards looks like  (1686,)\n",
            "logs prob looks like  torch.Size([1686])\n",
            "torch.from_numpy(rewards) looks like  torch.Size([1686])\n",
            "rewards looks like  (5000,)\n",
            "logs prob looks like  torch.Size([5000])\n",
            "torch.from_numpy(rewards) looks like  torch.Size([5000])\n",
            "rewards looks like  (3617,)\n",
            "logs prob looks like  torch.Size([3617])\n",
            "torch.from_numpy(rewards) looks like  torch.Size([3617])\n",
            "rewards looks like  (1536,)\n",
            "logs prob looks like  torch.Size([1536])\n",
            "torch.from_numpy(rewards) looks like  torch.Size([1536])\n",
            "rewards looks like  (3295,)\n",
            "logs prob looks like  torch.Size([3295])\n",
            "torch.from_numpy(rewards) looks like  torch.Size([3295])\n",
            "rewards looks like  (691,)\n",
            "logs prob looks like  torch.Size([691])\n",
            "torch.from_numpy(rewards) looks like  torch.Size([691])\n",
            "rewards looks like  (694,)\n",
            "logs prob looks like  torch.Size([694])\n",
            "torch.from_numpy(rewards) looks like  torch.Size([694])\n",
            "rewards looks like  (810,)\n",
            "logs prob looks like  torch.Size([810])\n",
            "torch.from_numpy(rewards) looks like  torch.Size([810])\n",
            "rewards looks like  (1693,)\n",
            "logs prob looks like  torch.Size([1693])\n",
            "torch.from_numpy(rewards) looks like  torch.Size([1693])\n",
            "rewards looks like  (3372,)\n",
            "logs prob looks like  torch.Size([3372])\n",
            "torch.from_numpy(rewards) looks like  torch.Size([3372])\n",
            "rewards looks like  (1613,)\n",
            "logs prob looks like  torch.Size([1613])\n",
            "torch.from_numpy(rewards) looks like  torch.Size([1613])\n",
            "rewards looks like  (1928,)\n",
            "logs prob looks like  torch.Size([1928])\n",
            "torch.from_numpy(rewards) looks like  torch.Size([1928])\n",
            "rewards looks like  (2993,)\n",
            "logs prob looks like  torch.Size([2993])\n",
            "torch.from_numpy(rewards) looks like  torch.Size([2993])\n",
            "rewards looks like  (2267,)\n",
            "logs prob looks like  torch.Size([2267])\n",
            "torch.from_numpy(rewards) looks like  torch.Size([2267])\n",
            "rewards looks like  (1878,)\n",
            "logs prob looks like  torch.Size([1878])\n",
            "torch.from_numpy(rewards) looks like  torch.Size([1878])\n",
            "rewards looks like  (2752,)\n",
            "logs prob looks like  torch.Size([2752])\n",
            "torch.from_numpy(rewards) looks like  torch.Size([2752])\n",
            "rewards looks like  (3875,)\n",
            "logs prob looks like  torch.Size([3875])\n",
            "torch.from_numpy(rewards) looks like  torch.Size([3875])\n",
            "rewards looks like  (2518,)\n",
            "logs prob looks like  torch.Size([2518])\n",
            "torch.from_numpy(rewards) looks like  torch.Size([2518])\n",
            "rewards looks like  (4174,)\n",
            "logs prob looks like  torch.Size([4174])\n",
            "torch.from_numpy(rewards) looks like  torch.Size([4174])\n",
            "rewards looks like  (1723,)\n",
            "logs prob looks like  torch.Size([1723])\n",
            "torch.from_numpy(rewards) looks like  torch.Size([1723])\n",
            "rewards looks like  (2613,)\n",
            "logs prob looks like  torch.Size([2613])\n",
            "torch.from_numpy(rewards) looks like  torch.Size([2613])\n",
            "rewards looks like  (4220,)\n",
            "logs prob looks like  torch.Size([4220])\n",
            "torch.from_numpy(rewards) looks like  torch.Size([4220])\n",
            "rewards looks like  (1792,)\n",
            "logs prob looks like  torch.Size([1792])\n",
            "torch.from_numpy(rewards) looks like  torch.Size([1792])\n",
            "rewards looks like  (2694,)\n",
            "logs prob looks like  torch.Size([2694])\n",
            "torch.from_numpy(rewards) looks like  torch.Size([2694])\n",
            "rewards looks like  (4204,)\n",
            "logs prob looks like  torch.Size([4204])\n",
            "torch.from_numpy(rewards) looks like  torch.Size([4204])\n",
            "rewards looks like  (1457,)\n",
            "logs prob looks like  torch.Size([1457])\n",
            "torch.from_numpy(rewards) looks like  torch.Size([1457])\n",
            "rewards looks like  (1691,)\n",
            "logs prob looks like  torch.Size([1691])\n",
            "torch.from_numpy(rewards) looks like  torch.Size([1691])\n",
            "rewards looks like  (1765,)\n",
            "logs prob looks like  torch.Size([1765])\n",
            "torch.from_numpy(rewards) looks like  torch.Size([1765])\n",
            "rewards looks like  (3442,)\n",
            "logs prob looks like  torch.Size([3442])\n",
            "torch.from_numpy(rewards) looks like  torch.Size([3442])\n",
            "rewards looks like  (4346,)\n",
            "logs prob looks like  torch.Size([4346])\n",
            "torch.from_numpy(rewards) looks like  torch.Size([4346])\n",
            "rewards looks like  (2792,)\n",
            "logs prob looks like  torch.Size([2792])\n",
            "torch.from_numpy(rewards) looks like  torch.Size([2792])\n",
            "rewards looks like  (4237,)\n",
            "logs prob looks like  torch.Size([4237])\n",
            "torch.from_numpy(rewards) looks like  torch.Size([4237])\n",
            "rewards looks like  (798,)\n",
            "logs prob looks like  torch.Size([798])\n",
            "torch.from_numpy(rewards) looks like  torch.Size([798])\n",
            "rewards looks like  (1679,)\n",
            "logs prob looks like  torch.Size([1679])\n",
            "torch.from_numpy(rewards) looks like  torch.Size([1679])\n",
            "rewards looks like  (2554,)\n",
            "logs prob looks like  torch.Size([2554])\n",
            "torch.from_numpy(rewards) looks like  torch.Size([2554])\n",
            "rewards looks like  (4282,)\n",
            "logs prob looks like  torch.Size([4282])\n",
            "torch.from_numpy(rewards) looks like  torch.Size([4282])\n",
            "rewards looks like  (3800,)\n",
            "logs prob looks like  torch.Size([3800])\n",
            "torch.from_numpy(rewards) looks like  torch.Size([3800])\n",
            "rewards looks like  (942,)\n",
            "logs prob looks like  torch.Size([942])\n",
            "torch.from_numpy(rewards) looks like  torch.Size([942])\n",
            "rewards looks like  (4197,)\n",
            "logs prob looks like  torch.Size([4197])\n",
            "torch.from_numpy(rewards) looks like  torch.Size([4197])\n",
            "rewards looks like  (1764,)\n",
            "logs prob looks like  torch.Size([1764])\n",
            "torch.from_numpy(rewards) looks like  torch.Size([1764])\n",
            "rewards looks like  (1577,)\n",
            "logs prob looks like  torch.Size([1577])\n",
            "torch.from_numpy(rewards) looks like  torch.Size([1577])\n",
            "rewards looks like  (3394,)\n",
            "logs prob looks like  torch.Size([3394])\n",
            "torch.from_numpy(rewards) looks like  torch.Size([3394])\n",
            "rewards looks like  (2858,)\n",
            "logs prob looks like  torch.Size([2858])\n",
            "torch.from_numpy(rewards) looks like  torch.Size([2858])\n",
            "rewards looks like  (4377,)\n",
            "logs prob looks like  torch.Size([4377])\n",
            "torch.from_numpy(rewards) looks like  torch.Size([4377])\n",
            "rewards looks like  (2389,)\n",
            "logs prob looks like  torch.Size([2389])\n",
            "torch.from_numpy(rewards) looks like  torch.Size([2389])\n",
            "rewards looks like  (3131,)\n",
            "logs prob looks like  torch.Size([3131])\n",
            "torch.from_numpy(rewards) looks like  torch.Size([3131])\n",
            "rewards looks like  (2701,)\n",
            "logs prob looks like  torch.Size([2701])\n",
            "torch.from_numpy(rewards) looks like  torch.Size([2701])\n",
            "rewards looks like  (3531,)\n",
            "logs prob looks like  torch.Size([3531])\n",
            "torch.from_numpy(rewards) looks like  torch.Size([3531])\n",
            "rewards looks like  (4258,)\n",
            "logs prob looks like  torch.Size([4258])\n",
            "torch.from_numpy(rewards) looks like  torch.Size([4258])\n",
            "rewards looks like  (4068,)\n",
            "logs prob looks like  torch.Size([4068])\n",
            "torch.from_numpy(rewards) looks like  torch.Size([4068])\n",
            "rewards looks like  (5000,)\n",
            "logs prob looks like  torch.Size([5000])\n",
            "torch.from_numpy(rewards) looks like  torch.Size([5000])\n",
            "rewards looks like  (3988,)\n",
            "logs prob looks like  torch.Size([3988])\n",
            "torch.from_numpy(rewards) looks like  torch.Size([3988])\n",
            "rewards looks like  (4271,)\n",
            "logs prob looks like  torch.Size([4271])\n",
            "torch.from_numpy(rewards) looks like  torch.Size([4271])\n",
            "rewards looks like  (1186,)\n",
            "logs prob looks like  torch.Size([1186])\n",
            "torch.from_numpy(rewards) looks like  torch.Size([1186])\n",
            "rewards looks like  (3395,)\n",
            "logs prob looks like  torch.Size([3395])\n",
            "torch.from_numpy(rewards) looks like  torch.Size([3395])\n",
            "rewards looks like  (3375,)\n",
            "logs prob looks like  torch.Size([3375])\n",
            "torch.from_numpy(rewards) looks like  torch.Size([3375])\n",
            "rewards looks like  (3416,)\n",
            "logs prob looks like  torch.Size([3416])\n",
            "torch.from_numpy(rewards) looks like  torch.Size([3416])\n",
            "rewards looks like  (5000,)\n",
            "logs prob looks like  torch.Size([5000])\n",
            "torch.from_numpy(rewards) looks like  torch.Size([5000])\n",
            "rewards looks like  (4245,)\n",
            "logs prob looks like  torch.Size([4245])\n",
            "torch.from_numpy(rewards) looks like  torch.Size([4245])\n",
            "rewards looks like  (4294,)\n",
            "logs prob looks like  torch.Size([4294])\n",
            "torch.from_numpy(rewards) looks like  torch.Size([4294])\n",
            "rewards looks like  (3243,)\n",
            "logs prob looks like  torch.Size([3243])\n",
            "torch.from_numpy(rewards) looks like  torch.Size([3243])\n",
            "rewards looks like  (5000,)\n",
            "logs prob looks like  torch.Size([5000])\n",
            "torch.from_numpy(rewards) looks like  torch.Size([5000])\n",
            "rewards looks like  (810,)\n",
            "logs prob looks like  torch.Size([810])\n",
            "torch.from_numpy(rewards) looks like  torch.Size([810])\n",
            "rewards looks like  (1582,)\n",
            "logs prob looks like  torch.Size([1582])\n",
            "torch.from_numpy(rewards) looks like  torch.Size([1582])\n",
            "rewards looks like  (2557,)\n",
            "logs prob looks like  torch.Size([2557])\n",
            "torch.from_numpy(rewards) looks like  torch.Size([2557])\n",
            "rewards looks like  (2583,)\n",
            "logs prob looks like  torch.Size([2583])\n",
            "torch.from_numpy(rewards) looks like  torch.Size([2583])\n",
            "rewards looks like  (4221,)\n",
            "logs prob looks like  torch.Size([4221])\n",
            "torch.from_numpy(rewards) looks like  torch.Size([4221])\n",
            "rewards looks like  (4161,)\n",
            "logs prob looks like  torch.Size([4161])\n",
            "torch.from_numpy(rewards) looks like  torch.Size([4161])\n",
            "rewards looks like  (5000,)\n",
            "logs prob looks like  torch.Size([5000])\n",
            "torch.from_numpy(rewards) looks like  torch.Size([5000])\n",
            "rewards looks like  (4247,)\n",
            "logs prob looks like  torch.Size([4247])\n",
            "torch.from_numpy(rewards) looks like  torch.Size([4247])\n",
            "rewards looks like  (4269,)\n",
            "logs prob looks like  torch.Size([4269])\n",
            "torch.from_numpy(rewards) looks like  torch.Size([4269])\n",
            "rewards looks like  (4372,)\n",
            "logs prob looks like  torch.Size([4372])\n",
            "torch.from_numpy(rewards) looks like  torch.Size([4372])\n",
            "rewards looks like  (4182,)\n",
            "logs prob looks like  torch.Size([4182])\n",
            "torch.from_numpy(rewards) looks like  torch.Size([4182])\n",
            "rewards looks like  (2297,)\n",
            "logs prob looks like  torch.Size([2297])\n",
            "torch.from_numpy(rewards) looks like  torch.Size([2297])\n",
            "rewards looks like  (5000,)\n",
            "logs prob looks like  torch.Size([5000])\n",
            "torch.from_numpy(rewards) looks like  torch.Size([5000])\n",
            "rewards looks like  (3494,)\n",
            "logs prob looks like  torch.Size([3494])\n",
            "torch.from_numpy(rewards) looks like  torch.Size([3494])\n",
            "rewards looks like  (3447,)\n",
            "logs prob looks like  torch.Size([3447])\n",
            "torch.from_numpy(rewards) looks like  torch.Size([3447])\n",
            "rewards looks like  (4238,)\n",
            "logs prob looks like  torch.Size([4238])\n",
            "torch.from_numpy(rewards) looks like  torch.Size([4238])\n",
            "rewards looks like  (3455,)\n",
            "logs prob looks like  torch.Size([3455])\n",
            "torch.from_numpy(rewards) looks like  torch.Size([3455])\n",
            "rewards looks like  (4301,)\n",
            "logs prob looks like  torch.Size([4301])\n",
            "torch.from_numpy(rewards) looks like  torch.Size([4301])\n",
            "rewards looks like  (4539,)\n",
            "logs prob looks like  torch.Size([4539])\n",
            "torch.from_numpy(rewards) looks like  torch.Size([4539])\n",
            "rewards looks like  (5000,)\n",
            "logs prob looks like  torch.Size([5000])\n",
            "torch.from_numpy(rewards) looks like  torch.Size([5000])\n",
            "rewards looks like  (4248,)\n",
            "logs prob looks like  torch.Size([4248])\n",
            "torch.from_numpy(rewards) looks like  torch.Size([4248])\n",
            "rewards looks like  (2514,)\n",
            "logs prob looks like  torch.Size([2514])\n",
            "torch.from_numpy(rewards) looks like  torch.Size([2514])\n",
            "rewards looks like  (2110,)\n",
            "logs prob looks like  torch.Size([2110])\n",
            "torch.from_numpy(rewards) looks like  torch.Size([2110])\n",
            "rewards looks like  (5000,)\n",
            "logs prob looks like  torch.Size([5000])\n",
            "torch.from_numpy(rewards) looks like  torch.Size([5000])\n",
            "rewards looks like  (3470,)\n",
            "logs prob looks like  torch.Size([3470])\n",
            "torch.from_numpy(rewards) looks like  torch.Size([3470])\n",
            "rewards looks like  (671,)\n",
            "logs prob looks like  torch.Size([671])\n",
            "torch.from_numpy(rewards) looks like  torch.Size([671])\n",
            "rewards looks like  (1621,)\n",
            "logs prob looks like  torch.Size([1621])\n",
            "torch.from_numpy(rewards) looks like  torch.Size([1621])\n",
            "rewards looks like  (1666,)\n",
            "logs prob looks like  torch.Size([1666])\n",
            "torch.from_numpy(rewards) looks like  torch.Size([1666])\n",
            "rewards looks like  (3837,)\n",
            "logs prob looks like  torch.Size([3837])\n",
            "torch.from_numpy(rewards) looks like  torch.Size([3837])\n",
            "rewards looks like  (2629,)\n",
            "logs prob looks like  torch.Size([2629])\n",
            "torch.from_numpy(rewards) looks like  torch.Size([2629])\n",
            "rewards looks like  (2659,)\n",
            "logs prob looks like  torch.Size([2659])\n",
            "torch.from_numpy(rewards) looks like  torch.Size([2659])\n",
            "rewards looks like  (4470,)\n",
            "logs prob looks like  torch.Size([4470])\n",
            "torch.from_numpy(rewards) looks like  torch.Size([4470])\n",
            "rewards looks like  (3569,)\n",
            "logs prob looks like  torch.Size([3569])\n",
            "torch.from_numpy(rewards) looks like  torch.Size([3569])\n",
            "rewards looks like  (2575,)\n",
            "logs prob looks like  torch.Size([2575])\n",
            "torch.from_numpy(rewards) looks like  torch.Size([2575])\n",
            "rewards looks like  (2325,)\n",
            "logs prob looks like  torch.Size([2325])\n",
            "torch.from_numpy(rewards) looks like  torch.Size([2325])\n",
            "rewards looks like  (4183,)\n",
            "logs prob looks like  torch.Size([4183])\n",
            "torch.from_numpy(rewards) looks like  torch.Size([4183])\n",
            "rewards looks like  (2594,)\n",
            "logs prob looks like  torch.Size([2594])\n",
            "torch.from_numpy(rewards) looks like  torch.Size([2594])\n",
            "rewards looks like  (4234,)\n",
            "logs prob looks like  torch.Size([4234])\n",
            "torch.from_numpy(rewards) looks like  torch.Size([4234])\n",
            "rewards looks like  (2322,)\n",
            "logs prob looks like  torch.Size([2322])\n",
            "torch.from_numpy(rewards) looks like  torch.Size([2322])\n",
            "rewards looks like  (3576,)\n",
            "logs prob looks like  torch.Size([3576])\n",
            "torch.from_numpy(rewards) looks like  torch.Size([3576])\n",
            "rewards looks like  (3027,)\n",
            "logs prob looks like  torch.Size([3027])\n",
            "torch.from_numpy(rewards) looks like  torch.Size([3027])\n",
            "rewards looks like  (4205,)\n",
            "logs prob looks like  torch.Size([4205])\n",
            "torch.from_numpy(rewards) looks like  torch.Size([4205])\n",
            "rewards looks like  (3524,)\n",
            "logs prob looks like  torch.Size([3524])\n",
            "torch.from_numpy(rewards) looks like  torch.Size([3524])\n",
            "rewards looks like  (5000,)\n",
            "logs prob looks like  torch.Size([5000])\n",
            "torch.from_numpy(rewards) looks like  torch.Size([5000])\n",
            "rewards looks like  (715,)\n",
            "logs prob looks like  torch.Size([715])\n",
            "torch.from_numpy(rewards) looks like  torch.Size([715])\n",
            "rewards looks like  (1555,)\n",
            "logs prob looks like  torch.Size([1555])\n",
            "torch.from_numpy(rewards) looks like  torch.Size([1555])\n",
            "rewards looks like  (999,)\n",
            "logs prob looks like  torch.Size([999])\n",
            "torch.from_numpy(rewards) looks like  torch.Size([999])\n",
            "rewards looks like  (3311,)\n",
            "logs prob looks like  torch.Size([3311])\n",
            "torch.from_numpy(rewards) looks like  torch.Size([3311])\n",
            "rewards looks like  (1437,)\n",
            "logs prob looks like  torch.Size([1437])\n",
            "torch.from_numpy(rewards) looks like  torch.Size([1437])\n",
            "rewards looks like  (819,)\n",
            "logs prob looks like  torch.Size([819])\n",
            "torch.from_numpy(rewards) looks like  torch.Size([819])\n",
            "rewards looks like  (2732,)\n",
            "logs prob looks like  torch.Size([2732])\n",
            "torch.from_numpy(rewards) looks like  torch.Size([2732])\n",
            "rewards looks like  (3703,)\n",
            "logs prob looks like  torch.Size([3703])\n",
            "torch.from_numpy(rewards) looks like  torch.Size([3703])\n",
            "rewards looks like  (1209,)\n",
            "logs prob looks like  torch.Size([1209])\n",
            "torch.from_numpy(rewards) looks like  torch.Size([1209])\n",
            "rewards looks like  (2915,)\n",
            "logs prob looks like  torch.Size([2915])\n",
            "torch.from_numpy(rewards) looks like  torch.Size([2915])\n",
            "rewards looks like  (1780,)\n",
            "logs prob looks like  torch.Size([1780])\n",
            "torch.from_numpy(rewards) looks like  torch.Size([1780])\n",
            "rewards looks like  (2887,)\n",
            "logs prob looks like  torch.Size([2887])\n",
            "torch.from_numpy(rewards) looks like  torch.Size([2887])\n",
            "rewards looks like  (2646,)\n",
            "logs prob looks like  torch.Size([2646])\n",
            "torch.from_numpy(rewards) looks like  torch.Size([2646])\n",
            "rewards looks like  (2963,)\n",
            "logs prob looks like  torch.Size([2963])\n",
            "torch.from_numpy(rewards) looks like  torch.Size([2963])\n",
            "rewards looks like  (2470,)\n",
            "logs prob looks like  torch.Size([2470])\n",
            "torch.from_numpy(rewards) looks like  torch.Size([2470])\n",
            "rewards looks like  (2969,)\n",
            "logs prob looks like  torch.Size([2969])\n",
            "torch.from_numpy(rewards) looks like  torch.Size([2969])\n",
            "rewards looks like  (4129,)\n",
            "logs prob looks like  torch.Size([4129])\n",
            "torch.from_numpy(rewards) looks like  torch.Size([4129])\n",
            "rewards looks like  (959,)\n",
            "logs prob looks like  torch.Size([959])\n",
            "torch.from_numpy(rewards) looks like  torch.Size([959])\n",
            "rewards looks like  (1474,)\n",
            "logs prob looks like  torch.Size([1474])\n",
            "torch.from_numpy(rewards) looks like  torch.Size([1474])\n",
            "rewards looks like  (531,)\n",
            "logs prob looks like  torch.Size([531])\n",
            "torch.from_numpy(rewards) looks like  torch.Size([531])\n",
            "rewards looks like  (1498,)\n",
            "logs prob looks like  torch.Size([1498])\n",
            "torch.from_numpy(rewards) looks like  torch.Size([1498])\n",
            "rewards looks like  (550,)\n",
            "logs prob looks like  torch.Size([550])\n",
            "torch.from_numpy(rewards) looks like  torch.Size([550])\n",
            "rewards looks like  (507,)\n",
            "logs prob looks like  torch.Size([507])\n",
            "torch.from_numpy(rewards) looks like  torch.Size([507])\n",
            "rewards looks like  (506,)\n",
            "logs prob looks like  torch.Size([506])\n",
            "torch.from_numpy(rewards) looks like  torch.Size([506])\n",
            "rewards looks like  (519,)\n",
            "logs prob looks like  torch.Size([519])\n",
            "torch.from_numpy(rewards) looks like  torch.Size([519])\n",
            "rewards looks like  (550,)\n",
            "logs prob looks like  torch.Size([550])\n",
            "torch.from_numpy(rewards) looks like  torch.Size([550])\n",
            "rewards looks like  (497,)\n",
            "logs prob looks like  torch.Size([497])\n",
            "torch.from_numpy(rewards) looks like  torch.Size([497])\n",
            "rewards looks like  (551,)\n",
            "logs prob looks like  torch.Size([551])\n",
            "torch.from_numpy(rewards) looks like  torch.Size([551])\n",
            "rewards looks like  (505,)\n",
            "logs prob looks like  torch.Size([505])\n",
            "torch.from_numpy(rewards) looks like  torch.Size([505])\n",
            "rewards looks like  (508,)\n",
            "logs prob looks like  torch.Size([508])\n",
            "torch.from_numpy(rewards) looks like  torch.Size([508])\n",
            "rewards looks like  (559,)\n",
            "logs prob looks like  torch.Size([559])\n",
            "torch.from_numpy(rewards) looks like  torch.Size([559])\n",
            "rewards looks like  (629,)\n",
            "logs prob looks like  torch.Size([629])\n",
            "torch.from_numpy(rewards) looks like  torch.Size([629])\n",
            "rewards looks like  (514,)\n",
            "logs prob looks like  torch.Size([514])\n",
            "torch.from_numpy(rewards) looks like  torch.Size([514])\n",
            "rewards looks like  (714,)\n",
            "logs prob looks like  torch.Size([714])\n",
            "torch.from_numpy(rewards) looks like  torch.Size([714])\n",
            "rewards looks like  (514,)\n",
            "logs prob looks like  torch.Size([514])\n",
            "torch.from_numpy(rewards) looks like  torch.Size([514])\n",
            "rewards looks like  (649,)\n",
            "logs prob looks like  torch.Size([649])\n",
            "torch.from_numpy(rewards) looks like  torch.Size([649])\n",
            "rewards looks like  (674,)\n",
            "logs prob looks like  torch.Size([674])\n",
            "torch.from_numpy(rewards) looks like  torch.Size([674])\n",
            "rewards looks like  (545,)\n",
            "logs prob looks like  torch.Size([545])\n",
            "torch.from_numpy(rewards) looks like  torch.Size([545])\n",
            "rewards looks like  (525,)\n",
            "logs prob looks like  torch.Size([525])\n",
            "torch.from_numpy(rewards) looks like  torch.Size([525])\n",
            "rewards looks like  (503,)\n",
            "logs prob looks like  torch.Size([503])\n",
            "torch.from_numpy(rewards) looks like  torch.Size([503])\n",
            "rewards looks like  (1434,)\n",
            "logs prob looks like  torch.Size([1434])\n",
            "torch.from_numpy(rewards) looks like  torch.Size([1434])\n",
            "rewards looks like  (632,)\n",
            "logs prob looks like  torch.Size([632])\n",
            "torch.from_numpy(rewards) looks like  torch.Size([632])\n",
            "rewards looks like  (1464,)\n",
            "logs prob looks like  torch.Size([1464])\n",
            "torch.from_numpy(rewards) looks like  torch.Size([1464])\n",
            "rewards looks like  (1598,)\n",
            "logs prob looks like  torch.Size([1598])\n",
            "torch.from_numpy(rewards) looks like  torch.Size([1598])\n",
            "rewards looks like  (891,)\n",
            "logs prob looks like  torch.Size([891])\n",
            "torch.from_numpy(rewards) looks like  torch.Size([891])\n",
            "rewards looks like  (2427,)\n",
            "logs prob looks like  torch.Size([2427])\n",
            "torch.from_numpy(rewards) looks like  torch.Size([2427])\n",
            "rewards looks like  (2812,)\n",
            "logs prob looks like  torch.Size([2812])\n",
            "torch.from_numpy(rewards) looks like  torch.Size([2812])\n",
            "rewards looks like  (4147,)\n",
            "logs prob looks like  torch.Size([4147])\n",
            "torch.from_numpy(rewards) looks like  torch.Size([4147])\n",
            "rewards looks like  (5000,)\n",
            "logs prob looks like  torch.Size([5000])\n",
            "torch.from_numpy(rewards) looks like  torch.Size([5000])\n",
            "rewards looks like  (1557,)\n",
            "logs prob looks like  torch.Size([1557])\n",
            "torch.from_numpy(rewards) looks like  torch.Size([1557])\n",
            "rewards looks like  (2416,)\n",
            "logs prob looks like  torch.Size([2416])\n",
            "torch.from_numpy(rewards) looks like  torch.Size([2416])\n",
            "rewards looks like  (1109,)\n",
            "logs prob looks like  torch.Size([1109])\n",
            "torch.from_numpy(rewards) looks like  torch.Size([1109])\n",
            "rewards looks like  (990,)\n",
            "logs prob looks like  torch.Size([990])\n",
            "torch.from_numpy(rewards) looks like  torch.Size([990])\n",
            "rewards looks like  (871,)\n",
            "logs prob looks like  torch.Size([871])\n",
            "torch.from_numpy(rewards) looks like  torch.Size([871])\n",
            "rewards looks like  (1920,)\n",
            "logs prob looks like  torch.Size([1920])\n",
            "torch.from_numpy(rewards) looks like  torch.Size([1920])\n",
            "rewards looks like  (4401,)\n",
            "logs prob looks like  torch.Size([4401])\n",
            "torch.from_numpy(rewards) looks like  torch.Size([4401])\n",
            "rewards looks like  (5000,)\n",
            "logs prob looks like  torch.Size([5000])\n",
            "torch.from_numpy(rewards) looks like  torch.Size([5000])\n",
            "rewards looks like  (5000,)\n",
            "logs prob looks like  torch.Size([5000])\n",
            "torch.from_numpy(rewards) looks like  torch.Size([5000])\n",
            "rewards looks like  (5000,)\n",
            "logs prob looks like  torch.Size([5000])\n",
            "torch.from_numpy(rewards) looks like  torch.Size([5000])\n",
            "rewards looks like  (3847,)\n",
            "logs prob looks like  torch.Size([3847])\n",
            "torch.from_numpy(rewards) looks like  torch.Size([3847])\n",
            "rewards looks like  (4061,)\n",
            "logs prob looks like  torch.Size([4061])\n",
            "torch.from_numpy(rewards) looks like  torch.Size([4061])\n",
            "rewards looks like  (1259,)\n",
            "logs prob looks like  torch.Size([1259])\n",
            "torch.from_numpy(rewards) looks like  torch.Size([1259])\n",
            "rewards looks like  (4154,)\n",
            "logs prob looks like  torch.Size([4154])\n",
            "torch.from_numpy(rewards) looks like  torch.Size([4154])\n",
            "rewards looks like  (547,)\n",
            "logs prob looks like  torch.Size([547])\n",
            "torch.from_numpy(rewards) looks like  torch.Size([547])\n",
            "rewards looks like  (522,)\n",
            "logs prob looks like  torch.Size([522])\n",
            "torch.from_numpy(rewards) looks like  torch.Size([522])\n",
            "rewards looks like  (514,)\n",
            "logs prob looks like  torch.Size([514])\n",
            "torch.from_numpy(rewards) looks like  torch.Size([514])\n",
            "rewards looks like  (558,)\n",
            "logs prob looks like  torch.Size([558])\n",
            "torch.from_numpy(rewards) looks like  torch.Size([558])\n",
            "rewards looks like  (566,)\n",
            "logs prob looks like  torch.Size([566])\n",
            "torch.from_numpy(rewards) looks like  torch.Size([566])\n",
            "rewards looks like  (463,)\n",
            "logs prob looks like  torch.Size([463])\n",
            "torch.from_numpy(rewards) looks like  torch.Size([463])\n",
            "rewards looks like  (489,)\n",
            "logs prob looks like  torch.Size([489])\n",
            "torch.from_numpy(rewards) looks like  torch.Size([489])\n",
            "rewards looks like  (428,)\n",
            "logs prob looks like  torch.Size([428])\n",
            "torch.from_numpy(rewards) looks like  torch.Size([428])\n",
            "rewards looks like  (468,)\n",
            "logs prob looks like  torch.Size([468])\n",
            "torch.from_numpy(rewards) looks like  torch.Size([468])\n",
            "rewards looks like  (455,)\n",
            "logs prob looks like  torch.Size([455])\n",
            "torch.from_numpy(rewards) looks like  torch.Size([455])\n",
            "rewards looks like  (509,)\n",
            "logs prob looks like  torch.Size([509])\n",
            "torch.from_numpy(rewards) looks like  torch.Size([509])\n",
            "rewards looks like  (532,)\n",
            "logs prob looks like  torch.Size([532])\n",
            "torch.from_numpy(rewards) looks like  torch.Size([532])\n",
            "rewards looks like  (489,)\n",
            "logs prob looks like  torch.Size([489])\n",
            "torch.from_numpy(rewards) looks like  torch.Size([489])\n",
            "rewards looks like  (485,)\n",
            "logs prob looks like  torch.Size([485])\n",
            "torch.from_numpy(rewards) looks like  torch.Size([485])\n",
            "rewards looks like  (485,)\n",
            "logs prob looks like  torch.Size([485])\n",
            "torch.from_numpy(rewards) looks like  torch.Size([485])\n",
            "rewards looks like  (539,)\n",
            "logs prob looks like  torch.Size([539])\n",
            "torch.from_numpy(rewards) looks like  torch.Size([539])\n",
            "rewards looks like  (514,)\n",
            "logs prob looks like  torch.Size([514])\n",
            "torch.from_numpy(rewards) looks like  torch.Size([514])\n",
            "rewards looks like  (524,)\n",
            "logs prob looks like  torch.Size([524])\n",
            "torch.from_numpy(rewards) looks like  torch.Size([524])\n",
            "rewards looks like  (455,)\n",
            "logs prob looks like  torch.Size([455])\n",
            "torch.from_numpy(rewards) looks like  torch.Size([455])\n",
            "rewards looks like  (465,)\n",
            "logs prob looks like  torch.Size([465])\n",
            "torch.from_numpy(rewards) looks like  torch.Size([465])\n",
            "rewards looks like  (470,)\n",
            "logs prob looks like  torch.Size([470])\n",
            "torch.from_numpy(rewards) looks like  torch.Size([470])\n",
            "rewards looks like  (449,)\n",
            "logs prob looks like  torch.Size([449])\n",
            "torch.from_numpy(rewards) looks like  torch.Size([449])\n",
            "rewards looks like  (1407,)\n",
            "logs prob looks like  torch.Size([1407])\n",
            "torch.from_numpy(rewards) looks like  torch.Size([1407])\n",
            "rewards looks like  (516,)\n",
            "logs prob looks like  torch.Size([516])\n",
            "torch.from_numpy(rewards) looks like  torch.Size([516])\n",
            "rewards looks like  (507,)\n",
            "logs prob looks like  torch.Size([507])\n",
            "torch.from_numpy(rewards) looks like  torch.Size([507])\n",
            "rewards looks like  (472,)\n",
            "logs prob looks like  torch.Size([472])\n",
            "torch.from_numpy(rewards) looks like  torch.Size([472])\n",
            "rewards looks like  (547,)\n",
            "logs prob looks like  torch.Size([547])\n",
            "torch.from_numpy(rewards) looks like  torch.Size([547])\n",
            "rewards looks like  (532,)\n",
            "logs prob looks like  torch.Size([532])\n",
            "torch.from_numpy(rewards) looks like  torch.Size([532])\n",
            "rewards looks like  (530,)\n",
            "logs prob looks like  torch.Size([530])\n",
            "torch.from_numpy(rewards) looks like  torch.Size([530])\n",
            "rewards looks like  (468,)\n",
            "logs prob looks like  torch.Size([468])\n",
            "torch.from_numpy(rewards) looks like  torch.Size([468])\n",
            "rewards looks like  (503,)\n",
            "logs prob looks like  torch.Size([503])\n",
            "torch.from_numpy(rewards) looks like  torch.Size([503])\n",
            "rewards looks like  (452,)\n",
            "logs prob looks like  torch.Size([452])\n",
            "torch.from_numpy(rewards) looks like  torch.Size([452])\n",
            "rewards looks like  (497,)\n",
            "logs prob looks like  torch.Size([497])\n",
            "torch.from_numpy(rewards) looks like  torch.Size([497])\n",
            "rewards looks like  (483,)\n",
            "logs prob looks like  torch.Size([483])\n",
            "torch.from_numpy(rewards) looks like  torch.Size([483])\n",
            "rewards looks like  (418,)\n",
            "logs prob looks like  torch.Size([418])\n",
            "torch.from_numpy(rewards) looks like  torch.Size([418])\n",
            "rewards looks like  (462,)\n",
            "logs prob looks like  torch.Size([462])\n",
            "torch.from_numpy(rewards) looks like  torch.Size([462])\n",
            "rewards looks like  (521,)\n",
            "logs prob looks like  torch.Size([521])\n",
            "torch.from_numpy(rewards) looks like  torch.Size([521])\n",
            "rewards looks like  (581,)\n",
            "logs prob looks like  torch.Size([581])\n",
            "torch.from_numpy(rewards) looks like  torch.Size([581])\n",
            "rewards looks like  (501,)\n",
            "logs prob looks like  torch.Size([501])\n",
            "torch.from_numpy(rewards) looks like  torch.Size([501])\n",
            "rewards looks like  (486,)\n",
            "logs prob looks like  torch.Size([486])\n",
            "torch.from_numpy(rewards) looks like  torch.Size([486])\n",
            "rewards looks like  (556,)\n",
            "logs prob looks like  torch.Size([556])\n",
            "torch.from_numpy(rewards) looks like  torch.Size([556])\n",
            "rewards looks like  (461,)\n",
            "logs prob looks like  torch.Size([461])\n",
            "torch.from_numpy(rewards) looks like  torch.Size([461])\n",
            "rewards looks like  (532,)\n",
            "logs prob looks like  torch.Size([532])\n",
            "torch.from_numpy(rewards) looks like  torch.Size([532])\n",
            "rewards looks like  (543,)\n",
            "logs prob looks like  torch.Size([543])\n",
            "torch.from_numpy(rewards) looks like  torch.Size([543])\n",
            "rewards looks like  (506,)\n",
            "logs prob looks like  torch.Size([506])\n",
            "torch.from_numpy(rewards) looks like  torch.Size([506])\n",
            "rewards looks like  (1502,)\n",
            "logs prob looks like  torch.Size([1502])\n",
            "torch.from_numpy(rewards) looks like  torch.Size([1502])\n",
            "rewards looks like  (1459,)\n",
            "logs prob looks like  torch.Size([1459])\n",
            "torch.from_numpy(rewards) looks like  torch.Size([1459])\n",
            "rewards looks like  (709,)\n",
            "logs prob looks like  torch.Size([709])\n",
            "torch.from_numpy(rewards) looks like  torch.Size([709])\n",
            "rewards looks like  (664,)\n",
            "logs prob looks like  torch.Size([664])\n",
            "torch.from_numpy(rewards) looks like  torch.Size([664])\n",
            "rewards looks like  (1606,)\n",
            "logs prob looks like  torch.Size([1606])\n",
            "torch.from_numpy(rewards) looks like  torch.Size([1606])\n",
            "rewards looks like  (2393,)\n",
            "logs prob looks like  torch.Size([2393])\n",
            "torch.from_numpy(rewards) looks like  torch.Size([2393])\n",
            "rewards looks like  (2391,)\n",
            "logs prob looks like  torch.Size([2391])\n",
            "torch.from_numpy(rewards) looks like  torch.Size([2391])\n",
            "rewards looks like  (1144,)\n",
            "logs prob looks like  torch.Size([1144])\n",
            "torch.from_numpy(rewards) looks like  torch.Size([1144])\n",
            "rewards looks like  (2512,)\n",
            "logs prob looks like  torch.Size([2512])\n",
            "torch.from_numpy(rewards) looks like  torch.Size([2512])\n",
            "rewards looks like  (1743,)\n",
            "logs prob looks like  torch.Size([1743])\n",
            "torch.from_numpy(rewards) looks like  torch.Size([1743])\n",
            "rewards looks like  (3230,)\n",
            "logs prob looks like  torch.Size([3230])\n",
            "torch.from_numpy(rewards) looks like  torch.Size([3230])\n",
            "rewards looks like  (2576,)\n",
            "logs prob looks like  torch.Size([2576])\n",
            "torch.from_numpy(rewards) looks like  torch.Size([2576])\n",
            "rewards looks like  (1547,)\n",
            "logs prob looks like  torch.Size([1547])\n",
            "torch.from_numpy(rewards) looks like  torch.Size([1547])\n",
            "rewards looks like  (2392,)\n",
            "logs prob looks like  torch.Size([2392])\n",
            "torch.from_numpy(rewards) looks like  torch.Size([2392])\n",
            "rewards looks like  (1261,)\n",
            "logs prob looks like  torch.Size([1261])\n",
            "torch.from_numpy(rewards) looks like  torch.Size([1261])\n",
            "rewards looks like  (4154,)\n",
            "logs prob looks like  torch.Size([4154])\n",
            "torch.from_numpy(rewards) looks like  torch.Size([4154])\n",
            "rewards looks like  (1651,)\n",
            "logs prob looks like  torch.Size([1651])\n",
            "torch.from_numpy(rewards) looks like  torch.Size([1651])\n",
            "rewards looks like  (2395,)\n",
            "logs prob looks like  torch.Size([2395])\n",
            "torch.from_numpy(rewards) looks like  torch.Size([2395])\n",
            "rewards looks like  (4157,)\n",
            "logs prob looks like  torch.Size([4157])\n",
            "torch.from_numpy(rewards) looks like  torch.Size([4157])\n",
            "rewards looks like  (475,)\n",
            "logs prob looks like  torch.Size([475])\n",
            "torch.from_numpy(rewards) looks like  torch.Size([475])\n",
            "rewards looks like  (676,)\n",
            "logs prob looks like  torch.Size([676])\n",
            "torch.from_numpy(rewards) looks like  torch.Size([676])\n",
            "rewards looks like  (495,)\n",
            "logs prob looks like  torch.Size([495])\n",
            "torch.from_numpy(rewards) looks like  torch.Size([495])\n",
            "rewards looks like  (1447,)\n",
            "logs prob looks like  torch.Size([1447])\n",
            "torch.from_numpy(rewards) looks like  torch.Size([1447])\n",
            "rewards looks like  (522,)\n",
            "logs prob looks like  torch.Size([522])\n",
            "torch.from_numpy(rewards) looks like  torch.Size([522])\n",
            "rewards looks like  (568,)\n",
            "logs prob looks like  torch.Size([568])\n",
            "torch.from_numpy(rewards) looks like  torch.Size([568])\n",
            "rewards looks like  (941,)\n",
            "logs prob looks like  torch.Size([941])\n",
            "torch.from_numpy(rewards) looks like  torch.Size([941])\n",
            "rewards looks like  (1491,)\n",
            "logs prob looks like  torch.Size([1491])\n",
            "torch.from_numpy(rewards) looks like  torch.Size([1491])\n",
            "rewards looks like  (1493,)\n",
            "logs prob looks like  torch.Size([1493])\n",
            "torch.from_numpy(rewards) looks like  torch.Size([1493])\n",
            "rewards looks like  (1789,)\n",
            "logs prob looks like  torch.Size([1789])\n",
            "torch.from_numpy(rewards) looks like  torch.Size([1789])\n",
            "rewards looks like  (2409,)\n",
            "logs prob looks like  torch.Size([2409])\n",
            "torch.from_numpy(rewards) looks like  torch.Size([2409])\n",
            "rewards looks like  (1769,)\n",
            "logs prob looks like  torch.Size([1769])\n",
            "torch.from_numpy(rewards) looks like  torch.Size([1769])\n",
            "rewards looks like  (2841,)\n",
            "logs prob looks like  torch.Size([2841])\n",
            "torch.from_numpy(rewards) looks like  torch.Size([2841])\n",
            "rewards looks like  (4264,)\n",
            "logs prob looks like  torch.Size([4264])\n",
            "torch.from_numpy(rewards) looks like  torch.Size([4264])\n",
            "rewards looks like  (5000,)\n",
            "logs prob looks like  torch.Size([5000])\n",
            "torch.from_numpy(rewards) looks like  torch.Size([5000])\n",
            "rewards looks like  (5000,)\n",
            "logs prob looks like  torch.Size([5000])\n",
            "torch.from_numpy(rewards) looks like  torch.Size([5000])\n",
            "rewards looks like  (5000,)\n",
            "logs prob looks like  torch.Size([5000])\n",
            "torch.from_numpy(rewards) looks like  torch.Size([5000])\n",
            "rewards looks like  (3350,)\n",
            "logs prob looks like  torch.Size([3350])\n",
            "torch.from_numpy(rewards) looks like  torch.Size([3350])\n"
          ]
        }
      ]
    },
    {
      "cell_type": "markdown",
      "metadata": {
        "id": "vNb_tuFYhKVK"
      },
      "source": [
        "### Training Result\n",
        "During the training process, we recorded `avg_total_reward`, which represents the average total reward of episodes before updating the policy network.\n",
        "\n",
        "Theoretically, if the agent becomes better, the `avg_total_reward` will increase.\n",
        "The visualization of the training process is shown below:  \n"
      ]
    },
    {
      "cell_type": "code",
      "metadata": {
        "id": "wZYOI8H10SHN",
        "colab": {
          "base_uri": "https://localhost:8080/",
          "height": 452
        },
        "outputId": "6de023cc-8dde-40d1-e625-5995fe638e94"
      },
      "source": [
        "plt.plot(avg_total_rewards)\n",
        "plt.title(\"Total Rewards\")\n",
        "plt.show()"
      ],
      "execution_count": 104,
      "outputs": [
        {
          "output_type": "display_data",
          "data": {
            "text/plain": [
              "<Figure size 640x480 with 1 Axes>"
            ],
            "image/png": "[encoded data removed]"
          },
          "metadata": {}
        }
      ]
    },
    {
      "cell_type": "markdown",
      "metadata": {
        "id": "mV5jj4dThz0Y"
      },
      "source": [
        "In addition, `avg_final_reward` represents average final rewards of episodes. To be specific, final rewards is the last reward received in one episode, indicating whether the craft lands successfully or not.\n"
      ]
    },
    {
      "cell_type": "code",
      "metadata": {
        "id": "txDZ5vlGWz5w",
        "colab": {
          "base_uri": "https://localhost:8080/",
          "height": 452
        },
        "outputId": "731e72ac-d796-4fe4-b698-b8d6b827e987"
      },
      "source": [
        "plt.plot(avg_final_rewards)\n",
        "plt.title(\"Final Rewards\")\n",
        "plt.show()"
      ],
      "execution_count": 105,
      "outputs": [
        {
          "output_type": "display_data",
          "data": {
            "text/plain": [
              "<Figure size 640x480 with 1 Axes>"
            ],
            "image/png": "[encoded data removed]"
          },
          "metadata": {}
        }
      ]
    },
    {
      "cell_type": "markdown",
      "metadata": {
        "id": "u2HaGRVEYGQS"
      },
      "source": [
        "## Testing\n",
        "The testing result will be the average reward of 5 testing"
      ]
    },
    {
      "cell_type": "code",
      "metadata": {
        "id": "5yFuUKKRYH73",
        "colab": {
          "base_uri": "https://localhost:8080/",
          "height": 414
        },
        "outputId": "e28d4e9d-e0e1-4f62-ac54-b1b04f96047b"
      },
      "source": [
        "fix(env, seed)\n",
        "agent.network.eval()  # set the network into evaluation mode\n",
        "NUM_OF_TEST = 5 # Do not revise this !!!\n",
        "test_total_reward = []\n",
        "action_list = []\n",
        "for i in range(NUM_OF_TEST):\n",
        "  actions = []\n",
        "  state = env.reset()\n",
        "\n",
        "  img = plt.imshow(env.render(mode='rgb_array'))\n",
        "\n",
        "  total_reward = 0\n",
        "\n",
        "  done = False\n",
        "  while not done:\n",
        "      action, _ = agent.sample(state)\n",
        "      actions.append(action)\n",
        "      state, reward, done, _ = env.step(action)\n",
        "\n",
        "      total_reward += reward\n",
        "\n",
        "      img.set_data(env.render(mode='rgb_array'))\n",
        "      display.display(plt.gcf())\n",
        "      display.clear_output(wait=True)\n",
        "\n",
        "  print(total_reward)\n",
        "  test_total_reward.append(total_reward)\n",
        "\n",
        "  action_list.append(actions) # save the result of testing\n"
      ],
      "execution_count": 106,
      "outputs": [
        {
          "output_type": "stream",
          "name": "stdout",
          "text": [
            "15.392458024648903\n"
          ]
        },
        {
          "output_type": "display_data",
          "data": {
            "text/plain": [
              "<Figure size 640x480 with 1 Axes>"
            ],
            "image/png": "[encoded data removed]"
          },
          "metadata": {}
        }
      ]
    },
    {
      "cell_type": "code",
      "metadata": {
        "id": "Aex7mcKr0J01",
        "colab": {
          "base_uri": "https://localhost:8080/"
        },
        "outputId": "81dfbe00-b1b4-461e-cc41-c0e0b7479b40"
      },
      "source": [
        "print(np.mean(test_total_reward))"
      ],
      "execution_count": 107,
      "outputs": [
        {
          "output_type": "stream",
          "name": "stdout",
          "text": [
            "89.88080582542621\n"
          ]
        }
      ]
    },
    {
      "cell_type": "markdown",
      "metadata": {
        "id": "leyebGYRpqsF"
      },
      "source": [
        "Action list"
      ]
    },
    {
      "cell_type": "code",
      "metadata": {
        "id": "hGAH4YWDpp4u",
        "colab": {
          "base_uri": "https://localhost:8080/"
        },
        "outputId": "b5d9e12e-a6d6-4079-d889-de2dac967283"
      },
      "source": [
        "print(\"Action list looks like \", action_list)\n",
        "print(\"Action list's shape looks like \", np.shape(action_list))"
      ],
      "execution_count": 108,
      "outputs": [
        {
          "output_type": "stream",
          "name": "stdout",
          "text": [
            "Action list looks like  [[3, 3, 3, 3, 3, 3, 3, 3, 1, 1, 0, 3, 1, 3, 1, 1, 1, 1, 3, 2, 0, 3, 1, 1, 1, 3, 3, 1, 2, 2, 1, 2, 3, 1, 3, 2, 3, 2, 1, 3, 2, 2, 3, 2, 1, 3, 3, 1, 2, 2, 1, 2, 2, 0, 2, 2, 2, 2, 2, 2, 2, 1, 2, 2, 3, 2, 2, 1, 2, 2, 2, 2, 2, 3, 1, 2, 1, 2, 2, 2, 1, 2, 2, 2, 2, 1, 2, 1, 2, 1, 1, 2, 2, 2, 2, 2, 2, 1, 2, 2, 2, 2, 2, 2, 2, 2, 3, 2, 3, 2, 3, 3, 2, 2, 2, 3, 2, 2, 2, 2, 2, 2, 3, 2, 2, 2, 3, 2, 0, 2, 2, 0, 2, 1, 2, 2, 2, 3, 2, 3, 3, 3, 2, 3, 3, 3, 3, 3, 3], [1, 1, 1, 1, 1, 1, 1, 0, 1, 1, 2, 3, 3, 3, 1, 3, 2, 0, 3, 3, 3, 2, 3, 2, 2, 2, 2, 2, 2, 2, 2, 2, 2, 2, 2, 2, 2, 1, 0, 2, 3, 2, 2, 3, 1, 2, 2, 2, 2, 2, 3, 2, 3, 2, 2, 2, 3, 2, 3, 2, 2, 3, 2, 2, 2, 3, 3, 2, 2, 1, 1, 2, 1, 1, 2, 2, 1, 2, 2, 1, 2, 2, 1, 1, 2, 1, 2, 2, 2, 2, 1, 1, 2, 2, 1, 2, 2, 2, 2, 2, 2, 2, 1, 2, 2, 2, 2, 2, 2, 2, 2, 3, 3, 2, 2, 0, 3, 2, 3, 2, 2, 2, 3, 2, 2, 3, 3, 1, 2, 3, 2, 2, 3, 2, 2, 2, 2, 2, 2, 2, 2, 2, 2, 2, 3, 2, 1, 1, 2, 2, 3, 2, 2, 2, 1, 1, 1, 1, 1, 1, 1, 3, 3, 1, 1, 1, 1, 3, 3, 1, 3, 3, 3, 1, 3, 1, 3, 1, 3, 3, 1, 1, 3, 1, 0, 1, 1, 3, 3, 3, 1, 3, 3, 3, 3, 1, 0, 3, 2, 1, 1, 2, 3, 2, 1, 3, 3, 3, 3, 1, 3, 3, 0, 3, 3, 1, 3, 3, 3, 3, 1, 3, 1, 1, 0, 1, 1, 1, 3, 1, 3, 3, 1, 1, 3, 1, 3, 3, 3, 3, 1, 0, 3, 3, 1, 3, 3, 1, 3, 1, 3, 3, 3, 1, 3, 1, 1, 1, 3, 3, 3, 3, 3, 1, 3, 0, 3, 1, 3, 1, 3, 3, 1, 3, 3, 1, 3, 1, 3, 3, 1, 3, 3, 3, 3, 3, 3, 1, 3, 3, 3, 1, 3, 3, 3, 1, 1, 3, 3, 1, 3, 1, 1, 3, 3, 1, 3, 1, 3, 3, 3, 1, 1, 1, 3, 3, 2, 1, 3, 1, 0, 0, 3, 1, 1, 3, 1, 0, 3, 1, 3, 3, 0, 3, 3, 3, 1, 3, 3, 1, 3, 3, 3, 3, 2, 3, 2, 1, 1, 3, 2, 3, 1, 3, 0, 3, 1, 3, 1, 0, 1, 3, 3, 3, 1, 3, 1, 1, 3, 1, 3, 3, 1, 1, 3, 3, 1, 1, 3, 1, 1, 3, 3, 3, 1, 0, 3, 1, 2, 3, 1, 1, 3, 1, 0, 3, 2, 3, 3, 3, 1, 1, 1, 1, 1, 3, 3, 3, 1, 3, 0, 0, 3, 3, 3, 3, 1, 3, 3, 0, 1, 1, 3, 3, 1, 1, 3, 3, 3, 0, 1, 3, 3, 3, 3, 3, 3, 1, 0, 1, 3, 3, 3, 3, 1, 1, 1, 3, 1, 0, 3, 1, 3, 3, 3, 3, 0, 1, 1, 3, 3, 0, 3, 3, 1, 3, 3, 3, 3, 1, 1, 3, 3, 3, 3, 3, 3, 3, 3, 3, 3, 1, 1, 3, 3, 3, 1, 1, 3, 1, 1, 1, 1, 3, 3, 3, 0, 3, 1, 3, 3, 1, 3, 3, 3, 1, 3, 1, 0, 1, 3, 1, 3, 1, 1, 3, 3, 1, 1, 1, 3, 1, 1, 3, 3, 1, 3, 3, 3, 3, 3, 1, 1, 1, 3, 3, 1, 1, 3, 1, 0, 3, 3, 3, 3, 3, 3, 3, 3, 3, 3, 1, 1, 1, 1, 3, 3, 3, 3, 3, 3, 1, 3, 3, 1, 3, 3, 3, 3, 3, 0, 3, 1, 3, 3, 3, 3, 1, 3, 0, 3, 3, 3, 1, 1, 1, 3, 3, 3, 1, 3, 3, 3, 1, 3, 1, 3, 3, 0, 3, 1, 3, 3, 3, 1, 0, 3, 3, 1, 1, 1, 3, 3, 3, 3, 2, 1, 1, 3, 1, 3, 3, 1, 1, 1, 1, 3, 3, 1, 3, 3, 3, 1, 3, 3, 1, 3, 1, 3, 1, 3, 1, 0, 1, 3, 1, 3, 1, 3, 1, 3, 3, 0, 3, 3, 3, 3, 3, 3, 3, 3, 3, 3, 3, 3, 1, 3, 3, 1, 1, 1, 3, 3, 3, 1, 3, 1, 3, 1, 3, 3, 3, 1, 3, 3, 1, 1, 3, 3, 3, 3, 1, 1, 3, 0, 3, 0, 3, 3, 3, 3, 0, 0, 3, 3, 1, 3, 3, 3, 3, 0, 3, 1, 3, 1, 1, 3, 3, 3, 3, 3, 3, 3, 1, 3, 3, 3, 1, 1, 1, 3, 1, 1, 3, 0, 1, 1, 3, 0, 3, 1, 3, 3, 1, 3, 1, 3, 1, 1, 3, 3, 0, 3, 1, 0, 3, 3, 3, 1, 1, 1, 3, 3, 1, 1, 1, 1, 1, 3, 3, 3, 3, 3, 1, 3, 1, 3, 3, 3, 1, 3, 1, 1, 3, 0, 3, 1, 1, 1, 1, 1, 1, 3, 1, 3, 3, 1, 2, 2, 2, 3, 2, 3, 2, 3, 1, 1, 0, 2, 2, 1, 3, 3, 3, 3, 1, 3, 3, 1, 1, 1, 1, 3, 1, 3, 1, 1, 3, 2, 1, 3, 3, 1, 3, 3, 3, 3, 1, 3, 1, 3, 1, 0, 3, 1, 1, 3, 3, 1, 3, 1, 3, 3, 3, 2, 3, 2, 1, 1, 3, 2, 3, 3, 0, 3, 3, 3, 1, 1, 1, 1, 3, 3, 3, 3, 1, 1, 3, 3, 3, 3, 3, 1, 3, 1, 1, 1, 3, 1, 3, 1, 3, 3, 1, 3, 1, 0, 1, 3, 3, 3, 0, 1, 3, 2, 3, 1, 0, 1, 1, 3, 1, 3, 3, 3, 3, 1, 1, 1, 3, 1, 0, 1, 3, 3, 1, 3, 3, 1, 3, 3, 3, 1, 3, 1, 1, 3, 1, 1, 0, 3, 3, 1, 1, 1, 1, 3, 1, 3, 1, 3, 1, 3, 3, 1, 2, 0, 3, 1, 3, 1, 1, 1, 1, 3, 1, 0, 0, 3, 3, 3, 3, 1, 3, 3, 0, 1, 3, 1, 1, 1, 3, 1, 3, 3, 3, 1, 3, 3, 1, 0, 3, 0, 1, 3, 1, 3, 3, 3, 0], [1, 1, 1, 1, 0, 1, 1, 1, 1, 1, 0, 1, 1, 3, 1, 1, 1, 1, 3, 3, 3, 3, 2, 3, 2, 3, 0, 2, 3, 3, 3, 1, 2, 3, 3, 2, 3, 3, 2, 3, 3, 2, 2, 3, 2, 3, 3, 2, 1, 2, 3, 2, 3, 2, 2, 2, 1, 1, 3, 2, 1, 2, 1, 2, 1, 2, 2, 1, 2, 2, 2, 2, 2, 2, 1, 1, 2, 2, 3, 3, 2, 2, 2, 2, 2, 1, 2, 2, 2, 3, 2, 2, 2, 1, 2, 2, 3, 2, 1, 2, 3, 1, 2, 0, 2, 2, 2, 1, 2, 3, 3, 2, 3, 2, 3, 2, 2, 2, 2, 3, 1, 2, 2, 1, 2, 1, 2, 2, 2, 2, 2, 2, 2, 1, 2, 3, 1, 1, 2, 1, 2, 2, 2, 3, 2, 3, 2, 3, 2, 1, 2, 3, 2, 2, 2, 1, 1, 2, 1, 1, 3, 2, 3, 2, 3, 2, 1, 1, 1, 2, 1, 2, 1, 2, 2, 2, 1, 2, 2, 2, 3, 1, 3, 2, 2, 3, 2, 2, 3, 3, 3, 3, 3, 3, 3, 3, 3, 3, 1, 1, 3, 3, 3, 1, 3, 3, 3, 2, 1, 3, 3, 1, 3, 3, 1, 3, 0, 1, 1, 3, 3, 1, 1, 1, 3, 3, 1, 2, 1, 1, 3, 3, 3, 0, 3, 3, 3, 3, 3, 1, 1, 1, 2, 1, 3, 1, 3, 0, 3, 1, 3, 1, 3, 3, 0, 3, 1, 2, 3, 0, 3, 1, 3, 3, 3, 2, 1, 3, 1, 3, 1, 3, 3, 3, 3, 3, 3, 0, 3, 1, 1, 1, 1, 3, 0, 3, 1, 3, 3, 3, 3, 3, 3, 0, 1, 3, 3, 1, 3, 1, 3, 1, 3, 1, 3, 3, 3, 1, 3, 1, 3, 1, 3, 1, 1, 3, 3, 1, 1, 1, 1, 1, 3, 1, 1, 3, 1, 1, 3, 1, 3, 2, 1, 2, 2, 3, 1, 2, 1, 3, 2, 2, 3, 2, 2, 3, 3, 3, 1, 3, 3, 1, 3, 3, 3, 3, 1, 3, 3, 1, 1, 1, 1, 3, 1, 1, 3, 3, 0, 3, 1, 3, 3, 0, 3, 3, 1, 3, 3, 2, 3, 0, 2, 1, 1, 3, 1, 1, 1, 3, 3, 1, 1, 3, 3, 3, 1, 3, 3, 1, 3, 3, 3, 3, 1, 3, 0, 1, 3, 2, 3, 1, 3, 3, 3, 3, 1, 3, 3, 1, 3, 3, 1, 3, 1, 3, 3, 1, 1, 3, 3, 1, 1, 3, 1, 1, 3, 3, 1, 1, 1, 1, 1, 3, 3, 3, 3, 3, 3, 3, 3, 3, 1, 3, 1, 3, 1, 3, 1, 1, 3, 3, 3, 1, 3, 1, 1, 3, 3, 3, 1, 3, 3, 1, 3, 1, 3, 1, 0, 3, 3, 1, 1, 3, 1, 3, 0, 1, 1, 3, 3, 1, 3, 3, 1, 1, 3, 3, 0, 3, 1, 3, 3, 3, 1, 0, 1, 3, 3, 3, 1, 1, 3, 0, 1, 1, 3, 3, 3, 3, 3, 3, 1, 3, 3, 1, 1, 1, 3, 0, 3, 3, 1, 3, 3, 3, 1, 1, 1, 3, 3, 3, 1, 3, 1, 3, 3, 1, 3, 3, 3, 3, 1, 3, 1, 3, 3, 3, 1, 1, 3, 1, 1, 1, 3, 3, 1, 3, 3, 3, 1, 1, 1, 3, 3, 3, 3, 3, 0, 3, 3, 3, 1, 1, 1, 3, 3, 3, 3, 3, 1, 2, 1, 3, 1, 3, 3, 3, 3, 1, 3, 1, 1, 3, 1, 0, 1, 1, 3, 3, 1, 3, 1, 3, 0, 3, 0, 3, 3, 1, 1, 3, 3, 3, 1, 1, 1, 3, 1, 3, 1, 3, 1, 3, 3, 3, 1, 1, 3, 3, 1, 3, 3, 1, 1, 3, 1, 1, 3, 3, 1, 1, 1, 3, 1, 1, 3, 1, 0, 1, 3, 1, 3, 3, 3, 3, 1, 0, 0, 3, 3, 3, 1, 1, 3, 3, 3, 3, 3, 1, 3, 3, 2, 1, 3, 1, 3, 3, 3, 1, 1, 3, 1, 1, 3, 3, 1, 1, 2, 1, 3, 3, 3, 3, 3, 0, 0, 1, 1, 3, 3, 1, 3, 3, 3, 3, 1, 1, 3, 1, 3, 3, 1, 3, 0, 1, 3, 1, 3, 1, 1, 3, 0, 1, 3, 3, 1, 1, 1, 3, 3, 3, 1, 3, 3, 2, 3, 3, 3, 3, 3, 3, 1, 3, 3, 3, 3, 3, 1, 1, 1, 0, 3, 3, 3, 1, 1, 3, 1, 3, 1, 3, 1, 3, 3, 3, 3, 2, 1, 1, 1, 1, 3, 3, 3, 3, 0, 3, 0, 1, 1, 3, 1, 2, 3, 3, 2, 1, 3, 3, 3, 1, 1, 1, 3, 3, 1, 3, 0, 2, 1, 3, 1, 3, 1, 3, 3, 1, 3, 3, 0, 3, 1, 3, 3, 1, 2, 0, 3, 3, 3, 1, 1, 3, 3, 3, 3, 1, 3, 1, 3, 3, 3, 2, 0, 3, 3, 1, 3, 3, 1, 3, 1, 3, 1, 3, 1, 1, 3, 3, 1, 3, 3, 1, 3, 3, 1, 1, 0, 3, 3, 3, 3, 1, 2, 3, 3, 3, 3, 1, 3, 1, 3, 3, 1, 1, 1, 1, 1, 3, 3, 3, 1, 3, 3, 1, 1, 1, 3, 1, 3, 3, 1, 1, 3, 3, 3, 1, 3, 3, 1, 3, 3, 3, 1, 2, 3, 2, 3, 3, 1, 1, 1, 3, 3, 1, 1, 3, 1, 1, 3, 3, 1, 3, 2, 3, 3, 3, 0, 1, 1, 1, 1, 0, 1, 1, 3, 3, 1, 3, 3, 1, 1, 1, 3, 3, 3, 3, 3, 3, 3, 1, 1, 3, 3, 1, 0, 1, 3, 3, 1, 1, 3, 3, 1, 2, 3, 3, 1, 3, 1, 1, 3, 1, 1, 3, 1, 1, 3, 3, 1, 3, 1, 3, 1, 1, 1, 3, 1, 3], [1, 1, 1, 1, 1, 1, 1, 1, 1, 1, 1, 1, 0, 1, 1, 3, 3, 1, 1, 2, 3, 3, 0, 0, 3, 1, 2, 3, 2, 2, 2, 3, 2, 3, 3, 3, 3, 3, 2, 3, 3, 2, 2, 2, 2, 2, 2, 3, 2, 1, 2, 2, 2, 3, 2, 3, 2, 3, 3, 3, 2, 3, 3, 2, 2, 1, 1, 0, 2, 2, 2, 1, 2, 2, 2, 3, 1, 3, 2, 2, 2, 1, 1, 1, 1, 2, 2, 2, 2, 2, 1, 2, 2, 2, 2, 2, 3, 2, 1, 2, 1, 3, 2, 2, 1, 2, 3, 1, 1, 3, 2, 2, 2, 2, 3, 1, 2, 2, 2, 1, 2, 1, 2, 2, 1, 2, 2, 2, 2, 1, 2, 1, 2, 1, 2, 2, 2, 2, 2, 2, 2, 2, 2, 3, 2, 2, 2, 3, 2, 3, 2, 2, 3, 0, 3, 1, 2, 2, 2, 2, 3, 3, 2, 1, 2, 2, 3, 2, 2, 3, 1, 2, 3, 0, 2, 2, 2, 2, 2, 2, 2, 1, 1, 1, 2, 2, 3, 2, 2, 2, 2, 2, 2, 2, 2, 2, 2, 2, 2, 2, 3, 3, 1, 3, 1, 1, 3, 0, 3, 1, 3, 3, 1, 1, 3, 3, 1, 3, 1, 3, 1, 3, 1, 1, 1, 3, 1, 3, 1, 1, 3, 3, 1, 0, 3, 3, 1, 1, 3, 3, 3, 3, 1, 1, 1, 1, 1, 3, 1, 1, 0, 1, 1, 1, 1, 3, 3, 1, 1, 1, 1, 3, 3, 1, 1, 1, 1, 1, 3, 1, 3, 1, 1, 1, 3, 3, 0, 3, 3, 3, 3, 3, 1, 1, 1, 1, 1, 1, 1, 1, 3, 3, 1, 3, 1, 1, 3, 1, 1, 1, 1, 3, 3, 3, 1, 1, 1, 3, 1, 1, 0, 1, 1, 1, 1, 0, 3, 3, 3, 3, 3, 2, 1, 2, 3, 1, 1, 2, 1, 1, 1, 3, 3, 3, 1, 1, 3, 0, 3, 3, 3, 1, 3, 1, 3, 3, 3, 3, 3, 1, 3, 3, 0, 3, 3, 1, 1, 3, 1, 3, 3, 1, 3, 1, 1, 1, 1, 3, 3, 1, 3, 3, 3, 1, 3, 0, 3, 1, 3, 3, 1, 1, 3, 3, 3, 3, 3, 3, 1, 1, 3, 3, 1, 1, 3, 3, 3, 1, 3, 3, 1, 1, 3, 1, 1, 3, 3, 3, 1, 3, 3, 3, 3, 1, 1, 1, 1, 1, 1, 3, 0, 1, 3, 1, 1, 1, 1, 3, 3, 3, 3, 3, 3, 3, 2, 3, 3, 3, 3, 3, 1, 3, 1, 3, 1, 3, 1, 1, 0, 1, 3, 3, 1, 1, 1, 0, 3, 1, 1, 3, 3, 3, 0, 1, 1, 3, 3, 0, 3, 0, 3, 1, 3, 3, 1, 3, 3, 1, 1, 0, 1, 3, 3, 3, 3, 3, 1, 1, 3, 1, 3, 2, 1, 2, 3, 1, 1, 1, 1, 1, 1, 0, 3, 1, 3, 3, 3, 3, 3, 1, 3, 0, 3, 1, 1, 1, 3, 1, 1, 3, 3, 0, 3, 3, 1, 1, 1, 3, 3, 1, 1, 3, 1, 3, 3, 3, 1, 1, 1, 1, 3, 1, 2, 3, 1, 3, 0, 1, 3, 3, 1, 3, 3, 1, 1, 3, 3, 3, 3, 1, 3, 3, 3, 3, 3, 1, 1, 1, 3, 1, 3, 3, 1, 0, 3, 0, 3, 1, 1, 1, 3, 1, 3, 1, 1, 0, 3, 1, 1, 1, 3, 3, 0, 1, 1, 3, 1, 1, 3, 3, 1, 2, 1, 3, 2, 3, 1, 3, 1, 3, 1, 1, 1, 3, 1, 3, 3, 1, 1, 3, 1, 3, 3, 1, 1, 3, 3, 1, 3, 1, 1, 0, 1, 3, 3, 0, 3, 1, 0, 1, 3, 0, 1, 3, 3, 3, 3, 3, 0, 1, 3, 1, 3, 3, 1, 0, 1, 3, 1, 3, 1, 3, 3, 1, 3, 3, 3, 1, 3, 3, 1, 0, 1, 1, 1, 1, 1, 3, 3, 3, 3, 1, 1, 1, 0, 3, 3, 1, 3, 1, 3, 3, 3, 1, 3, 1, 3, 3, 1, 1, 1, 1, 1, 3, 3, 3, 1, 3, 3, 3, 3, 3, 3, 1, 3, 3, 3, 3, 1, 1, 1, 3, 1, 3, 1, 0, 3, 1, 1, 3, 1, 3, 3, 1, 3, 3, 3, 3, 1, 1, 3, 1, 3, 3, 3, 3, 0, 0, 3, 1, 1, 1, 3, 3, 1, 3, 3, 1, 3, 3, 3, 3, 3, 3, 1, 1, 3, 3, 3, 1, 3, 1, 2, 1, 1, 1, 1, 0, 3, 3, 3, 1, 1, 3, 3, 1, 3, 3, 1, 3, 3, 3, 1, 1, 3, 1, 3, 3, 1, 1, 3, 1, 1, 3, 3, 1, 1, 3, 1, 1, 3, 3, 3, 1, 3, 3, 3, 3, 0, 3, 3, 1, 3, 1, 3, 1, 1, 3, 0, 3, 1, 1, 1, 1, 3, 0, 3, 1, 3, 3, 1, 1, 3, 0, 1, 3, 0, 1, 1, 1, 3, 0, 1, 3, 1, 3, 3, 1, 3, 3, 3, 1, 3, 1, 3, 1, 1, 1, 3, 3, 1, 1, 0, 3, 1, 1, 3, 1, 1, 3, 3, 1, 3, 1, 2, 3, 2, 2, 3, 3, 3, 3, 3, 3, 1, 1, 3, 1, 3, 3, 1, 3, 1, 3, 3, 3, 3, 3, 1, 3, 1, 3, 3, 3, 0, 3, 3, 1, 1, 1, 1, 3, 3, 3, 1, 3, 3, 3, 3, 1, 1, 1, 3, 0, 3, 1, 3, 1, 1, 1, 3, 3, 1, 3, 1, 3, 3, 3, 1, 3, 3, 3, 3, 1, 1, 3, 1, 3, 1, 1, 3, 1, 3, 3, 3, 2, 3, 3, 1, 3, 3, 3, 1, 3, 1, 3, 1, 3, 3, 2, 3, 0, 1, 3, 3, 3, 1, 1, 0, 3, 1, 3, 1, 3, 1, 1, 1, 1, 1, 3], [3, 3, 3, 1, 2, 3, 3, 3, 1, 3, 1, 3, 2, 2, 2, 0, 3, 2, 1, 2, 2, 2, 2, 1, 2, 2, 1, 2, 2, 1, 2, 2, 2, 1, 2, 3, 2, 2, 2, 3, 2, 1, 2, 1, 1, 2, 2, 2, 2, 2, 2, 2, 2, 2, 2, 2, 1, 1, 2, 2, 2, 2, 1, 2, 2, 1, 3, 3, 2, 2, 3, 3, 2, 3, 2, 2, 2, 3, 1, 2, 1, 2, 2, 2, 2, 2, 2, 2, 3, 2, 2, 2, 2, 2, 2, 3, 1, 2, 3, 1, 2, 2, 2, 3, 2, 2, 2, 1, 3, 2, 2, 3, 2, 3, 1, 2, 2, 1, 2, 2, 2, 2, 2, 1, 1, 2, 2, 1, 2, 1, 1, 2, 2, 2, 3, 3, 3, 2, 3, 3, 3, 3, 3, 3]]\n",
            "Action list's shape looks like  (5,)\n"
          ]
        }
      ]
    },
    {
      "cell_type": "markdown",
      "metadata": {
        "id": "fNkmwucrHMen"
      },
      "source": [
        "Analysis of actions taken by agent"
      ]
    },
    {
      "cell_type": "code",
      "metadata": {
        "id": "WHdAItjj1nxw",
        "colab": {
          "base_uri": "https://localhost:8080/"
        },
        "outputId": "0d9ab41b-7873-4ab4-c39f-31622d817bdc"
      },
      "source": [
        "distribution = {}\n",
        "for actions in action_list:\n",
        "  for action in actions:\n",
        "    if action not in distribution.keys():\n",
        "      distribution[action] = 1\n",
        "    else:\n",
        "      distribution[action] += 1\n",
        "print(distribution)"
      ],
      "execution_count": 109,
      "outputs": [
        {
          "output_type": "stream",
          "name": "stdout",
          "text": [
            "{3: 1473, 1: 1134, 0: 163, 2: 523}\n"
          ]
        }
      ]
    },
    {
      "cell_type": "markdown",
      "metadata": {
        "id": "ricE0schY75M"
      },
      "source": [
        "Saving the result of Model Testing\n"
      ]
    },
    {
      "cell_type": "code",
      "metadata": {
        "id": "GZsMkGmIY42b",
        "colab": {
          "base_uri": "https://localhost:8080/"
        },
        "outputId": "9d9ca05b-37df-4b47-93ca-b0696f3af07a"
      },
      "source": [
        "PATH = \"Action_List.npy\" # Can be modified into the name or path you want\n",
        "np.save(PATH ,np.array(action_list))"
      ],
      "execution_count": 110,
      "outputs": [
        {
          "output_type": "stream",
          "name": "stderr",
          "text": [
            "<ipython-input-110-0cd63aefc5d4>:2: VisibleDeprecationWarning: Creating an ndarray from ragged nested sequences (which is a list-or-tuple of lists-or-tuples-or ndarrays with different lengths or shapes) is deprecated. If you meant to do this, you must specify 'dtype=object' when creating the ndarray.\n",
            "  np.save(PATH ,np.array(action_list))\n"
          ]
        }
      ]
    },
    {
      "cell_type": "markdown",
      "metadata": {
        "id": "asK7WfbkaLjt"
      },
      "source": [
        "### This is the file you need to submit !!!\n",
        "Download the testing result to your device\n",
        "\n"
      ]
    },
    {
      "cell_type": "code",
      "metadata": {
        "id": "c-CqyhHzaWAL",
        "colab": {
          "base_uri": "https://localhost:8080/",
          "height": 17
        },
        "outputId": "0a72d993-bf48-4030-9bb4-cc6e52a5eb0a"
      },
      "source": [
        "from google.colab import files\n",
        "files.download(PATH)"
      ],
      "execution_count": 111,
      "outputs": [
        {
          "output_type": "display_data",
          "data": {
            "text/plain": [
              "<IPython.core.display.Javascript object>"
            ],
            "application/javascript": [
              "\n",
              "    async function download(id, filename, size) {\n",
              "      if (!google.colab.kernel.accessAllowed) {\n",
              "        return;\n",
              "      }\n",
              "      const div = document.createElement('div');\n",
              "      const label = document.createElement('label');\n",
              "      label.textContent = `Downloading \"${filename}\": `;\n",
              "      div.appendChild(label);\n",
              "      const progress = document.createElement('progress');\n",
              "      progress.max = size;\n",
              "      div.appendChild(progress);\n",
              "      document.body.appendChild(div);\n",
              "\n",
              "      const buffers = [];\n",
              "      let downloaded = 0;\n",
              "\n",
              "      const channel = await google.colab.kernel.comms.open(id);\n",
              "      // Send a message to notify the kernel that we're ready.\n",
              "      channel.send({})\n",
              "\n",
              "      for await (const message of channel.messages) {\n",
              "        // Send a message to notify the kernel that we're ready.\n",
              "        channel.send({})\n",
              "        if (message.buffers) {\n",
              "          for (const buffer of message.buffers) {\n",
              "            buffers.push(buffer);\n",
              "            downloaded += buffer.byteLength;\n",
              "            progress.value = downloaded;\n",
              "          }\n",
              "        }\n",
              "      }\n",
              "      const blob = new Blob(buffers, {type: 'application/binary'});\n",
              "      const a = document.createElement('a');\n",
              "      a.href = window.URL.createObjectURL(blob);\n",
              "      a.download = filename;\n",
              "      div.appendChild(a);\n",
              "      a.click();\n",
              "      div.remove();\n",
              "    }\n",
              "  "
            ]
          },
          "metadata": {}
        },
        {
          "output_type": "display_data",
          "data": {
            "text/plain": [
              "<IPython.core.display.Javascript object>"
            ],
            "application/javascript": [
              "download(\"download_c075d096-e9d2-45b1-b983-4ae0f09bc1f9\", \"Action_List.npy\", 6893)"
            ]
          },
          "metadata": {}
        }
      ]
    },
    {
      "cell_type": "markdown",
      "metadata": {
        "id": "seT4NUmWmAZ1"
      },
      "source": [
        "# Server\n",
        "The code below simulate the environment on the judge server. Can be used for testing."
      ]
    },
    {
      "cell_type": "code",
      "metadata": {
        "id": "U69c-YTxaw6b",
        "colab": {
          "base_uri": "https://localhost:8080/",
          "height": 487
        },
        "outputId": "e3afa257-1147-4051-b597-9f74b13296ce"
      },
      "source": [
        "action_list = np.load(PATH,allow_pickle=True) # The action list you upload\n",
        "seed = 2023 # Do not revise this\n",
        "fix(env, seed)\n",
        "\n",
        "agent.network.eval()  # set network to evaluation mode\n",
        "\n",
        "test_total_reward = []\n",
        "if len(action_list) != 5:\n",
        "  print(\"Wrong format of file !!!\")\n",
        "  exit(0)\n",
        "for actions in action_list:\n",
        "  state = env.reset()\n",
        "  img = plt.imshow(env.render(mode='rgb_array'))\n",
        "\n",
        "  total_reward = 0\n",
        "\n",
        "  done = False\n",
        "\n",
        "  for action in actions:\n",
        "\n",
        "      state, reward, done, _ = env.step(action)\n",
        "      total_reward += reward\n",
        "      if done:\n",
        "        break\n",
        "\n",
        "  print(f\"Your reward is : %.2f\"%total_reward)\n",
        "  test_total_reward.append(total_reward)"
      ],
      "execution_count": 112,
      "outputs": [
        {
          "output_type": "stream",
          "name": "stdout",
          "text": [
            "Your reward is : 9.18\n",
            "Your reward is : 125.58\n",
            "Your reward is : 138.65\n",
            "Your reward is : 160.60\n",
            "Your reward is : 15.39\n"
          ]
        },
        {
          "output_type": "display_data",
          "data": {
            "text/plain": [
              "<Figure size 640x480 with 1 Axes>"
            ],
            "image/png": "[encoded data removed]"
          },
          "metadata": {}
        }
      ]
    },
    {
      "cell_type": "markdown",
      "metadata": {
        "id": "TjFBWwQP1hVe"
      },
      "source": [
        "# Your score"
      ]
    },
    {
      "cell_type": "code",
      "metadata": {
        "id": "GpJpZz3Wbm0X",
        "colab": {
          "base_uri": "https://localhost:8080/"
        },
        "outputId": "f0a5987b-cbc8-4a56-b2e6-05beb9f46960"
      },
      "source": [
        "print(f\"Your final reward is : %.2f\"%np.mean(test_total_reward))"
      ],
      "execution_count": 113,
      "outputs": [
        {
          "output_type": "stream",
          "name": "stdout",
          "text": [
            "Your final reward is : 89.88\n"
          ]
        }
      ]
    },
    {
      "cell_type": "markdown",
      "metadata": {
        "id": "wUBtYXG2eaqf"
      },
      "source": [
        "## Reference\n",
        "\n",
        "Below are some useful tips for you to get high score.\n",
        "\n",
        "- [DRL Lecture 1: Policy Gradient (Review)](https://youtu.be/z95ZYgPgXOY)\n",
        "- [ML Lecture 23-3: Reinforcement Learning (including Q-learning) start at 30:00](https://youtu.be/2-JNBzCq77c?t=1800)\n",
        "- [Lecture 7: Policy Gradient, David Silver](http://www0.cs.ucl.ac.uk/staff/d.silver/web/Teaching_files/pg.pdf)\n"
      ]
    },
    {
      "cell_type": "code",
      "source": [],
      "metadata": {
        "id": "4S0WeIltxw4W"
      },
      "execution_count": null,
      "outputs": []
    }
  ]
}