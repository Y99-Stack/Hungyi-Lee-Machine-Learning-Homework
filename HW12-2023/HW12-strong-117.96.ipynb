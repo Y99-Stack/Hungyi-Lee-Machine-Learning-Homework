{
  "nbformat": 4,
  "nbformat_minor": 0,
  "metadata": {
    "colab": {
      "provenance": []
    },
    "kernelspec": {
      "display_name": "Python 3",
      "name": "python3"
    },
    "gpuClass": "standard",
    "widgets": {
      "application/vnd.jupyter.widget-state+json": {
        "3001bf79bffd43dea1402f0346496864": {
          "model_module": "@jupyter-widgets/controls",
          "model_name": "HBoxModel",
          "model_module_version": "1.5.0",
          "state": {
            "_dom_classes": [],
            "_model_module": "@jupyter-widgets/controls",
            "_model_module_version": "1.5.0",
            "_model_name": "HBoxModel",
            "_view_count": null,
            "_view_module": "@jupyter-widgets/controls",
            "_view_module_version": "1.5.0",
            "_view_name": "HBoxView",
            "box_style": "",
            "children": [
              "IPY_MODEL_7e741e686d4b4a9bb3d56fa3faa49649",
              "IPY_MODEL_cceade43df9b4bf0b2a66e3c2c8d3e2f",
              "IPY_MODEL_c4a2bdc1a1084b91a475edcc0b7f0bd6"
            ],
            "layout": "IPY_MODEL_abe353bb5dfc4ce0b40d8bbb72342d91"
          }
        },
        "7e741e686d4b4a9bb3d56fa3faa49649": {
          "model_module": "@jupyter-widgets/controls",
          "model_name": "HTMLModel",
          "model_module_version": "1.5.0",
          "state": {
            "_dom_classes": [],
            "_model_module": "@jupyter-widgets/controls",
            "_model_module_version": "1.5.0",
            "_model_name": "HTMLModel",
            "_view_count": null,
            "_view_module": "@jupyter-widgets/controls",
            "_view_module_version": "1.5.0",
            "_view_name": "HTMLView",
            "description": "",
            "description_tooltip": null,
            "layout": "IPY_MODEL_d25fdad1b3234ca690827af18c08d0d0",
            "placeholder": "​",
            "style": "IPY_MODEL_192695bdeb034fb69856032f5df78762",
            "value": "Total: -30.6, Final:  1.4: 100%"
          }
        },
        "cceade43df9b4bf0b2a66e3c2c8d3e2f": {
          "model_module": "@jupyter-widgets/controls",
          "model_name": "FloatProgressModel",
          "model_module_version": "1.5.0",
          "state": {
            "_dom_classes": [],
            "_model_module": "@jupyter-widgets/controls",
            "_model_module_version": "1.5.0",
            "_model_name": "FloatProgressModel",
            "_view_count": null,
            "_view_module": "@jupyter-widgets/controls",
            "_view_module_version": "1.5.0",
            "_view_name": "ProgressView",
            "bar_style": "success",
            "description": "",
            "description_tooltip": null,
            "layout": "IPY_MODEL_c57e588df1134aab9b218dc6e07a60e0",
            "max": 400,
            "min": 0,
            "orientation": "horizontal",
            "style": "IPY_MODEL_fef6b0b5eb2a4ca3b9a9130e1a917ae5",
            "value": 400
          }
        },
        "c4a2bdc1a1084b91a475edcc0b7f0bd6": {
          "model_module": "@jupyter-widgets/controls",
          "model_name": "HTMLModel",
          "model_module_version": "1.5.0",
          "state": {
            "_dom_classes": [],
            "_model_module": "@jupyter-widgets/controls",
            "_model_module_version": "1.5.0",
            "_model_name": "HTMLModel",
            "_view_count": null,
            "_view_module": "@jupyter-widgets/controls",
            "_view_module_version": "1.5.0",
            "_view_name": "HTMLView",
            "description": "",
            "description_tooltip": null,
            "layout": "IPY_MODEL_680695bf5e44490bbbea2d636d767c49",
            "placeholder": "​",
            "style": "IPY_MODEL_36bc343fc82a43379c5f1742e610fe13",
            "value": " 400/400 [15:03&lt;00:00,  9.41s/it]"
          }
        },
        "abe353bb5dfc4ce0b40d8bbb72342d91": {
          "model_module": "@jupyter-widgets/base",
          "model_name": "LayoutModel",
          "model_module_version": "1.2.0",
          "state": {
            "_model_module": "@jupyter-widgets/base",
            "_model_module_version": "1.2.0",
            "_model_name": "LayoutModel",
            "_view_count": null,
            "_view_module": "@jupyter-widgets/base",
            "_view_module_version": "1.2.0",
            "_view_name": "LayoutView",
            "align_content": null,
            "align_items": null,
            "align_self": null,
            "border": null,
            "bottom": null,
            "display": null,
            "flex": null,
            "flex_flow": null,
            "grid_area": null,
            "grid_auto_columns": null,
            "grid_auto_flow": null,
            "grid_auto_rows": null,
            "grid_column": null,
            "grid_gap": null,
            "grid_row": null,
            "grid_template_areas": null,
            "grid_template_columns": null,
            "grid_template_rows": null,
            "height": null,
            "justify_content": null,
            "justify_items": null,
            "left": null,
            "margin": null,
            "max_height": null,
            "max_width": null,
            "min_height": null,
            "min_width": null,
            "object_fit": null,
            "object_position": null,
            "order": null,
            "overflow": null,
            "overflow_x": null,
            "overflow_y": null,
            "padding": null,
            "right": null,
            "top": null,
            "visibility": null,
            "width": null
          }
        },
        "d25fdad1b3234ca690827af18c08d0d0": {
          "model_module": "@jupyter-widgets/base",
          "model_name": "LayoutModel",
          "model_module_version": "1.2.0",
          "state": {
            "_model_module": "@jupyter-widgets/base",
            "_model_module_version": "1.2.0",
            "_model_name": "LayoutModel",
            "_view_count": null,
            "_view_module": "@jupyter-widgets/base",
            "_view_module_version": "1.2.0",
            "_view_name": "LayoutView",
            "align_content": null,
            "align_items": null,
            "align_self": null,
            "border": null,
            "bottom": null,
            "display": null,
            "flex": null,
            "flex_flow": null,
            "grid_area": null,
            "grid_auto_columns": null,
            "grid_auto_flow": null,
            "grid_auto_rows": null,
            "grid_column": null,
            "grid_gap": null,
            "grid_row": null,
            "grid_template_areas": null,
            "grid_template_columns": null,
            "grid_template_rows": null,
            "height": null,
            "justify_content": null,
            "justify_items": null,
            "left": null,
            "margin": null,
            "max_height": null,
            "max_width": null,
            "min_height": null,
            "min_width": null,
            "object_fit": null,
            "object_position": null,
            "order": null,
            "overflow": null,
            "overflow_x": null,
            "overflow_y": null,
            "padding": null,
            "right": null,
            "top": null,
            "visibility": null,
            "width": null
          }
        },
        "192695bdeb034fb69856032f5df78762": {
          "model_module": "@jupyter-widgets/controls",
          "model_name": "DescriptionStyleModel",
          "model_module_version": "1.5.0",
          "state": {
            "_model_module": "@jupyter-widgets/controls",
            "_model_module_version": "1.5.0",
            "_model_name": "DescriptionStyleModel",
            "_view_count": null,
            "_view_module": "@jupyter-widgets/base",
            "_view_module_version": "1.2.0",
            "_view_name": "StyleView",
            "description_width": ""
          }
        },
        "c57e588df1134aab9b218dc6e07a60e0": {
          "model_module": "@jupyter-widgets/base",
          "model_name": "LayoutModel",
          "model_module_version": "1.2.0",
          "state": {
            "_model_module": "@jupyter-widgets/base",
            "_model_module_version": "1.2.0",
            "_model_name": "LayoutModel",
            "_view_count": null,
            "_view_module": "@jupyter-widgets/base",
            "_view_module_version": "1.2.0",
            "_view_name": "LayoutView",
            "align_content": null,
            "align_items": null,
            "align_self": null,
            "border": null,
            "bottom": null,
            "display": null,
            "flex": null,
            "flex_flow": null,
            "grid_area": null,
            "grid_auto_columns": null,
            "grid_auto_flow": null,
            "grid_auto_rows": null,
            "grid_column": null,
            "grid_gap": null,
            "grid_row": null,
            "grid_template_areas": null,
            "grid_template_columns": null,
            "grid_template_rows": null,
            "height": null,
            "justify_content": null,
            "justify_items": null,
            "left": null,
            "margin": null,
            "max_height": null,
            "max_width": null,
            "min_height": null,
            "min_width": null,
            "object_fit": null,
            "object_position": null,
            "order": null,
            "overflow": null,
            "overflow_x": null,
            "overflow_y": null,
            "padding": null,
            "right": null,
            "top": null,
            "visibility": null,
            "width": null
          }
        },
        "fef6b0b5eb2a4ca3b9a9130e1a917ae5": {
          "model_module": "@jupyter-widgets/controls",
          "model_name": "ProgressStyleModel",
          "model_module_version": "1.5.0",
          "state": {
            "_model_module": "@jupyter-widgets/controls",
            "_model_module_version": "1.5.0",
            "_model_name": "ProgressStyleModel",
            "_view_count": null,
            "_view_module": "@jupyter-widgets/base",
            "_view_module_version": "1.2.0",
            "_view_name": "StyleView",
            "bar_color": null,
            "description_width": ""
          }
        },
        "680695bf5e44490bbbea2d636d767c49": {
          "model_module": "@jupyter-widgets/base",
          "model_name": "LayoutModel",
          "model_module_version": "1.2.0",
          "state": {
            "_model_module": "@jupyter-widgets/base",
            "_model_module_version": "1.2.0",
            "_model_name": "LayoutModel",
            "_view_count": null,
            "_view_module": "@jupyter-widgets/base",
            "_view_module_version": "1.2.0",
            "_view_name": "LayoutView",
            "align_content": null,
            "align_items": null,
            "align_self": null,
            "border": null,
            "bottom": null,
            "display": null,
            "flex": null,
            "flex_flow": null,
            "grid_area": null,
            "grid_auto_columns": null,
            "grid_auto_flow": null,
            "grid_auto_rows": null,
            "grid_column": null,
            "grid_gap": null,
            "grid_row": null,
            "grid_template_areas": null,
            "grid_template_columns": null,
            "grid_template_rows": null,
            "height": null,
            "justify_content": null,
            "justify_items": null,
            "left": null,
            "margin": null,
            "max_height": null,
            "max_width": null,
            "min_height": null,
            "min_width": null,
            "object_fit": null,
            "object_position": null,
            "order": null,
            "overflow": null,
            "overflow_x": null,
            "overflow_y": null,
            "padding": null,
            "right": null,
            "top": null,
            "visibility": null,
            "width": null
          }
        },
        "36bc343fc82a43379c5f1742e610fe13": {
          "model_module": "@jupyter-widgets/controls",
          "model_name": "DescriptionStyleModel",
          "model_module_version": "1.5.0",
          "state": {
            "_model_module": "@jupyter-widgets/controls",
            "_model_module_version": "1.5.0",
            "_model_name": "DescriptionStyleModel",
            "_view_count": null,
            "_view_module": "@jupyter-widgets/base",
            "_view_module_version": "1.2.0",
            "_view_name": "StyleView",
            "description_width": ""
          }
        }
      }
    }
  },
  "cells": [
    {
      "cell_type": "markdown",
      "metadata": {
        "id": "Fp30SB4bxeQb"
      },
      "source": [
        "# **Homework 12 - Reinforcement Learning**\n",
        "\n",
        "If you have any problem, e-mail us at mlta-2023-spring@googlegroups.com\n",
        "\n"
      ]
    },
    {
      "cell_type": "markdown",
      "metadata": {
        "id": "yXsnCWPtWSNk"
      },
      "source": [
        "## Preliminary work\n",
        "\n",
        "First, we need to install all necessary packages.\n",
        "One of them, gym, builded by OpenAI, is a toolkit for developing Reinforcement Learning algorithm. Other packages are for visualization in colab."
      ]
    },
    {
      "cell_type": "code",
      "metadata": {
        "colab": {
          "base_uri": "https://localhost:8080/"
        },
        "id": "5e2bScpnkVbv",
        "outputId": "13b71afc-6a89-4470-bf67-4ac33e60efa1"
      },
      "source": [
        "!apt update\n",
        "!apt install python3-opengl xvfb -y\n",
        "!pip install -q swig\n",
        "!pip install box2d==2.3.2 gym[box2d]==0.25.2 box2d-py pyvirtualdisplay tqdm numpy==1.22.4\n",
        "!pip install box2d==2.3.2 box2d-kengz\n",
        "!pip freeze > requirements.txt\n"
      ],
      "execution_count": 76,
      "outputs": [
        {
          "output_type": "stream",
          "name": "stdout",
          "text": [
            "\u001b[33m\r0% [Working]\u001b[0m\r            \rHit:1 https://cloud.r-project.org/bin/linux/ubuntu jammy-cran40/ InRelease\n",
            "\u001b[33m\r0% [Connecting to archive.ubuntu.com] [Connecting to security.ubuntu.com] [Connected to r2u.stat.ill\u001b[0m\r                                                                                                    \rHit:2 https://developer.download.nvidia.com/compute/cuda/repos/ubuntu2204/x86_64  InRelease\n",
            "Ign:3 https://r2u.stat.illinois.edu/ubuntu jammy InRelease\n",
            "Hit:4 https://r2u.stat.illinois.edu/ubuntu jammy Release\n",
            "Hit:5 http://security.ubuntu.com/ubuntu jammy-security InRelease\n",
            "Hit:6 http://archive.ubuntu.com/ubuntu jammy InRelease\n",
            "Hit:8 http://archive.ubuntu.com/ubuntu jammy-updates InRelease\n",
            "Hit:9 http://archive.ubuntu.com/ubuntu jammy-backports InRelease\n",
            "Hit:10 https://ppa.launchpadcontent.net/deadsnakes/ppa/ubuntu jammy InRelease\n",
            "Hit:11 https://ppa.launchpadcontent.net/graphics-drivers/ppa/ubuntu jammy InRelease\n",
            "Hit:12 https://ppa.launchpadcontent.net/ubuntugis/ppa/ubuntu jammy InRelease\n",
            "Reading package lists... Done\n",
            "Building dependency tree... Done\n",
            "Reading state information... Done\n",
            "51 packages can be upgraded. Run 'apt list --upgradable' to see them.\n",
            "\u001b[1;33mW: \u001b[0mSkipping acquire of configured file 'main/source/Sources' as repository 'https://r2u.stat.illinois.edu/ubuntu jammy InRelease' does not seem to provide it (sources.list entry misspelt?)\u001b[0m\n",
            "Reading package lists... Done\n",
            "Building dependency tree... Done\n",
            "Reading state information... Done\n",
            "python3-opengl is already the newest version (3.1.5+dfsg-1).\n",
            "xvfb is already the newest version (2:21.1.4-2ubuntu1.7~22.04.11).\n",
            "0 upgraded, 0 newly installed, 0 to remove and 51 not upgraded.\n",
            "Requirement already satisfied: box2d==2.3.2 in /usr/local/lib/python3.10/dist-packages (2.3.2)\n",
            "Requirement already satisfied: gym==0.25.2 in /usr/local/lib/python3.10/dist-packages (from gym[box2d]==0.25.2) (0.25.2)\n",
            "Requirement already satisfied: box2d-py in /usr/local/lib/python3.10/dist-packages (2.3.5)\n",
            "Requirement already satisfied: pyvirtualdisplay in /usr/local/lib/python3.10/dist-packages (3.0)\n",
            "Requirement already satisfied: tqdm in /usr/local/lib/python3.10/dist-packages (4.66.5)\n",
            "Requirement already satisfied: numpy==1.22.4 in /usr/local/lib/python3.10/dist-packages (1.22.4)\n",
            "Requirement already satisfied: cloudpickle>=1.2.0 in /usr/local/lib/python3.10/dist-packages (from gym==0.25.2->gym[box2d]==0.25.2) (2.2.1)\n",
            "Requirement already satisfied: gym-notices>=0.0.4 in /usr/local/lib/python3.10/dist-packages (from gym==0.25.2->gym[box2d]==0.25.2) (0.0.8)\n",
            "Requirement already satisfied: pygame==2.1.0 in /usr/local/lib/python3.10/dist-packages (from gym[box2d]==0.25.2) (2.1.0)\n",
            "Requirement already satisfied: swig==4.* in /usr/local/lib/python3.10/dist-packages (from gym[box2d]==0.25.2) (4.2.1)\n",
            "Requirement already satisfied: box2d==2.3.2 in /usr/local/lib/python3.10/dist-packages (2.3.2)\n",
            "Requirement already satisfied: box2d-kengz in /usr/local/lib/python3.10/dist-packages (2.3.3)\n"
          ]
        }
      ]
    },
    {
      "cell_type": "markdown",
      "metadata": {
        "id": "M_-i3cdoYsks"
      },
      "source": [
        "\n",
        "Next, set up virtual display，and import all necessaary packages."
      ]
    },
    {
      "cell_type": "code",
      "metadata": {
        "id": "nl2nREINDLiw"
      },
      "source": [
        "%%capture\n",
        "from pyvirtualdisplay import Display\n",
        "virtual_display = Display(visible=0, size=(1400, 900))\n",
        "virtual_display.start()\n",
        "\n",
        "%matplotlib inline\n",
        "import matplotlib.pyplot as plt\n",
        "\n",
        "from IPython import display\n",
        "\n",
        "import numpy as np\n",
        "import torch\n",
        "import torch.nn as nn\n",
        "import torch.optim as optim\n",
        "import torch.nn.functional as F\n",
        "from torch.distributions import Categorical\n",
        "from tqdm.notebook import tqdm"
      ],
      "execution_count": 77,
      "outputs": []
    },
    {
      "cell_type": "markdown",
      "metadata": {
        "id": "CaEJ8BUCpN9P"
      },
      "source": [
        "# Warning ! Do not revise random seed !!!\n",
        "# Your submission on JudgeBoi will not reproduce your result !!!\n",
        "Make your HW result to be reproducible.\n"
      ]
    },
    {
      "cell_type": "code",
      "metadata": {
        "id": "fV9i8i2YkRbO",
        "colab": {
          "base_uri": "https://localhost:8080/"
        },
        "outputId": "e2369f21-4f7d-42a2-b624-8b79b2732c18"
      },
      "source": [
        "seed = 2023 # Do not change this\n",
        "def fix(env, seed):\n",
        "  env.seed(seed)\n",
        "  env.action_space.seed(seed)\n",
        "  torch.backends.cudnn.deterministic = True\n",
        "  torch.backends.cudnn.benchmark = False\n",
        "  np.random.seed(seed)\n",
        "  torch.manual_seed(seed)\n",
        "  if torch.cuda.is_available():\n",
        "      torch.cuda.manual_seed_all(seed)"
      ],
      "execution_count": 78,
      "outputs": [
        {
          "output_type": "stream",
          "name": "stderr",
          "text": [
            "/usr/local/lib/python3.10/dist-packages/ipykernel/ipkernel.py:283: DeprecationWarning: `should_run_async` will not call `transform_cell` automatically in the future. Please pass the result to `transformed_cell` argument and any exception that happen during thetransform in `preprocessing_exc_tuple` in IPython 7.17 and above.\n",
            "  and should_run_async(code)\n"
          ]
        }
      ]
    },
    {
      "cell_type": "markdown",
      "metadata": {
        "id": "He0XDx6bzjgC"
      },
      "source": [
        "Last, call gym and build an [Lunar Lander](https://gymnasium.farama.org/content/migration-guide/) environment."
      ]
    },
    {
      "cell_type": "code",
      "metadata": {
        "id": "N_4-xJcbBt09"
      },
      "source": [
        "%%capture\n",
        "import gym\n",
        "import random\n",
        "env = gym.make('LunarLander-v2')\n",
        "fix(env, seed) # fix the environment Do not revise this !!!"
      ],
      "execution_count": 79,
      "outputs": []
    },
    {
      "cell_type": "markdown",
      "metadata": {
        "id": "NrkVvTrvWZ5H"
      },
      "source": [
        "## What Lunar Lander？\n",
        "\n",
        "“LunarLander-v2”is to simulate the situation when the craft lands on the surface of the moon.\n",
        "\n",
        "This task is to enable the craft to land \"safely\" at the pad between the two yellow flags.\n",
        "> Landing pad is always at coordinates (0,0).\n",
        "> Coordinates are the first two numbers in state vector.\n",
        "\n",
        "![](https://gym.openai.com/assets/docs/aeloop-138c89d44114492fd02822303e6b4b07213010bb14ca5856d2d49d6b62d88e53.svg)\n",
        "\n",
        "\"LunarLander-v2\" actually includes \"Agent\" and \"Environment\".\n",
        "\n",
        "In this homework, we will utilize the function `step()` to control the action of \"Agent\".\n",
        "\n",
        "Then `step()` will return the observation/state and reward given by the \"Environment\"."
      ]
    },
    {
      "cell_type": "markdown",
      "metadata": {
        "id": "bIbp82sljvAt"
      },
      "source": [
        "### Observation / State\n",
        "\n",
        "First, we can take a look at what an Observation / State looks like."
      ]
    },
    {
      "cell_type": "code",
      "metadata": {
        "colab": {
          "base_uri": "https://localhost:8080/"
        },
        "id": "rsXZra3N9R5T",
        "outputId": "52882843-c312-447b-f160-fc5133b0f96e"
      },
      "source": [
        "print(env.observation_space)"
      ],
      "execution_count": 80,
      "outputs": [
        {
          "output_type": "stream",
          "name": "stdout",
          "text": [
            "Box([-1.5       -1.5       -5.        -5.        -3.1415927 -5.\n",
            " -0.        -0.       ], [1.5       1.5       5.        5.        3.1415927 5.        1.\n",
            " 1.       ], (8,), float32)\n"
          ]
        }
      ]
    },
    {
      "cell_type": "markdown",
      "metadata": {
        "id": "ezdfoThbAQ49"
      },
      "source": [
        "\n",
        "`Box(8,)`means that observation is an 8-dim vector\n",
        "### Action\n",
        "\n",
        "Actions can be taken by looks like"
      ]
    },
    {
      "cell_type": "code",
      "metadata": {
        "id": "p1k4dIrBAaKi",
        "colab": {
          "base_uri": "https://localhost:8080/"
        },
        "outputId": "aafca2eb-41bb-48e8-f45a-f024831270b9"
      },
      "source": [
        "print(env.action_space)"
      ],
      "execution_count": 81,
      "outputs": [
        {
          "output_type": "stream",
          "name": "stdout",
          "text": [
            "Discrete(4)\n"
          ]
        }
      ]
    },
    {
      "cell_type": "markdown",
      "metadata": {
        "id": "dejXT6PHBrPn"
      },
      "source": [
        "`Discrete(4)` implies that there are four kinds of actions can be taken by agent.\n",
        "- 0 implies the agent will not take any actions\n",
        "- 2 implies the agent will accelerate downward\n",
        "- 1, 3 implies the agent will accelerate left and right\n",
        "\n",
        "Next, we will try to make the agent interact with the environment.\n",
        "Before taking any actions, we recommend to call `reset()` function to reset the environment. Also, this function will return the initial state of the environment."
      ]
    },
    {
      "cell_type": "code",
      "metadata": {
        "id": "pi4OmrmZgnWA",
        "colab": {
          "base_uri": "https://localhost:8080/"
        },
        "outputId": "d23ccbba-cdb7-4025-92da-5d207c425bf7"
      },
      "source": [
        "initial_state = env.reset()\n",
        "print(initial_state)"
      ],
      "execution_count": 82,
      "outputs": [
        {
          "output_type": "stream",
          "name": "stdout",
          "text": [
            "[-0.00506535  1.413064   -0.5130838   0.09527162  0.00587628  0.11622101\n",
            "  0.          0.        ]\n"
          ]
        }
      ]
    },
    {
      "cell_type": "markdown",
      "metadata": {
        "id": "uBx0mEqqgxJ9"
      },
      "source": [
        "Then, we try to get a random action from the agent's action space."
      ]
    },
    {
      "cell_type": "code",
      "metadata": {
        "id": "vxkOEXRKgizt",
        "colab": {
          "base_uri": "https://localhost:8080/"
        },
        "outputId": "dbe2a4f2-b665-4c78-8433-01920e1846a6"
      },
      "source": [
        "random_action = env.action_space.sample()\n",
        "print(random_action)"
      ],
      "execution_count": 83,
      "outputs": [
        {
          "output_type": "stream",
          "name": "stdout",
          "text": [
            "1\n"
          ]
        }
      ]
    },
    {
      "cell_type": "markdown",
      "metadata": {
        "id": "mns-bO01g0-J"
      },
      "source": [
        "More, we can utilize `step()` to make agent act according to the randomly-selected `random_action`.\n",
        "The `step()` function will return four values:\n",
        "- observation / state\n",
        "- reward\n",
        "- done (True/ False)\n",
        "- Other information"
      ]
    },
    {
      "cell_type": "code",
      "metadata": {
        "id": "E_WViSxGgIk9"
      },
      "source": [
        "observation, reward, done, info = env.step(random_action)"
      ],
      "execution_count": 84,
      "outputs": []
    },
    {
      "cell_type": "code",
      "metadata": {
        "id": "yK7r126kuCNp",
        "colab": {
          "base_uri": "https://localhost:8080/"
        },
        "outputId": "67bfab85-058a-41a7-fb96-a6c9b3e56a98"
      },
      "source": [
        "print(observation)\n",
        "print(reward)\n",
        "print(done)\n",
        "print(info)"
      ],
      "execution_count": 85,
      "outputs": [
        {
          "output_type": "stream",
          "name": "stdout",
          "text": [
            "[-0.01021204  1.4146308  -0.5225479   0.06958859  0.01365644  0.15561804\n",
            "  0.          0.        ]\n",
            "-1.4981841929643156\n",
            "False\n",
            "{}\n"
          ]
        }
      ]
    },
    {
      "cell_type": "markdown",
      "metadata": {
        "id": "GKdS8vOihxhc"
      },
      "source": [
        "### Reward\n",
        "\n",
        "\n",
        "> Landing pad is always at coordinates (0,0). Coordinates are the first two numbers in state vector. Reward for moving from the top of the screen to landing pad and zero speed is about 100..140 points. If lander moves away from landing pad it loses reward back. Episode finishes if the lander crashes or comes to rest, receiving additional -100 or +100 points. Each leg ground contact is +10. Firing main engine is -0.3 points each frame. Solved is 200 points."
      ]
    },
    {
      "cell_type": "code",
      "metadata": {
        "id": "vxQNs77hi0_7",
        "colab": {
          "base_uri": "https://localhost:8080/"
        },
        "outputId": "2493c6a9-c484-4ffe-81a1-e712b2fb2d7c"
      },
      "source": [
        "print(reward)"
      ],
      "execution_count": 86,
      "outputs": [
        {
          "output_type": "stream",
          "name": "stdout",
          "text": [
            "-1.4981841929643156\n"
          ]
        }
      ]
    },
    {
      "cell_type": "markdown",
      "metadata": {
        "id": "Mhqp6D-XgHpe"
      },
      "source": [
        "### Random Agent\n",
        "In the end, before we start training, we can see whether a random agent can successfully land the moon or not."
      ]
    },
    {
      "cell_type": "code",
      "metadata": {
        "id": "Y3G0bxoccelv",
        "colab": {
          "base_uri": "https://localhost:8080/",
          "height": 396
        },
        "outputId": "259a091d-129c-4f04-ef62-4513d2c30d3e"
      },
      "source": [
        "env.reset()\n",
        "\n",
        "img = plt.imshow(env.render(mode='rgb_array'))\n",
        "\n",
        "done = False\n",
        "while not done:\n",
        "    action = env.action_space.sample()\n",
        "    observation, reward, done, _ = env.step(action)\n",
        "\n",
        "    img.set_data(env.render(mode='rgb_array'))\n",
        "    display.display(plt.gcf())\n",
        "    display.clear_output(wait=True)"
      ],
      "execution_count": 87,
      "outputs": [
        {
          "output_type": "display_data",
          "data": {
            "text/plain": [
              "<Figure size 640x480 with 1 Axes>"
            ],
            "image/png": "[encoded data removed]"
          },
          "metadata": {}
        }
      ]
    },
    {
      "cell_type": "code",
      "source": [
        "print(reward)"
      ],
      "metadata": {
        "colab": {
          "base_uri": "https://localhost:8080/"
        },
        "id": "sMdICbN5cfR-",
        "outputId": "24b7e400-4fa2-4e03-894d-e34fe3695f47"
      },
      "execution_count": 88,
      "outputs": [
        {
          "output_type": "stream",
          "name": "stdout",
          "text": [
            "-100\n"
          ]
        }
      ]
    },
    {
      "cell_type": "markdown",
      "metadata": {
        "id": "F5paWqo7tWL2"
      },
      "source": [
        "## Policy Gradient\n",
        "Now, we can build a simple policy network. The network will return one of action in the action space."
      ]
    },
    {
      "cell_type": "code",
      "metadata": {
        "id": "J8tdmeD-tZew"
      },
      "source": [
        "# Take a state input and generate a probability distribution of an action through a series of Fully Connected Layers\n",
        "class PolicyGradientNetwork(nn.Module):\n",
        "\n",
        "    def __init__(self):\n",
        "        super().__init__()\n",
        "        self.fc1 = nn.Linear(8, 16)\n",
        "        self.fc2 = nn.Linear(16, 16)\n",
        "        self.fc3 = nn.Linear(16, 4)\n",
        "\n",
        "    def forward(self, state):\n",
        "        hid = torch.tanh(self.fc1(state))\n",
        "        hid = torch.tanh(hid)\n",
        "        return F.softmax(self.fc3(hid), dim=-1)"
      ],
      "execution_count": 89,
      "outputs": []
    },
    {
      "cell_type": "markdown",
      "metadata": {
        "id": "ynbqJrhIFTC3"
      },
      "source": [
        "Then, we need to build a simple agent. The agent will acts according to the output of the policy network above. There are a few things can be done by agent:\n",
        "- `learn()`：update the policy network from log probabilities and rewards.\n",
        "- `sample()`：After receiving observation from the environment, utilize policy network to tell which action to take. The return values of this function includes action and log probabilities."
      ]
    },
    {
      "cell_type": "code",
      "metadata": {
        "id": "zZo-IxJx286z"
      },
      "source": [
        "from torch.optim.lr_scheduler import StepLR\n",
        "# The Policy Gradient Agent is used for the strategy gradient method. Agent uses neural network to generate probability distribution of actions and updates the network parameters by gradient descent\n",
        "class PolicyGradientAgent():\n",
        "\n",
        "    def __init__(self, network):\n",
        "        self.network = network\n",
        "        self.optimizer = optim.SGD(self.network.parameters(), lr=0.002)\n",
        "\n",
        "    def forward(self, state):\n",
        "        return self.network(state)\n",
        "    def learn(self, log_probs, rewards):\n",
        "        loss = (-log_probs * rewards).sum() # You don't need to revise this to pass simple baseline (but you can)\n",
        "\n",
        "        self.optimizer.zero_grad()\n",
        "        loss.backward()\n",
        "        self.optimizer.step()\n",
        "\n",
        "    def sample(self, state):\n",
        "        action_prob = self.network(torch.FloatTensor(state))\n",
        "        action_dist = Categorical(action_prob)\n",
        "        action = action_dist.sample()\n",
        "        log_prob = action_dist.log_prob(action)\n",
        "        return action.item(), log_prob"
      ],
      "execution_count": 90,
      "outputs": []
    },
    {
      "cell_type": "markdown",
      "metadata": {
        "id": "ehPlnTKyRZf9"
      },
      "source": [
        "Lastly, build a network and agent to start training."
      ]
    },
    {
      "cell_type": "code",
      "metadata": {
        "id": "GfJIvML-RYjL"
      },
      "source": [
        "network = PolicyGradientNetwork()\n",
        "agent = PolicyGradientAgent(network)"
      ],
      "execution_count": 91,
      "outputs": []
    },
    {
      "cell_type": "markdown",
      "source": [
        "## Actor Critic(strong)"
      ],
      "metadata": {
        "id": "e56W8frW6wtp"
      }
    },
    {
      "cell_type": "markdown",
      "source": [
        "分开更新，效果并不好"
      ],
      "metadata": {
        "id": "MRarjEIlMhwv"
      }
    },
    {
      "cell_type": "code",
      "source": [
        "# ActorNetwork input a state and generate a probability distribution of an action\n",
        "class ActorNetwork(nn.Module):\n",
        "    def __init__(self):\n",
        "        super(ActorNetwork, self).__init__()\n",
        "        self.fc1 = nn.Linear(8, 16)\n",
        "        self.fc2 = nn.Linear(16, 16)\n",
        "        self.fc3 = nn.Linear(16, 4)\n",
        "\n",
        "    def forward(self, state):\n",
        "        hid = torch.tanh(self.fc1(state))\n",
        "        hid = torch.tanh(hid)\n",
        "        return F.softmax(self.fc3(hid), dim=-1)"
      ],
      "metadata": {
        "id": "CSsnpJFF9FEg"
      },
      "execution_count": 126,
      "outputs": []
    },
    {
      "cell_type": "code",
      "source": [
        "# Critic Network input state and generate a value function\n",
        "class CriticNetwork(nn.Module):\n",
        "    def __init__(self):\n",
        "        super(CriticNetwork, self).__init__()\n",
        "        self.fc1 = nn.Linear(8, 16)\n",
        "        self.fc2 = nn.Linear(16, 16)\n",
        "        self.fc3 = nn.Linear(16, 1)\n",
        "\n",
        "    def forward(self, state):\n",
        "        hid = torch.tanh(self.fc1(state))\n",
        "        hid = torch.tanh(self.fc2(hid))\n",
        "        return self.fc3(hid)"
      ],
      "metadata": {
        "id": "top-7guA9XQP"
      },
      "execution_count": 127,
      "outputs": []
    },
    {
      "cell_type": "code",
      "source": [
        "from torch.optim.lr_scheduler import CyclicLR\n",
        "\n",
        "# Actor-Critic model\n",
        "class ActorCritic(nn.Module):\n",
        "  def __init__(self):\n",
        "    super(ActorCritic, self).__init__()\n",
        "    self.actor = ActorNetwork()\n",
        "    self.critic = CriticNetwork()\n",
        "    self.actor_optimizer = optim.SGD(self.actor.parameters(), lr=0.001)\n",
        "    self.critic_optimizer = optim.SGD(self.critic.parameters(), lr=0.001)\n",
        "    self.actor_scheduler = CyclicLR(self.actor_optimizer,\n",
        "                                    base_lr=2e-4, max_lr=2e-3,\n",
        "                                    step_size_up=10, mode='triangular2')\n",
        "    self.critic_scheduler = CyclicLR(self.critic_optimizer,\n",
        "                                    base_lr=2e-4, max_lr=2e-3,\n",
        "                                    step_size_up=10, mode='triangular2')\n",
        "\n",
        "  def forward(self, state):\n",
        "    # Forward through the actor network for action probabilities\n",
        "    action_probs = self.actor(state)\n",
        "    # Forward through the critic network for state value estimation\n",
        "    value = self.critic(state)\n",
        "\n",
        "    return action_probs, balue\n",
        "\n",
        "  # Samples an action using the actor network and returns the action along with its log probability.\n",
        "  def sample(self, state):\n",
        "    state = torch.FloatTensor(state)\n",
        "    action_prob = self.actor(state)\n",
        "    action_dist = Categorical(logits=action_prob)\n",
        "    action = action_dist.sample()\n",
        "    log_prob = action_dist.log_prob(action)\n",
        "    return action.item(), log_prob\n",
        "\n",
        "  # Performs a single update for the actor and critic networks.\n",
        "  def learn(self, log_probs, rewards, states):\n",
        "    # Convert rewards and states to tensors\n",
        "    # rewards = torch.FloatTensor(rewards)\n",
        "    states = torch.FloatTensor(states)\n",
        "\n",
        "    # Calculate the value estimations from the critic network\n",
        "    values = self.critic(states).squeeze(-1) # self.critic(states) size:(batchsize,1) remove the last dim to （batchsize)\n",
        "\n",
        "    # Compute the advantage (A = R - V)\n",
        "    advantages = rewards - values.detach()\n",
        "\n",
        "    # Compute Actor loss: the negative log probability times the advantage\n",
        "    actor_loss = (-log_probs * advantages).sum()\n",
        "\n",
        "    # Compute Critic loss using Smooth L1 loss (Huber loss)\n",
        "    critic_loss = F.smooth_l1_loss(values, rewards)\n",
        "\n",
        "    # Update Actor network\n",
        "    self.actor_optimizer.zero_grad()\n",
        "    actor_loss.backward()\n",
        "    self.actor_optimizer.step()\n",
        "    self.actor_scheduler.step()\n",
        "\n",
        "    # Update Critic network\n",
        "    self.critic_optimizer.zero_grad()\n",
        "    critic_loss.backward()\n",
        "    self.critic_optimizer.step()\n",
        "    self.critic_scheduler.step()\n"
      ],
      "metadata": {
        "id": "06g6V-lt61lP"
      },
      "execution_count": 152,
      "outputs": []
    },
    {
      "cell_type": "markdown",
      "source": [
        "critic和actor一起更新"
      ],
      "metadata": {
        "id": "5dU2Yv4rMmlr"
      }
    },
    {
      "cell_type": "code",
      "source": [
        "from torch.optim.lr_scheduler import StepLR\n",
        "class ActorCritic(nn.Module):\n",
        "    def __init__(self):\n",
        "        super().__init__()\n",
        "        self.fc = nn.Sequential(\n",
        "            nn.Linear(8, 16),\n",
        "            nn.Tanh(),\n",
        "            nn.Linear(16, 16),\n",
        "            nn.Tanh()\n",
        "        )\n",
        "\n",
        "        self.actor = nn.Linear(16, 4)\n",
        "        self.critic = nn.Linear(16, 1)\n",
        "\n",
        "        self.values = []\n",
        "        self.optimizer = optim.SGD(self.parameters(), lr=0.001)\n",
        "\n",
        "    def forward(self, state):\n",
        "        hid = self.fc(state)\n",
        "        self.values.append(self.critic(hid).squeeze(-1))\n",
        "        return F.softmax(self.actor(hid), dim=-1)\n",
        "\n",
        "    def learn(self, log_probs, rewards):\n",
        "        values = torch.stack(self.values)\n",
        "        loss = (-log_probs * (rewards - values.detach())).sum() + F.smooth_l1_loss(values, rewards)\n",
        "        self.optimizer.zero_grad()\n",
        "        loss.backward()\n",
        "        self.optimizer.step()\n",
        "\n",
        "        self.values = []\n",
        "\n",
        "    def sample(self, state):\n",
        "        action_prob = self(torch.FloatTensor(state))\n",
        "        action_dist = Categorical(action_prob)\n",
        "        action = action_dist.sample()\n",
        "        log_prob = action_dist.log_prob(action)\n",
        "        return action.item(), log_prob"
      ],
      "metadata": {
        "id": "5waFsTKVM5Q6"
      },
      "execution_count": 157,
      "outputs": []
    },
    {
      "cell_type": "code",
      "source": [
        "agent = ActorCritic()"
      ],
      "metadata": {
        "id": "AcCbl-exDqZo"
      },
      "execution_count": 159,
      "outputs": []
    },
    {
      "cell_type": "markdown",
      "metadata": {
        "id": "ouv23glgf5Qt"
      },
      "source": [
        "## Training Agent\n",
        "\n",
        "Now let's start to train our agent.\n",
        "Through taking all the interactions between agent and environment as training data, the policy network can learn from all these attempts,"
      ]
    },
    {
      "cell_type": "code",
      "metadata": {
        "id": "vg5rxBBaf38_",
        "colab": {
          "base_uri": "https://localhost:8080/",
          "height": 1000,
          "referenced_widgets": [
            "3001bf79bffd43dea1402f0346496864",
            "7e741e686d4b4a9bb3d56fa3faa49649",
            "cceade43df9b4bf0b2a66e3c2c8d3e2f",
            "c4a2bdc1a1084b91a475edcc0b7f0bd6",
            "abe353bb5dfc4ce0b40d8bbb72342d91",
            "d25fdad1b3234ca690827af18c08d0d0",
            "192695bdeb034fb69856032f5df78762",
            "c57e588df1134aab9b218dc6e07a60e0",
            "fef6b0b5eb2a4ca3b9a9130e1a917ae5",
            "680695bf5e44490bbbea2d636d767c49",
            "36bc343fc82a43379c5f1742e610fe13"
          ]
        },
        "outputId": "576647ad-0b7a-4328-9442-76fb3b6caec7"
      },
      "source": [
        "agent.train()          # Switch network into training mode strong\n",
        "EPISODE_PER_BATCH = 5  # update the agent every 5 episode\n",
        "NUM_BATCH = 400        # totally update the agent for 400 time\n",
        "rate = 0.99            # medium: accumulative decaying reward decaying rate\n",
        "avg_total_rewards, avg_final_rewards = [], []\n",
        "\n",
        "prg_bar = tqdm(range(NUM_BATCH))\n",
        "# 每次主循环batch中，agent和env互动EPISODE_PER_BATCH次，但是agent在每次主循环中值更新一次，所以agent更新NUM_BATCH次，互动NUM_BATCH*EPISODE_PER_BATCH次\n",
        "for batch in prg_bar:\n",
        "\n",
        "    log_probs, rewards, states = [], [], []\n",
        "    total_rewards, final_rewards = [], []\n",
        "\n",
        "    # collect trajectory\n",
        "    for episode in range(EPISODE_PER_BATCH):\n",
        "\n",
        "        state = env.reset()\n",
        "        total_reward, total_step = 0, 0\n",
        "        seq_rewards = []\n",
        "        while True:\n",
        "\n",
        "            action, log_prob = agent.sample(state) # at, log(at|st)\n",
        "            next_state, reward, done, _ = env.step(action)\n",
        "\n",
        "            log_probs.append(log_prob) # [log(a1|s1), log(a2|s2), ...., log(at|st)]\n",
        "            seq_rewards.append(reward) # r1, r2, ...., rt\n",
        "            states.append(state)       # strong\n",
        "            state = next_state\n",
        "            total_reward += reward\n",
        "            total_step += 1            # total_step in each episode is different\n",
        "            # rewards.append(reward) # change here\n",
        "            # ! IMPORTANT !\n",
        "            # Current reward implementation: immediate reward,  given action_list : a1, a2, a3 ......\n",
        "            #                                                         rewards :     r1, r2 ,r3 ......\n",
        "            # medium：change \"rewards\" to accumulative decaying reward, given action_list : a1,                           a2,                           a3, ......\n",
        "            #                                                           rewards :           r1+0.99*r2+0.99^2*r3+......, r2+0.99*r3+0.99^2*r4+...... ,  r3+0.99*r4+0.99^2*r5+ ......\n",
        "            # boss : implement Actor-Critic\n",
        "            if done: # done is return by environment, true means current episode is done\n",
        "                final_rewards.append(reward) # final step reward\n",
        "                total_rewards.append(total_reward) # total reward of this episode\n",
        "                # calculate accumulative decaying reward\n",
        "                discounted_rewards = []\n",
        "                R = 0\n",
        "                for r in reversed(seq_rewards):\n",
        "                  R = r + rate * R\n",
        "                  discounted_rewards.insert(0, R)\n",
        "\n",
        "                rewards.extend(discounted_rewards)\n",
        "                break\n",
        "\n",
        "    print(f\"rewards looks like \", np.shape(rewards))\n",
        "    # print(f\"total step\",total_step)\n",
        "    # print(f\"log_probs looks like \", np.shape(log_probs))\n",
        "    # record training process\n",
        "    avg_total_reward = sum(total_rewards) / len(total_rewards) # average total reward for each episode in current batch\n",
        "    avg_final_reward = sum(final_rewards) / len(final_rewards) # average final reward for each episode in current batch\n",
        "    avg_total_rewards.append(avg_total_reward)\n",
        "    avg_final_rewards.append(avg_final_reward)\n",
        "    prg_bar.set_description(f\"Total: {avg_total_reward: 4.1f}, Final: {avg_final_reward: 4.1f}\")\n",
        "\n",
        "    # update agent\n",
        "    # rewards = np.concatenate(rewards, axis=0)\n",
        "    rewards = (rewards - np.mean(rewards)) / (np.std(rewards) + 1e-9)  # normalize the reward\n",
        "    # agent.learn(torch.stack(log_probs), torch.from_numpy(rewards), states)\n",
        "    agent.learn(torch.stack(log_probs), torch.from_numpy(rewards))\n",
        "    print(\"logs prob looks like \", torch.stack(log_probs).size())\n",
        "    print(\"torch.from_numpy(rewards) looks like \", torch.from_numpy(rewards).size())"
      ],
      "execution_count": 160,
      "outputs": [
        {
          "output_type": "display_data",
          "data": {
            "text/plain": [
              "  0%|          | 0/400 [00:00<?, ?it/s]"
            ],
            "application/vnd.jupyter.widget-view+json": {
              "version_major": 2,
              "version_minor": 0,
              "model_id": "3001bf79bffd43dea1402f0346496864"
            }
          },
          "metadata": {}
        },
        {
          "output_type": "stream",
          "name": "stdout",
          "text": [
            "rewards looks like  (414,)\n",
            "logs prob looks like  torch.Size([414])\n",
            "torch.from_numpy(rewards) looks like  torch.Size([414])\n",
            "rewards looks like  (453,)\n",
            "logs prob looks like  torch.Size([453])\n",
            "torch.from_numpy(rewards) looks like  torch.Size([453])\n",
            "rewards looks like  (432,)\n",
            "logs prob looks like  torch.Size([432])\n",
            "torch.from_numpy(rewards) looks like  torch.Size([432])\n",
            "rewards looks like  (493,)\n",
            "logs prob looks like  torch.Size([493])\n",
            "torch.from_numpy(rewards) looks like  torch.Size([493])\n",
            "rewards looks like  (459,)\n",
            "logs prob looks like  torch.Size([459])\n",
            "torch.from_numpy(rewards) looks like  torch.Size([459])\n",
            "rewards looks like  (411,)\n",
            "logs prob looks like  torch.Size([411])\n",
            "torch.from_numpy(rewards) looks like  torch.Size([411])\n",
            "rewards looks like  (392,)\n",
            "logs prob looks like  torch.Size([392])\n",
            "torch.from_numpy(rewards) looks like  torch.Size([392])\n",
            "rewards looks like  (417,)\n",
            "logs prob looks like  torch.Size([417])\n",
            "torch.from_numpy(rewards) looks like  torch.Size([417])\n",
            "rewards looks like  (478,)\n",
            "logs prob looks like  torch.Size([478])\n",
            "torch.from_numpy(rewards) looks like  torch.Size([478])\n",
            "rewards looks like  (428,)\n",
            "logs prob looks like  torch.Size([428])\n",
            "torch.from_numpy(rewards) looks like  torch.Size([428])\n",
            "rewards looks like  (511,)\n",
            "logs prob looks like  torch.Size([511])\n",
            "torch.from_numpy(rewards) looks like  torch.Size([511])\n",
            "rewards looks like  (401,)\n",
            "logs prob looks like  torch.Size([401])\n",
            "torch.from_numpy(rewards) looks like  torch.Size([401])\n",
            "rewards looks like  (482,)\n",
            "logs prob looks like  torch.Size([482])\n",
            "torch.from_numpy(rewards) looks like  torch.Size([482])\n",
            "rewards looks like  (429,)\n",
            "logs prob looks like  torch.Size([429])\n",
            "torch.from_numpy(rewards) looks like  torch.Size([429])\n",
            "rewards looks like  (404,)\n",
            "logs prob looks like  torch.Size([404])\n",
            "torch.from_numpy(rewards) looks like  torch.Size([404])\n",
            "rewards looks like  (485,)\n",
            "logs prob looks like  torch.Size([485])\n",
            "torch.from_numpy(rewards) looks like  torch.Size([485])\n",
            "rewards looks like  (441,)\n",
            "logs prob looks like  torch.Size([441])\n",
            "torch.from_numpy(rewards) looks like  torch.Size([441])\n",
            "rewards looks like  (514,)\n",
            "logs prob looks like  torch.Size([514])\n",
            "torch.from_numpy(rewards) looks like  torch.Size([514])\n",
            "rewards looks like  (411,)\n",
            "logs prob looks like  torch.Size([411])\n",
            "torch.from_numpy(rewards) looks like  torch.Size([411])\n",
            "rewards looks like  (470,)\n",
            "logs prob looks like  torch.Size([470])\n",
            "torch.from_numpy(rewards) looks like  torch.Size([470])\n",
            "rewards looks like  (462,)\n",
            "logs prob looks like  torch.Size([462])\n",
            "torch.from_numpy(rewards) looks like  torch.Size([462])\n",
            "rewards looks like  (384,)\n",
            "logs prob looks like  torch.Size([384])\n",
            "torch.from_numpy(rewards) looks like  torch.Size([384])\n",
            "rewards looks like  (413,)\n",
            "logs prob looks like  torch.Size([413])\n",
            "torch.from_numpy(rewards) looks like  torch.Size([413])\n",
            "rewards looks like  (458,)\n",
            "logs prob looks like  torch.Size([458])\n",
            "torch.from_numpy(rewards) looks like  torch.Size([458])\n",
            "rewards looks like  (448,)\n",
            "logs prob looks like  torch.Size([448])\n",
            "torch.from_numpy(rewards) looks like  torch.Size([448])\n",
            "rewards looks like  (437,)\n",
            "logs prob looks like  torch.Size([437])\n",
            "torch.from_numpy(rewards) looks like  torch.Size([437])\n",
            "rewards looks like  (519,)\n",
            "logs prob looks like  torch.Size([519])\n",
            "torch.from_numpy(rewards) looks like  torch.Size([519])\n",
            "rewards looks like  (468,)\n",
            "logs prob looks like  torch.Size([468])\n",
            "torch.from_numpy(rewards) looks like  torch.Size([468])\n",
            "rewards looks like  (400,)\n",
            "logs prob looks like  torch.Size([400])\n",
            "torch.from_numpy(rewards) looks like  torch.Size([400])\n",
            "rewards looks like  (374,)\n",
            "logs prob looks like  torch.Size([374])\n",
            "torch.from_numpy(rewards) looks like  torch.Size([374])\n",
            "rewards looks like  (397,)\n",
            "logs prob looks like  torch.Size([397])\n",
            "torch.from_numpy(rewards) looks like  torch.Size([397])\n",
            "rewards looks like  (466,)\n",
            "logs prob looks like  torch.Size([466])\n",
            "torch.from_numpy(rewards) looks like  torch.Size([466])\n",
            "rewards looks like  (398,)\n",
            "logs prob looks like  torch.Size([398])\n",
            "torch.from_numpy(rewards) looks like  torch.Size([398])\n",
            "rewards looks like  (398,)\n",
            "logs prob looks like  torch.Size([398])\n",
            "torch.from_numpy(rewards) looks like  torch.Size([398])\n",
            "rewards looks like  (470,)\n",
            "logs prob looks like  torch.Size([470])\n",
            "torch.from_numpy(rewards) looks like  torch.Size([470])\n",
            "rewards looks like  (407,)\n",
            "logs prob looks like  torch.Size([407])\n",
            "torch.from_numpy(rewards) looks like  torch.Size([407])\n",
            "rewards looks like  (449,)\n",
            "logs prob looks like  torch.Size([449])\n",
            "torch.from_numpy(rewards) looks like  torch.Size([449])\n",
            "rewards looks like  (522,)\n",
            "logs prob looks like  torch.Size([522])\n",
            "torch.from_numpy(rewards) looks like  torch.Size([522])\n",
            "rewards looks like  (479,)\n",
            "logs prob looks like  torch.Size([479])\n",
            "torch.from_numpy(rewards) looks like  torch.Size([479])\n",
            "rewards looks like  (449,)\n",
            "logs prob looks like  torch.Size([449])\n",
            "torch.from_numpy(rewards) looks like  torch.Size([449])\n",
            "rewards looks like  (394,)\n",
            "logs prob looks like  torch.Size([394])\n",
            "torch.from_numpy(rewards) looks like  torch.Size([394])\n",
            "rewards looks like  (374,)\n",
            "logs prob looks like  torch.Size([374])\n",
            "torch.from_numpy(rewards) looks like  torch.Size([374])\n",
            "rewards looks like  (490,)\n",
            "logs prob looks like  torch.Size([490])\n",
            "torch.from_numpy(rewards) looks like  torch.Size([490])\n",
            "rewards looks like  (457,)\n",
            "logs prob looks like  torch.Size([457])\n",
            "torch.from_numpy(rewards) looks like  torch.Size([457])\n",
            "rewards looks like  (456,)\n",
            "logs prob looks like  torch.Size([456])\n",
            "torch.from_numpy(rewards) looks like  torch.Size([456])\n",
            "rewards looks like  (467,)\n",
            "logs prob looks like  torch.Size([467])\n",
            "torch.from_numpy(rewards) looks like  torch.Size([467])\n",
            "rewards looks like  (470,)\n",
            "logs prob looks like  torch.Size([470])\n",
            "torch.from_numpy(rewards) looks like  torch.Size([470])\n",
            "rewards looks like  (403,)\n",
            "logs prob looks like  torch.Size([403])\n",
            "torch.from_numpy(rewards) looks like  torch.Size([403])\n",
            "rewards looks like  (415,)\n",
            "logs prob looks like  torch.Size([415])\n",
            "torch.from_numpy(rewards) looks like  torch.Size([415])\n",
            "rewards looks like  (381,)\n",
            "logs prob looks like  torch.Size([381])\n",
            "torch.from_numpy(rewards) looks like  torch.Size([381])\n",
            "rewards looks like  (535,)\n",
            "logs prob looks like  torch.Size([535])\n",
            "torch.from_numpy(rewards) looks like  torch.Size([535])\n",
            "rewards looks like  (510,)\n",
            "logs prob looks like  torch.Size([510])\n",
            "torch.from_numpy(rewards) looks like  torch.Size([510])\n",
            "rewards looks like  (378,)\n",
            "logs prob looks like  torch.Size([378])\n",
            "torch.from_numpy(rewards) looks like  torch.Size([378])\n",
            "rewards looks like  (391,)\n",
            "logs prob looks like  torch.Size([391])\n",
            "torch.from_numpy(rewards) looks like  torch.Size([391])\n",
            "rewards looks like  (452,)\n",
            "logs prob looks like  torch.Size([452])\n",
            "torch.from_numpy(rewards) looks like  torch.Size([452])\n",
            "rewards looks like  (476,)\n",
            "logs prob looks like  torch.Size([476])\n",
            "torch.from_numpy(rewards) looks like  torch.Size([476])\n",
            "rewards looks like  (442,)\n",
            "logs prob looks like  torch.Size([442])\n",
            "torch.from_numpy(rewards) looks like  torch.Size([442])\n",
            "rewards looks like  (382,)\n",
            "logs prob looks like  torch.Size([382])\n",
            "torch.from_numpy(rewards) looks like  torch.Size([382])\n",
            "rewards looks like  (432,)\n",
            "logs prob looks like  torch.Size([432])\n",
            "torch.from_numpy(rewards) looks like  torch.Size([432])\n",
            "rewards looks like  (377,)\n",
            "logs prob looks like  torch.Size([377])\n",
            "torch.from_numpy(rewards) looks like  torch.Size([377])\n",
            "rewards looks like  (444,)\n",
            "logs prob looks like  torch.Size([444])\n",
            "torch.from_numpy(rewards) looks like  torch.Size([444])\n",
            "rewards looks like  (375,)\n",
            "logs prob looks like  torch.Size([375])\n",
            "torch.from_numpy(rewards) looks like  torch.Size([375])\n",
            "rewards looks like  (402,)\n",
            "logs prob looks like  torch.Size([402])\n",
            "torch.from_numpy(rewards) looks like  torch.Size([402])\n",
            "rewards looks like  (429,)\n",
            "logs prob looks like  torch.Size([429])\n",
            "torch.from_numpy(rewards) looks like  torch.Size([429])\n",
            "rewards looks like  (514,)\n",
            "logs prob looks like  torch.Size([514])\n",
            "torch.from_numpy(rewards) looks like  torch.Size([514])\n",
            "rewards looks like  (470,)\n",
            "logs prob looks like  torch.Size([470])\n",
            "torch.from_numpy(rewards) looks like  torch.Size([470])\n",
            "rewards looks like  (406,)\n",
            "logs prob looks like  torch.Size([406])\n",
            "torch.from_numpy(rewards) looks like  torch.Size([406])\n",
            "rewards looks like  (495,)\n",
            "logs prob looks like  torch.Size([495])\n",
            "torch.from_numpy(rewards) looks like  torch.Size([495])\n",
            "rewards looks like  (427,)\n",
            "logs prob looks like  torch.Size([427])\n",
            "torch.from_numpy(rewards) looks like  torch.Size([427])\n",
            "rewards looks like  (425,)\n",
            "logs prob looks like  torch.Size([425])\n",
            "torch.from_numpy(rewards) looks like  torch.Size([425])\n",
            "rewards looks like  (495,)\n",
            "logs prob looks like  torch.Size([495])\n",
            "torch.from_numpy(rewards) looks like  torch.Size([495])\n",
            "rewards looks like  (468,)\n",
            "logs prob looks like  torch.Size([468])\n",
            "torch.from_numpy(rewards) looks like  torch.Size([468])\n",
            "rewards looks like  (386,)\n",
            "logs prob looks like  torch.Size([386])\n",
            "torch.from_numpy(rewards) looks like  torch.Size([386])\n",
            "rewards looks like  (494,)\n",
            "logs prob looks like  torch.Size([494])\n",
            "torch.from_numpy(rewards) looks like  torch.Size([494])\n",
            "rewards looks like  (453,)\n",
            "logs prob looks like  torch.Size([453])\n",
            "torch.from_numpy(rewards) looks like  torch.Size([453])\n",
            "rewards looks like  (478,)\n",
            "logs prob looks like  torch.Size([478])\n",
            "torch.from_numpy(rewards) looks like  torch.Size([478])\n",
            "rewards looks like  (431,)\n",
            "logs prob looks like  torch.Size([431])\n",
            "torch.from_numpy(rewards) looks like  torch.Size([431])\n",
            "rewards looks like  (351,)\n",
            "logs prob looks like  torch.Size([351])\n",
            "torch.from_numpy(rewards) looks like  torch.Size([351])\n",
            "rewards looks like  (486,)\n",
            "logs prob looks like  torch.Size([486])\n",
            "torch.from_numpy(rewards) looks like  torch.Size([486])\n",
            "rewards looks like  (512,)\n",
            "logs prob looks like  torch.Size([512])\n",
            "torch.from_numpy(rewards) looks like  torch.Size([512])\n",
            "rewards looks like  (490,)\n",
            "logs prob looks like  torch.Size([490])\n",
            "torch.from_numpy(rewards) looks like  torch.Size([490])\n",
            "rewards looks like  (459,)\n",
            "logs prob looks like  torch.Size([459])\n",
            "torch.from_numpy(rewards) looks like  torch.Size([459])\n",
            "rewards looks like  (403,)\n",
            "logs prob looks like  torch.Size([403])\n",
            "torch.from_numpy(rewards) looks like  torch.Size([403])\n",
            "rewards looks like  (455,)\n",
            "logs prob looks like  torch.Size([455])\n",
            "torch.from_numpy(rewards) looks like  torch.Size([455])\n",
            "rewards looks like  (386,)\n",
            "logs prob looks like  torch.Size([386])\n",
            "torch.from_numpy(rewards) looks like  torch.Size([386])\n",
            "rewards looks like  (443,)\n",
            "logs prob looks like  torch.Size([443])\n",
            "torch.from_numpy(rewards) looks like  torch.Size([443])\n",
            "rewards looks like  (484,)\n",
            "logs prob looks like  torch.Size([484])\n",
            "torch.from_numpy(rewards) looks like  torch.Size([484])\n",
            "rewards looks like  (500,)\n",
            "logs prob looks like  torch.Size([500])\n",
            "torch.from_numpy(rewards) looks like  torch.Size([500])\n",
            "rewards looks like  (403,)\n",
            "logs prob looks like  torch.Size([403])\n",
            "torch.from_numpy(rewards) looks like  torch.Size([403])\n",
            "rewards looks like  (406,)\n",
            "logs prob looks like  torch.Size([406])\n",
            "torch.from_numpy(rewards) looks like  torch.Size([406])\n",
            "rewards looks like  (445,)\n",
            "logs prob looks like  torch.Size([445])\n",
            "torch.from_numpy(rewards) looks like  torch.Size([445])\n",
            "rewards looks like  (426,)\n",
            "logs prob looks like  torch.Size([426])\n",
            "torch.from_numpy(rewards) looks like  torch.Size([426])\n",
            "rewards looks like  (485,)\n",
            "logs prob looks like  torch.Size([485])\n",
            "torch.from_numpy(rewards) looks like  torch.Size([485])\n",
            "rewards looks like  (400,)\n",
            "logs prob looks like  torch.Size([400])\n",
            "torch.from_numpy(rewards) looks like  torch.Size([400])\n",
            "rewards looks like  (455,)\n",
            "logs prob looks like  torch.Size([455])\n",
            "torch.from_numpy(rewards) looks like  torch.Size([455])\n",
            "rewards looks like  (406,)\n",
            "logs prob looks like  torch.Size([406])\n",
            "torch.from_numpy(rewards) looks like  torch.Size([406])\n",
            "rewards looks like  (421,)\n",
            "logs prob looks like  torch.Size([421])\n",
            "torch.from_numpy(rewards) looks like  torch.Size([421])\n",
            "rewards looks like  (409,)\n",
            "logs prob looks like  torch.Size([409])\n",
            "torch.from_numpy(rewards) looks like  torch.Size([409])\n",
            "rewards looks like  (442,)\n",
            "logs prob looks like  torch.Size([442])\n",
            "torch.from_numpy(rewards) looks like  torch.Size([442])\n",
            "rewards looks like  (389,)\n",
            "logs prob looks like  torch.Size([389])\n",
            "torch.from_numpy(rewards) looks like  torch.Size([389])\n",
            "rewards looks like  (392,)\n",
            "logs prob looks like  torch.Size([392])\n",
            "torch.from_numpy(rewards) looks like  torch.Size([392])\n",
            "rewards looks like  (443,)\n",
            "logs prob looks like  torch.Size([443])\n",
            "torch.from_numpy(rewards) looks like  torch.Size([443])\n",
            "rewards looks like  (449,)\n",
            "logs prob looks like  torch.Size([449])\n",
            "torch.from_numpy(rewards) looks like  torch.Size([449])\n",
            "rewards looks like  (443,)\n",
            "logs prob looks like  torch.Size([443])\n",
            "torch.from_numpy(rewards) looks like  torch.Size([443])\n",
            "rewards looks like  (440,)\n",
            "logs prob looks like  torch.Size([440])\n",
            "torch.from_numpy(rewards) looks like  torch.Size([440])\n",
            "rewards looks like  (440,)\n",
            "logs prob looks like  torch.Size([440])\n",
            "torch.from_numpy(rewards) looks like  torch.Size([440])\n",
            "rewards looks like  (475,)\n",
            "logs prob looks like  torch.Size([475])\n",
            "torch.from_numpy(rewards) looks like  torch.Size([475])\n",
            "rewards looks like  (482,)\n",
            "logs prob looks like  torch.Size([482])\n",
            "torch.from_numpy(rewards) looks like  torch.Size([482])\n",
            "rewards looks like  (440,)\n",
            "logs prob looks like  torch.Size([440])\n",
            "torch.from_numpy(rewards) looks like  torch.Size([440])\n",
            "rewards looks like  (486,)\n",
            "logs prob looks like  torch.Size([486])\n",
            "torch.from_numpy(rewards) looks like  torch.Size([486])\n",
            "rewards looks like  (571,)\n",
            "logs prob looks like  torch.Size([571])\n",
            "torch.from_numpy(rewards) looks like  torch.Size([571])\n",
            "rewards looks like  (427,)\n",
            "logs prob looks like  torch.Size([427])\n",
            "torch.from_numpy(rewards) looks like  torch.Size([427])\n",
            "rewards looks like  (539,)\n",
            "logs prob looks like  torch.Size([539])\n",
            "torch.from_numpy(rewards) looks like  torch.Size([539])\n",
            "rewards looks like  (375,)\n",
            "logs prob looks like  torch.Size([375])\n",
            "torch.from_numpy(rewards) looks like  torch.Size([375])\n",
            "rewards looks like  (550,)\n",
            "logs prob looks like  torch.Size([550])\n",
            "torch.from_numpy(rewards) looks like  torch.Size([550])\n",
            "rewards looks like  (448,)\n",
            "logs prob looks like  torch.Size([448])\n",
            "torch.from_numpy(rewards) looks like  torch.Size([448])\n",
            "rewards looks like  (503,)\n",
            "logs prob looks like  torch.Size([503])\n",
            "torch.from_numpy(rewards) looks like  torch.Size([503])\n",
            "rewards looks like  (436,)\n",
            "logs prob looks like  torch.Size([436])\n",
            "torch.from_numpy(rewards) looks like  torch.Size([436])\n",
            "rewards looks like  (496,)\n",
            "logs prob looks like  torch.Size([496])\n",
            "torch.from_numpy(rewards) looks like  torch.Size([496])\n",
            "rewards looks like  (596,)\n",
            "logs prob looks like  torch.Size([596])\n",
            "torch.from_numpy(rewards) looks like  torch.Size([596])\n",
            "rewards looks like  (396,)\n",
            "logs prob looks like  torch.Size([396])\n",
            "torch.from_numpy(rewards) looks like  torch.Size([396])\n",
            "rewards looks like  (423,)\n",
            "logs prob looks like  torch.Size([423])\n",
            "torch.from_numpy(rewards) looks like  torch.Size([423])\n",
            "rewards looks like  (454,)\n",
            "logs prob looks like  torch.Size([454])\n",
            "torch.from_numpy(rewards) looks like  torch.Size([454])\n",
            "rewards looks like  (556,)\n",
            "logs prob looks like  torch.Size([556])\n",
            "torch.from_numpy(rewards) looks like  torch.Size([556])\n",
            "rewards looks like  (510,)\n",
            "logs prob looks like  torch.Size([510])\n",
            "torch.from_numpy(rewards) looks like  torch.Size([510])\n",
            "rewards looks like  (476,)\n",
            "logs prob looks like  torch.Size([476])\n",
            "torch.from_numpy(rewards) looks like  torch.Size([476])\n",
            "rewards looks like  (566,)\n",
            "logs prob looks like  torch.Size([566])\n",
            "torch.from_numpy(rewards) looks like  torch.Size([566])\n",
            "rewards looks like  (545,)\n",
            "logs prob looks like  torch.Size([545])\n",
            "torch.from_numpy(rewards) looks like  torch.Size([545])\n",
            "rewards looks like  (484,)\n",
            "logs prob looks like  torch.Size([484])\n",
            "torch.from_numpy(rewards) looks like  torch.Size([484])\n",
            "rewards looks like  (539,)\n",
            "logs prob looks like  torch.Size([539])\n",
            "torch.from_numpy(rewards) looks like  torch.Size([539])\n",
            "rewards looks like  (499,)\n",
            "logs prob looks like  torch.Size([499])\n",
            "torch.from_numpy(rewards) looks like  torch.Size([499])\n",
            "rewards looks like  (397,)\n",
            "logs prob looks like  torch.Size([397])\n",
            "torch.from_numpy(rewards) looks like  torch.Size([397])\n",
            "rewards looks like  (526,)\n",
            "logs prob looks like  torch.Size([526])\n",
            "torch.from_numpy(rewards) looks like  torch.Size([526])\n",
            "rewards looks like  (638,)\n",
            "logs prob looks like  torch.Size([638])\n",
            "torch.from_numpy(rewards) looks like  torch.Size([638])\n",
            "rewards looks like  (484,)\n",
            "logs prob looks like  torch.Size([484])\n",
            "torch.from_numpy(rewards) looks like  torch.Size([484])\n",
            "rewards looks like  (416,)\n",
            "logs prob looks like  torch.Size([416])\n",
            "torch.from_numpy(rewards) looks like  torch.Size([416])\n",
            "rewards looks like  (529,)\n",
            "logs prob looks like  torch.Size([529])\n",
            "torch.from_numpy(rewards) looks like  torch.Size([529])\n",
            "rewards looks like  (469,)\n",
            "logs prob looks like  torch.Size([469])\n",
            "torch.from_numpy(rewards) looks like  torch.Size([469])\n",
            "rewards looks like  (480,)\n",
            "logs prob looks like  torch.Size([480])\n",
            "torch.from_numpy(rewards) looks like  torch.Size([480])\n",
            "rewards looks like  (621,)\n",
            "logs prob looks like  torch.Size([621])\n",
            "torch.from_numpy(rewards) looks like  torch.Size([621])\n",
            "rewards looks like  (572,)\n",
            "logs prob looks like  torch.Size([572])\n",
            "torch.from_numpy(rewards) looks like  torch.Size([572])\n",
            "rewards looks like  (541,)\n",
            "logs prob looks like  torch.Size([541])\n",
            "torch.from_numpy(rewards) looks like  torch.Size([541])\n",
            "rewards looks like  (601,)\n",
            "logs prob looks like  torch.Size([601])\n",
            "torch.from_numpy(rewards) looks like  torch.Size([601])\n",
            "rewards looks like  (543,)\n",
            "logs prob looks like  torch.Size([543])\n",
            "torch.from_numpy(rewards) looks like  torch.Size([543])\n",
            "rewards looks like  (489,)\n",
            "logs prob looks like  torch.Size([489])\n",
            "torch.from_numpy(rewards) looks like  torch.Size([489])\n",
            "rewards looks like  (471,)\n",
            "logs prob looks like  torch.Size([471])\n",
            "torch.from_numpy(rewards) looks like  torch.Size([471])\n",
            "rewards looks like  (493,)\n",
            "logs prob looks like  torch.Size([493])\n",
            "torch.from_numpy(rewards) looks like  torch.Size([493])\n",
            "rewards looks like  (598,)\n",
            "logs prob looks like  torch.Size([598])\n",
            "torch.from_numpy(rewards) looks like  torch.Size([598])\n",
            "rewards looks like  (529,)\n",
            "logs prob looks like  torch.Size([529])\n",
            "torch.from_numpy(rewards) looks like  torch.Size([529])\n",
            "rewards looks like  (669,)\n",
            "logs prob looks like  torch.Size([669])\n",
            "torch.from_numpy(rewards) looks like  torch.Size([669])\n",
            "rewards looks like  (532,)\n",
            "logs prob looks like  torch.Size([532])\n",
            "torch.from_numpy(rewards) looks like  torch.Size([532])\n",
            "rewards looks like  (427,)\n",
            "logs prob looks like  torch.Size([427])\n",
            "torch.from_numpy(rewards) looks like  torch.Size([427])\n",
            "rewards looks like  (474,)\n",
            "logs prob looks like  torch.Size([474])\n",
            "torch.from_numpy(rewards) looks like  torch.Size([474])\n",
            "rewards looks like  (512,)\n",
            "logs prob looks like  torch.Size([512])\n",
            "torch.from_numpy(rewards) looks like  torch.Size([512])\n",
            "rewards looks like  (451,)\n",
            "logs prob looks like  torch.Size([451])\n",
            "torch.from_numpy(rewards) looks like  torch.Size([451])\n",
            "rewards looks like  (659,)\n",
            "logs prob looks like  torch.Size([659])\n",
            "torch.from_numpy(rewards) looks like  torch.Size([659])\n",
            "rewards looks like  (444,)\n",
            "logs prob looks like  torch.Size([444])\n",
            "torch.from_numpy(rewards) looks like  torch.Size([444])\n",
            "rewards looks like  (537,)\n",
            "logs prob looks like  torch.Size([537])\n",
            "torch.from_numpy(rewards) looks like  torch.Size([537])\n",
            "rewards looks like  (494,)\n",
            "logs prob looks like  torch.Size([494])\n",
            "torch.from_numpy(rewards) looks like  torch.Size([494])\n",
            "rewards looks like  (581,)\n",
            "logs prob looks like  torch.Size([581])\n",
            "torch.from_numpy(rewards) looks like  torch.Size([581])\n",
            "rewards looks like  (492,)\n",
            "logs prob looks like  torch.Size([492])\n",
            "torch.from_numpy(rewards) looks like  torch.Size([492])\n",
            "rewards looks like  (544,)\n",
            "logs prob looks like  torch.Size([544])\n",
            "torch.from_numpy(rewards) looks like  torch.Size([544])\n",
            "rewards looks like  (476,)\n",
            "logs prob looks like  torch.Size([476])\n",
            "torch.from_numpy(rewards) looks like  torch.Size([476])\n",
            "rewards looks like  (532,)\n",
            "logs prob looks like  torch.Size([532])\n",
            "torch.from_numpy(rewards) looks like  torch.Size([532])\n",
            "rewards looks like  (543,)\n",
            "logs prob looks like  torch.Size([543])\n",
            "torch.from_numpy(rewards) looks like  torch.Size([543])\n",
            "rewards looks like  (527,)\n",
            "logs prob looks like  torch.Size([527])\n",
            "torch.from_numpy(rewards) looks like  torch.Size([527])\n",
            "rewards looks like  (539,)\n",
            "logs prob looks like  torch.Size([539])\n",
            "torch.from_numpy(rewards) looks like  torch.Size([539])\n",
            "rewards looks like  (525,)\n",
            "logs prob looks like  torch.Size([525])\n",
            "torch.from_numpy(rewards) looks like  torch.Size([525])\n",
            "rewards looks like  (497,)\n",
            "logs prob looks like  torch.Size([497])\n",
            "torch.from_numpy(rewards) looks like  torch.Size([497])\n",
            "rewards looks like  (624,)\n",
            "logs prob looks like  torch.Size([624])\n",
            "torch.from_numpy(rewards) looks like  torch.Size([624])\n",
            "rewards looks like  (614,)\n",
            "logs prob looks like  torch.Size([614])\n",
            "torch.from_numpy(rewards) looks like  torch.Size([614])\n",
            "rewards looks like  (497,)\n",
            "logs prob looks like  torch.Size([497])\n",
            "torch.from_numpy(rewards) looks like  torch.Size([497])\n",
            "rewards looks like  (566,)\n",
            "logs prob looks like  torch.Size([566])\n",
            "torch.from_numpy(rewards) looks like  torch.Size([566])\n",
            "rewards looks like  (706,)\n",
            "logs prob looks like  torch.Size([706])\n",
            "torch.from_numpy(rewards) looks like  torch.Size([706])\n",
            "rewards looks like  (513,)\n",
            "logs prob looks like  torch.Size([513])\n",
            "torch.from_numpy(rewards) looks like  torch.Size([513])\n",
            "rewards looks like  (570,)\n",
            "logs prob looks like  torch.Size([570])\n",
            "torch.from_numpy(rewards) looks like  torch.Size([570])\n",
            "rewards looks like  (507,)\n",
            "logs prob looks like  torch.Size([507])\n",
            "torch.from_numpy(rewards) looks like  torch.Size([507])\n",
            "rewards looks like  (642,)\n",
            "logs prob looks like  torch.Size([642])\n",
            "torch.from_numpy(rewards) looks like  torch.Size([642])\n",
            "rewards looks like  (571,)\n",
            "logs prob looks like  torch.Size([571])\n",
            "torch.from_numpy(rewards) looks like  torch.Size([571])\n",
            "rewards looks like  (696,)\n",
            "logs prob looks like  torch.Size([696])\n",
            "torch.from_numpy(rewards) looks like  torch.Size([696])\n",
            "rewards looks like  (605,)\n",
            "logs prob looks like  torch.Size([605])\n",
            "torch.from_numpy(rewards) looks like  torch.Size([605])\n",
            "rewards looks like  (498,)\n",
            "logs prob looks like  torch.Size([498])\n",
            "torch.from_numpy(rewards) looks like  torch.Size([498])\n",
            "rewards looks like  (523,)\n",
            "logs prob looks like  torch.Size([523])\n",
            "torch.from_numpy(rewards) looks like  torch.Size([523])\n",
            "rewards looks like  (498,)\n",
            "logs prob looks like  torch.Size([498])\n",
            "torch.from_numpy(rewards) looks like  torch.Size([498])\n",
            "rewards looks like  (633,)\n",
            "logs prob looks like  torch.Size([633])\n",
            "torch.from_numpy(rewards) looks like  torch.Size([633])\n",
            "rewards looks like  (530,)\n",
            "logs prob looks like  torch.Size([530])\n",
            "torch.from_numpy(rewards) looks like  torch.Size([530])\n",
            "rewards looks like  (627,)\n",
            "logs prob looks like  torch.Size([627])\n",
            "torch.from_numpy(rewards) looks like  torch.Size([627])\n",
            "rewards looks like  (660,)\n",
            "logs prob looks like  torch.Size([660])\n",
            "torch.from_numpy(rewards) looks like  torch.Size([660])\n",
            "rewards looks like  (721,)\n",
            "logs prob looks like  torch.Size([721])\n",
            "torch.from_numpy(rewards) looks like  torch.Size([721])\n",
            "rewards looks like  (689,)\n",
            "logs prob looks like  torch.Size([689])\n",
            "torch.from_numpy(rewards) looks like  torch.Size([689])\n",
            "rewards looks like  (618,)\n",
            "logs prob looks like  torch.Size([618])\n",
            "torch.from_numpy(rewards) looks like  torch.Size([618])\n",
            "rewards looks like  (851,)\n",
            "logs prob looks like  torch.Size([851])\n",
            "torch.from_numpy(rewards) looks like  torch.Size([851])\n",
            "rewards looks like  (512,)\n",
            "logs prob looks like  torch.Size([512])\n",
            "torch.from_numpy(rewards) looks like  torch.Size([512])\n",
            "rewards looks like  (690,)\n",
            "logs prob looks like  torch.Size([690])\n",
            "torch.from_numpy(rewards) looks like  torch.Size([690])\n",
            "rewards looks like  (613,)\n",
            "logs prob looks like  torch.Size([613])\n",
            "torch.from_numpy(rewards) looks like  torch.Size([613])\n",
            "rewards looks like  (821,)\n",
            "logs prob looks like  torch.Size([821])\n",
            "torch.from_numpy(rewards) looks like  torch.Size([821])\n",
            "rewards looks like  (793,)\n",
            "logs prob looks like  torch.Size([793])\n",
            "torch.from_numpy(rewards) looks like  torch.Size([793])\n",
            "rewards looks like  (507,)\n",
            "logs prob looks like  torch.Size([507])\n",
            "torch.from_numpy(rewards) looks like  torch.Size([507])\n",
            "rewards looks like  (1542,)\n",
            "logs prob looks like  torch.Size([1542])\n",
            "torch.from_numpy(rewards) looks like  torch.Size([1542])\n",
            "rewards looks like  (737,)\n",
            "logs prob looks like  torch.Size([737])\n",
            "torch.from_numpy(rewards) looks like  torch.Size([737])\n",
            "rewards looks like  (733,)\n",
            "logs prob looks like  torch.Size([733])\n",
            "torch.from_numpy(rewards) looks like  torch.Size([733])\n",
            "rewards looks like  (647,)\n",
            "logs prob looks like  torch.Size([647])\n",
            "torch.from_numpy(rewards) looks like  torch.Size([647])\n",
            "rewards looks like  (808,)\n",
            "logs prob looks like  torch.Size([808])\n",
            "torch.from_numpy(rewards) looks like  torch.Size([808])\n",
            "rewards looks like  (750,)\n",
            "logs prob looks like  torch.Size([750])\n",
            "torch.from_numpy(rewards) looks like  torch.Size([750])\n",
            "rewards looks like  (548,)\n",
            "logs prob looks like  torch.Size([548])\n",
            "torch.from_numpy(rewards) looks like  torch.Size([548])\n",
            "rewards looks like  (2255,)\n",
            "logs prob looks like  torch.Size([2255])\n",
            "torch.from_numpy(rewards) looks like  torch.Size([2255])\n",
            "rewards looks like  (544,)\n",
            "logs prob looks like  torch.Size([544])\n",
            "torch.from_numpy(rewards) looks like  torch.Size([544])\n",
            "rewards looks like  (719,)\n",
            "logs prob looks like  torch.Size([719])\n",
            "torch.from_numpy(rewards) looks like  torch.Size([719])\n",
            "rewards looks like  (615,)\n",
            "logs prob looks like  torch.Size([615])\n",
            "torch.from_numpy(rewards) looks like  torch.Size([615])\n",
            "rewards looks like  (568,)\n",
            "logs prob looks like  torch.Size([568])\n",
            "torch.from_numpy(rewards) looks like  torch.Size([568])\n",
            "rewards looks like  (671,)\n",
            "logs prob looks like  torch.Size([671])\n",
            "torch.from_numpy(rewards) looks like  torch.Size([671])\n",
            "rewards looks like  (652,)\n",
            "logs prob looks like  torch.Size([652])\n",
            "torch.from_numpy(rewards) looks like  torch.Size([652])\n",
            "rewards looks like  (643,)\n",
            "logs prob looks like  torch.Size([643])\n",
            "torch.from_numpy(rewards) looks like  torch.Size([643])\n",
            "rewards looks like  (685,)\n",
            "logs prob looks like  torch.Size([685])\n",
            "torch.from_numpy(rewards) looks like  torch.Size([685])\n",
            "rewards looks like  (551,)\n",
            "logs prob looks like  torch.Size([551])\n",
            "torch.from_numpy(rewards) looks like  torch.Size([551])\n",
            "rewards looks like  (704,)\n",
            "logs prob looks like  torch.Size([704])\n",
            "torch.from_numpy(rewards) looks like  torch.Size([704])\n",
            "rewards looks like  (607,)\n",
            "logs prob looks like  torch.Size([607])\n",
            "torch.from_numpy(rewards) looks like  torch.Size([607])\n",
            "rewards looks like  (668,)\n",
            "logs prob looks like  torch.Size([668])\n",
            "torch.from_numpy(rewards) looks like  torch.Size([668])\n",
            "rewards looks like  (753,)\n",
            "logs prob looks like  torch.Size([753])\n",
            "torch.from_numpy(rewards) looks like  torch.Size([753])\n",
            "rewards looks like  (656,)\n",
            "logs prob looks like  torch.Size([656])\n",
            "torch.from_numpy(rewards) looks like  torch.Size([656])\n",
            "rewards looks like  (796,)\n",
            "logs prob looks like  torch.Size([796])\n",
            "torch.from_numpy(rewards) looks like  torch.Size([796])\n",
            "rewards looks like  (718,)\n",
            "logs prob looks like  torch.Size([718])\n",
            "torch.from_numpy(rewards) looks like  torch.Size([718])\n",
            "rewards looks like  (896,)\n",
            "logs prob looks like  torch.Size([896])\n",
            "torch.from_numpy(rewards) looks like  torch.Size([896])\n",
            "rewards looks like  (828,)\n",
            "logs prob looks like  torch.Size([828])\n",
            "torch.from_numpy(rewards) looks like  torch.Size([828])\n",
            "rewards looks like  (1425,)\n",
            "logs prob looks like  torch.Size([1425])\n",
            "torch.from_numpy(rewards) looks like  torch.Size([1425])\n",
            "rewards looks like  (749,)\n",
            "logs prob looks like  torch.Size([749])\n",
            "torch.from_numpy(rewards) looks like  torch.Size([749])\n",
            "rewards looks like  (577,)\n",
            "logs prob looks like  torch.Size([577])\n",
            "torch.from_numpy(rewards) looks like  torch.Size([577])\n",
            "rewards looks like  (708,)\n",
            "logs prob looks like  torch.Size([708])\n",
            "torch.from_numpy(rewards) looks like  torch.Size([708])\n",
            "rewards looks like  (1017,)\n",
            "logs prob looks like  torch.Size([1017])\n",
            "torch.from_numpy(rewards) looks like  torch.Size([1017])\n",
            "rewards looks like  (553,)\n",
            "logs prob looks like  torch.Size([553])\n",
            "torch.from_numpy(rewards) looks like  torch.Size([553])\n",
            "rewards looks like  (777,)\n",
            "logs prob looks like  torch.Size([777])\n",
            "torch.from_numpy(rewards) looks like  torch.Size([777])\n",
            "rewards looks like  (777,)\n",
            "logs prob looks like  torch.Size([777])\n",
            "torch.from_numpy(rewards) looks like  torch.Size([777])\n",
            "rewards looks like  (826,)\n",
            "logs prob looks like  torch.Size([826])\n",
            "torch.from_numpy(rewards) looks like  torch.Size([826])\n",
            "rewards looks like  (731,)\n",
            "logs prob looks like  torch.Size([731])\n",
            "torch.from_numpy(rewards) looks like  torch.Size([731])\n",
            "rewards looks like  (741,)\n",
            "logs prob looks like  torch.Size([741])\n",
            "torch.from_numpy(rewards) looks like  torch.Size([741])\n",
            "rewards looks like  (891,)\n",
            "logs prob looks like  torch.Size([891])\n",
            "torch.from_numpy(rewards) looks like  torch.Size([891])\n",
            "rewards looks like  (1140,)\n",
            "logs prob looks like  torch.Size([1140])\n",
            "torch.from_numpy(rewards) looks like  torch.Size([1140])\n",
            "rewards looks like  (1805,)\n",
            "logs prob looks like  torch.Size([1805])\n",
            "torch.from_numpy(rewards) looks like  torch.Size([1805])\n",
            "rewards looks like  (986,)\n",
            "logs prob looks like  torch.Size([986])\n",
            "torch.from_numpy(rewards) looks like  torch.Size([986])\n",
            "rewards looks like  (790,)\n",
            "logs prob looks like  torch.Size([790])\n",
            "torch.from_numpy(rewards) looks like  torch.Size([790])\n",
            "rewards looks like  (1410,)\n",
            "logs prob looks like  torch.Size([1410])\n",
            "torch.from_numpy(rewards) looks like  torch.Size([1410])\n",
            "rewards looks like  (969,)\n",
            "logs prob looks like  torch.Size([969])\n",
            "torch.from_numpy(rewards) looks like  torch.Size([969])\n",
            "rewards looks like  (1609,)\n",
            "logs prob looks like  torch.Size([1609])\n",
            "torch.from_numpy(rewards) looks like  torch.Size([1609])\n",
            "rewards looks like  (1848,)\n",
            "logs prob looks like  torch.Size([1848])\n",
            "torch.from_numpy(rewards) looks like  torch.Size([1848])\n",
            "rewards looks like  (836,)\n",
            "logs prob looks like  torch.Size([836])\n",
            "torch.from_numpy(rewards) looks like  torch.Size([836])\n",
            "rewards looks like  (1492,)\n",
            "logs prob looks like  torch.Size([1492])\n",
            "torch.from_numpy(rewards) looks like  torch.Size([1492])\n",
            "rewards looks like  (1650,)\n",
            "logs prob looks like  torch.Size([1650])\n",
            "torch.from_numpy(rewards) looks like  torch.Size([1650])\n",
            "rewards looks like  (792,)\n",
            "logs prob looks like  torch.Size([792])\n",
            "torch.from_numpy(rewards) looks like  torch.Size([792])\n",
            "rewards looks like  (687,)\n",
            "logs prob looks like  torch.Size([687])\n",
            "torch.from_numpy(rewards) looks like  torch.Size([687])\n",
            "rewards looks like  (732,)\n",
            "logs prob looks like  torch.Size([732])\n",
            "torch.from_numpy(rewards) looks like  torch.Size([732])\n",
            "rewards looks like  (802,)\n",
            "logs prob looks like  torch.Size([802])\n",
            "torch.from_numpy(rewards) looks like  torch.Size([802])\n",
            "rewards looks like  (726,)\n",
            "logs prob looks like  torch.Size([726])\n",
            "torch.from_numpy(rewards) looks like  torch.Size([726])\n",
            "rewards looks like  (808,)\n",
            "logs prob looks like  torch.Size([808])\n",
            "torch.from_numpy(rewards) looks like  torch.Size([808])\n",
            "rewards looks like  (1644,)\n",
            "logs prob looks like  torch.Size([1644])\n",
            "torch.from_numpy(rewards) looks like  torch.Size([1644])\n",
            "rewards looks like  (937,)\n",
            "logs prob looks like  torch.Size([937])\n",
            "torch.from_numpy(rewards) looks like  torch.Size([937])\n",
            "rewards looks like  (2369,)\n",
            "logs prob looks like  torch.Size([2369])\n",
            "torch.from_numpy(rewards) looks like  torch.Size([2369])\n",
            "rewards looks like  (1931,)\n",
            "logs prob looks like  torch.Size([1931])\n",
            "torch.from_numpy(rewards) looks like  torch.Size([1931])\n",
            "rewards looks like  (1581,)\n",
            "logs prob looks like  torch.Size([1581])\n",
            "torch.from_numpy(rewards) looks like  torch.Size([1581])\n",
            "rewards looks like  (764,)\n",
            "logs prob looks like  torch.Size([764])\n",
            "torch.from_numpy(rewards) looks like  torch.Size([764])\n",
            "rewards looks like  (694,)\n",
            "logs prob looks like  torch.Size([694])\n",
            "torch.from_numpy(rewards) looks like  torch.Size([694])\n",
            "rewards looks like  (911,)\n",
            "logs prob looks like  torch.Size([911])\n",
            "torch.from_numpy(rewards) looks like  torch.Size([911])\n",
            "rewards looks like  (661,)\n",
            "logs prob looks like  torch.Size([661])\n",
            "torch.from_numpy(rewards) looks like  torch.Size([661])\n",
            "rewards looks like  (698,)\n",
            "logs prob looks like  torch.Size([698])\n",
            "torch.from_numpy(rewards) looks like  torch.Size([698])\n",
            "rewards looks like  (620,)\n",
            "logs prob looks like  torch.Size([620])\n",
            "torch.from_numpy(rewards) looks like  torch.Size([620])\n",
            "rewards looks like  (1609,)\n",
            "logs prob looks like  torch.Size([1609])\n",
            "torch.from_numpy(rewards) looks like  torch.Size([1609])\n",
            "rewards looks like  (929,)\n",
            "logs prob looks like  torch.Size([929])\n",
            "torch.from_numpy(rewards) looks like  torch.Size([929])\n",
            "rewards looks like  (771,)\n",
            "logs prob looks like  torch.Size([771])\n",
            "torch.from_numpy(rewards) looks like  torch.Size([771])\n",
            "rewards looks like  (1072,)\n",
            "logs prob looks like  torch.Size([1072])\n",
            "torch.from_numpy(rewards) looks like  torch.Size([1072])\n",
            "rewards looks like  (2499,)\n",
            "logs prob looks like  torch.Size([2499])\n",
            "torch.from_numpy(rewards) looks like  torch.Size([2499])\n",
            "rewards looks like  (1473,)\n",
            "logs prob looks like  torch.Size([1473])\n",
            "torch.from_numpy(rewards) looks like  torch.Size([1473])\n",
            "rewards looks like  (699,)\n",
            "logs prob looks like  torch.Size([699])\n",
            "torch.from_numpy(rewards) looks like  torch.Size([699])\n",
            "rewards looks like  (619,)\n",
            "logs prob looks like  torch.Size([619])\n",
            "torch.from_numpy(rewards) looks like  torch.Size([619])\n",
            "rewards looks like  (617,)\n",
            "logs prob looks like  torch.Size([617])\n",
            "torch.from_numpy(rewards) looks like  torch.Size([617])\n",
            "rewards looks like  (682,)\n",
            "logs prob looks like  torch.Size([682])\n",
            "torch.from_numpy(rewards) looks like  torch.Size([682])\n",
            "rewards looks like  (807,)\n",
            "logs prob looks like  torch.Size([807])\n",
            "torch.from_numpy(rewards) looks like  torch.Size([807])\n",
            "rewards looks like  (651,)\n",
            "logs prob looks like  torch.Size([651])\n",
            "torch.from_numpy(rewards) looks like  torch.Size([651])\n",
            "rewards looks like  (767,)\n",
            "logs prob looks like  torch.Size([767])\n",
            "torch.from_numpy(rewards) looks like  torch.Size([767])\n",
            "rewards looks like  (817,)\n",
            "logs prob looks like  torch.Size([817])\n",
            "torch.from_numpy(rewards) looks like  torch.Size([817])\n",
            "rewards looks like  (1096,)\n",
            "logs prob looks like  torch.Size([1096])\n",
            "torch.from_numpy(rewards) looks like  torch.Size([1096])\n",
            "rewards looks like  (1140,)\n",
            "logs prob looks like  torch.Size([1140])\n",
            "torch.from_numpy(rewards) looks like  torch.Size([1140])\n",
            "rewards looks like  (2191,)\n",
            "logs prob looks like  torch.Size([2191])\n",
            "torch.from_numpy(rewards) looks like  torch.Size([2191])\n",
            "rewards looks like  (1753,)\n",
            "logs prob looks like  torch.Size([1753])\n",
            "torch.from_numpy(rewards) looks like  torch.Size([1753])\n",
            "rewards looks like  (1996,)\n",
            "logs prob looks like  torch.Size([1996])\n",
            "torch.from_numpy(rewards) looks like  torch.Size([1996])\n",
            "rewards looks like  (1611,)\n",
            "logs prob looks like  torch.Size([1611])\n",
            "torch.from_numpy(rewards) looks like  torch.Size([1611])\n",
            "rewards looks like  (1970,)\n",
            "logs prob looks like  torch.Size([1970])\n",
            "torch.from_numpy(rewards) looks like  torch.Size([1970])\n",
            "rewards looks like  (1618,)\n",
            "logs prob looks like  torch.Size([1618])\n",
            "torch.from_numpy(rewards) looks like  torch.Size([1618])\n",
            "rewards looks like  (834,)\n",
            "logs prob looks like  torch.Size([834])\n",
            "torch.from_numpy(rewards) looks like  torch.Size([834])\n",
            "rewards looks like  (1644,)\n",
            "logs prob looks like  torch.Size([1644])\n",
            "torch.from_numpy(rewards) looks like  torch.Size([1644])\n",
            "rewards looks like  (2717,)\n",
            "logs prob looks like  torch.Size([2717])\n",
            "torch.from_numpy(rewards) looks like  torch.Size([2717])\n",
            "rewards looks like  (1757,)\n",
            "logs prob looks like  torch.Size([1757])\n",
            "torch.from_numpy(rewards) looks like  torch.Size([1757])\n",
            "rewards looks like  (883,)\n",
            "logs prob looks like  torch.Size([883])\n",
            "torch.from_numpy(rewards) looks like  torch.Size([883])\n",
            "rewards looks like  (1870,)\n",
            "logs prob looks like  torch.Size([1870])\n",
            "torch.from_numpy(rewards) looks like  torch.Size([1870])\n",
            "rewards looks like  (4206,)\n",
            "logs prob looks like  torch.Size([4206])\n",
            "torch.from_numpy(rewards) looks like  torch.Size([4206])\n",
            "rewards looks like  (973,)\n",
            "logs prob looks like  torch.Size([973])\n",
            "torch.from_numpy(rewards) looks like  torch.Size([973])\n",
            "rewards looks like  (1729,)\n",
            "logs prob looks like  torch.Size([1729])\n",
            "torch.from_numpy(rewards) looks like  torch.Size([1729])\n",
            "rewards looks like  (1556,)\n",
            "logs prob looks like  torch.Size([1556])\n",
            "torch.from_numpy(rewards) looks like  torch.Size([1556])\n",
            "rewards looks like  (2478,)\n",
            "logs prob looks like  torch.Size([2478])\n",
            "torch.from_numpy(rewards) looks like  torch.Size([2478])\n",
            "rewards looks like  (1922,)\n",
            "logs prob looks like  torch.Size([1922])\n",
            "torch.from_numpy(rewards) looks like  torch.Size([1922])\n",
            "rewards looks like  (2518,)\n",
            "logs prob looks like  torch.Size([2518])\n",
            "torch.from_numpy(rewards) looks like  torch.Size([2518])\n",
            "rewards looks like  (2463,)\n",
            "logs prob looks like  torch.Size([2463])\n",
            "torch.from_numpy(rewards) looks like  torch.Size([2463])\n",
            "rewards looks like  (1944,)\n",
            "logs prob looks like  torch.Size([1944])\n",
            "torch.from_numpy(rewards) looks like  torch.Size([1944])\n",
            "rewards looks like  (953,)\n",
            "logs prob looks like  torch.Size([953])\n",
            "torch.from_numpy(rewards) looks like  torch.Size([953])\n",
            "rewards looks like  (1593,)\n",
            "logs prob looks like  torch.Size([1593])\n",
            "torch.from_numpy(rewards) looks like  torch.Size([1593])\n",
            "rewards looks like  (2546,)\n",
            "logs prob looks like  torch.Size([2546])\n",
            "torch.from_numpy(rewards) looks like  torch.Size([2546])\n",
            "rewards looks like  (1603,)\n",
            "logs prob looks like  torch.Size([1603])\n",
            "torch.from_numpy(rewards) looks like  torch.Size([1603])\n",
            "rewards looks like  (1644,)\n",
            "logs prob looks like  torch.Size([1644])\n",
            "torch.from_numpy(rewards) looks like  torch.Size([1644])\n",
            "rewards looks like  (1078,)\n",
            "logs prob looks like  torch.Size([1078])\n",
            "torch.from_numpy(rewards) looks like  torch.Size([1078])\n",
            "rewards looks like  (1406,)\n",
            "logs prob looks like  torch.Size([1406])\n",
            "torch.from_numpy(rewards) looks like  torch.Size([1406])\n",
            "rewards looks like  (993,)\n",
            "logs prob looks like  torch.Size([993])\n",
            "torch.from_numpy(rewards) looks like  torch.Size([993])\n",
            "rewards looks like  (1748,)\n",
            "logs prob looks like  torch.Size([1748])\n",
            "torch.from_numpy(rewards) looks like  torch.Size([1748])\n",
            "rewards looks like  (1645,)\n",
            "logs prob looks like  torch.Size([1645])\n",
            "torch.from_numpy(rewards) looks like  torch.Size([1645])\n",
            "rewards looks like  (1540,)\n",
            "logs prob looks like  torch.Size([1540])\n",
            "torch.from_numpy(rewards) looks like  torch.Size([1540])\n",
            "rewards looks like  (788,)\n",
            "logs prob looks like  torch.Size([788])\n",
            "torch.from_numpy(rewards) looks like  torch.Size([788])\n",
            "rewards looks like  (1613,)\n",
            "logs prob looks like  torch.Size([1613])\n",
            "torch.from_numpy(rewards) looks like  torch.Size([1613])\n",
            "rewards looks like  (2896,)\n",
            "logs prob looks like  torch.Size([2896])\n",
            "torch.from_numpy(rewards) looks like  torch.Size([2896])\n",
            "rewards looks like  (1623,)\n",
            "logs prob looks like  torch.Size([1623])\n",
            "torch.from_numpy(rewards) looks like  torch.Size([1623])\n",
            "rewards looks like  (800,)\n",
            "logs prob looks like  torch.Size([800])\n",
            "torch.from_numpy(rewards) looks like  torch.Size([800])\n",
            "rewards looks like  (715,)\n",
            "logs prob looks like  torch.Size([715])\n",
            "torch.from_numpy(rewards) looks like  torch.Size([715])\n",
            "rewards looks like  (1517,)\n",
            "logs prob looks like  torch.Size([1517])\n",
            "torch.from_numpy(rewards) looks like  torch.Size([1517])\n",
            "rewards looks like  (1719,)\n",
            "logs prob looks like  torch.Size([1719])\n",
            "torch.from_numpy(rewards) looks like  torch.Size([1719])\n",
            "rewards looks like  (1028,)\n",
            "logs prob looks like  torch.Size([1028])\n",
            "torch.from_numpy(rewards) looks like  torch.Size([1028])\n",
            "rewards looks like  (2484,)\n",
            "logs prob looks like  torch.Size([2484])\n",
            "torch.from_numpy(rewards) looks like  torch.Size([2484])\n",
            "rewards looks like  (4253,)\n",
            "logs prob looks like  torch.Size([4253])\n",
            "torch.from_numpy(rewards) looks like  torch.Size([4253])\n",
            "rewards looks like  (774,)\n",
            "logs prob looks like  torch.Size([774])\n",
            "torch.from_numpy(rewards) looks like  torch.Size([774])\n",
            "rewards looks like  (1690,)\n",
            "logs prob looks like  torch.Size([1690])\n",
            "torch.from_numpy(rewards) looks like  torch.Size([1690])\n",
            "rewards looks like  (2734,)\n",
            "logs prob looks like  torch.Size([2734])\n",
            "torch.from_numpy(rewards) looks like  torch.Size([2734])\n",
            "rewards looks like  (3430,)\n",
            "logs prob looks like  torch.Size([3430])\n",
            "torch.from_numpy(rewards) looks like  torch.Size([3430])\n",
            "rewards looks like  (860,)\n",
            "logs prob looks like  torch.Size([860])\n",
            "torch.from_numpy(rewards) looks like  torch.Size([860])\n",
            "rewards looks like  (659,)\n",
            "logs prob looks like  torch.Size([659])\n",
            "torch.from_numpy(rewards) looks like  torch.Size([659])\n",
            "rewards looks like  (687,)\n",
            "logs prob looks like  torch.Size([687])\n",
            "torch.from_numpy(rewards) looks like  torch.Size([687])\n",
            "rewards looks like  (645,)\n",
            "logs prob looks like  torch.Size([645])\n",
            "torch.from_numpy(rewards) looks like  torch.Size([645])\n",
            "rewards looks like  (1505,)\n",
            "logs prob looks like  torch.Size([1505])\n",
            "torch.from_numpy(rewards) looks like  torch.Size([1505])\n",
            "rewards looks like  (758,)\n",
            "logs prob looks like  torch.Size([758])\n",
            "torch.from_numpy(rewards) looks like  torch.Size([758])\n",
            "rewards looks like  (1654,)\n",
            "logs prob looks like  torch.Size([1654])\n",
            "torch.from_numpy(rewards) looks like  torch.Size([1654])\n",
            "rewards looks like  (3331,)\n",
            "logs prob looks like  torch.Size([3331])\n",
            "torch.from_numpy(rewards) looks like  torch.Size([3331])\n",
            "rewards looks like  (543,)\n",
            "logs prob looks like  torch.Size([543])\n",
            "torch.from_numpy(rewards) looks like  torch.Size([543])\n",
            "rewards looks like  (630,)\n",
            "logs prob looks like  torch.Size([630])\n",
            "torch.from_numpy(rewards) looks like  torch.Size([630])\n",
            "rewards looks like  (724,)\n",
            "logs prob looks like  torch.Size([724])\n",
            "torch.from_numpy(rewards) looks like  torch.Size([724])\n",
            "rewards looks like  (750,)\n",
            "logs prob looks like  torch.Size([750])\n",
            "torch.from_numpy(rewards) looks like  torch.Size([750])\n",
            "rewards looks like  (1530,)\n",
            "logs prob looks like  torch.Size([1530])\n",
            "torch.from_numpy(rewards) looks like  torch.Size([1530])\n",
            "rewards looks like  (2511,)\n",
            "logs prob looks like  torch.Size([2511])\n",
            "torch.from_numpy(rewards) looks like  torch.Size([2511])\n",
            "rewards looks like  (1715,)\n",
            "logs prob looks like  torch.Size([1715])\n",
            "torch.from_numpy(rewards) looks like  torch.Size([1715])\n",
            "rewards looks like  (3294,)\n",
            "logs prob looks like  torch.Size([3294])\n",
            "torch.from_numpy(rewards) looks like  torch.Size([3294])\n",
            "rewards looks like  (3936,)\n",
            "logs prob looks like  torch.Size([3936])\n",
            "torch.from_numpy(rewards) looks like  torch.Size([3936])\n",
            "rewards looks like  (1964,)\n",
            "logs prob looks like  torch.Size([1964])\n",
            "torch.from_numpy(rewards) looks like  torch.Size([1964])\n",
            "rewards looks like  (4245,)\n",
            "logs prob looks like  torch.Size([4245])\n",
            "torch.from_numpy(rewards) looks like  torch.Size([4245])\n",
            "rewards looks like  (840,)\n",
            "logs prob looks like  torch.Size([840])\n",
            "torch.from_numpy(rewards) looks like  torch.Size([840])\n",
            "rewards looks like  (2661,)\n",
            "logs prob looks like  torch.Size([2661])\n",
            "torch.from_numpy(rewards) looks like  torch.Size([2661])\n",
            "rewards looks like  (2068,)\n",
            "logs prob looks like  torch.Size([2068])\n",
            "torch.from_numpy(rewards) looks like  torch.Size([2068])\n",
            "rewards looks like  (3502,)\n",
            "logs prob looks like  torch.Size([3502])\n",
            "torch.from_numpy(rewards) looks like  torch.Size([3502])\n",
            "rewards looks like  (2580,)\n",
            "logs prob looks like  torch.Size([2580])\n",
            "torch.from_numpy(rewards) looks like  torch.Size([2580])\n",
            "rewards looks like  (1598,)\n",
            "logs prob looks like  torch.Size([1598])\n",
            "torch.from_numpy(rewards) looks like  torch.Size([1598])\n",
            "rewards looks like  (3411,)\n",
            "logs prob looks like  torch.Size([3411])\n",
            "torch.from_numpy(rewards) looks like  torch.Size([3411])\n",
            "rewards looks like  (1766,)\n",
            "logs prob looks like  torch.Size([1766])\n",
            "torch.from_numpy(rewards) looks like  torch.Size([1766])\n",
            "rewards looks like  (4248,)\n",
            "logs prob looks like  torch.Size([4248])\n",
            "torch.from_numpy(rewards) looks like  torch.Size([4248])\n",
            "rewards looks like  (1129,)\n",
            "logs prob looks like  torch.Size([1129])\n",
            "torch.from_numpy(rewards) looks like  torch.Size([1129])\n",
            "rewards looks like  (2909,)\n",
            "logs prob looks like  torch.Size([2909])\n",
            "torch.from_numpy(rewards) looks like  torch.Size([2909])\n",
            "rewards looks like  (3050,)\n",
            "logs prob looks like  torch.Size([3050])\n",
            "torch.from_numpy(rewards) looks like  torch.Size([3050])\n",
            "rewards looks like  (1938,)\n",
            "logs prob looks like  torch.Size([1938])\n",
            "torch.from_numpy(rewards) looks like  torch.Size([1938])\n",
            "rewards looks like  (1401,)\n",
            "logs prob looks like  torch.Size([1401])\n",
            "torch.from_numpy(rewards) looks like  torch.Size([1401])\n",
            "rewards looks like  (4381,)\n",
            "logs prob looks like  torch.Size([4381])\n",
            "torch.from_numpy(rewards) looks like  torch.Size([4381])\n",
            "rewards looks like  (3580,)\n",
            "logs prob looks like  torch.Size([3580])\n",
            "torch.from_numpy(rewards) looks like  torch.Size([3580])\n",
            "rewards looks like  (2837,)\n",
            "logs prob looks like  torch.Size([2837])\n",
            "torch.from_numpy(rewards) looks like  torch.Size([2837])\n",
            "rewards looks like  (3371,)\n",
            "logs prob looks like  torch.Size([3371])\n",
            "torch.from_numpy(rewards) looks like  torch.Size([3371])\n",
            "rewards looks like  (2994,)\n",
            "logs prob looks like  torch.Size([2994])\n",
            "torch.from_numpy(rewards) looks like  torch.Size([2994])\n",
            "rewards looks like  (4280,)\n",
            "logs prob looks like  torch.Size([4280])\n",
            "torch.from_numpy(rewards) looks like  torch.Size([4280])\n",
            "rewards looks like  (5000,)\n",
            "logs prob looks like  torch.Size([5000])\n",
            "torch.from_numpy(rewards) looks like  torch.Size([5000])\n",
            "rewards looks like  (961,)\n",
            "logs prob looks like  torch.Size([961])\n",
            "torch.from_numpy(rewards) looks like  torch.Size([961])\n",
            "rewards looks like  (825,)\n",
            "logs prob looks like  torch.Size([825])\n",
            "torch.from_numpy(rewards) looks like  torch.Size([825])\n",
            "rewards looks like  (1715,)\n",
            "logs prob looks like  torch.Size([1715])\n",
            "torch.from_numpy(rewards) looks like  torch.Size([1715])\n",
            "rewards looks like  (788,)\n",
            "logs prob looks like  torch.Size([788])\n",
            "torch.from_numpy(rewards) looks like  torch.Size([788])\n",
            "rewards looks like  (1734,)\n",
            "logs prob looks like  torch.Size([1734])\n",
            "torch.from_numpy(rewards) looks like  torch.Size([1734])\n",
            "rewards looks like  (3151,)\n",
            "logs prob looks like  torch.Size([3151])\n",
            "torch.from_numpy(rewards) looks like  torch.Size([3151])\n",
            "rewards looks like  (1675,)\n",
            "logs prob looks like  torch.Size([1675])\n",
            "torch.from_numpy(rewards) looks like  torch.Size([1675])\n",
            "rewards looks like  (1743,)\n",
            "logs prob looks like  torch.Size([1743])\n",
            "torch.from_numpy(rewards) looks like  torch.Size([1743])\n",
            "rewards looks like  (906,)\n",
            "logs prob looks like  torch.Size([906])\n",
            "torch.from_numpy(rewards) looks like  torch.Size([906])\n",
            "rewards looks like  (3250,)\n",
            "logs prob looks like  torch.Size([3250])\n",
            "torch.from_numpy(rewards) looks like  torch.Size([3250])\n",
            "rewards looks like  (1155,)\n",
            "logs prob looks like  torch.Size([1155])\n",
            "torch.from_numpy(rewards) looks like  torch.Size([1155])\n",
            "rewards looks like  (1098,)\n",
            "logs prob looks like  torch.Size([1098])\n",
            "torch.from_numpy(rewards) looks like  torch.Size([1098])\n",
            "rewards looks like  (1087,)\n",
            "logs prob looks like  torch.Size([1087])\n",
            "torch.from_numpy(rewards) looks like  torch.Size([1087])\n",
            "rewards looks like  (2800,)\n",
            "logs prob looks like  torch.Size([2800])\n",
            "torch.from_numpy(rewards) looks like  torch.Size([2800])\n",
            "rewards looks like  (3659,)\n",
            "logs prob looks like  torch.Size([3659])\n",
            "torch.from_numpy(rewards) looks like  torch.Size([3659])\n",
            "rewards looks like  (2880,)\n",
            "logs prob looks like  torch.Size([2880])\n",
            "torch.from_numpy(rewards) looks like  torch.Size([2880])\n",
            "rewards looks like  (3249,)\n",
            "logs prob looks like  torch.Size([3249])\n",
            "torch.from_numpy(rewards) looks like  torch.Size([3249])\n",
            "rewards looks like  (4935,)\n",
            "logs prob looks like  torch.Size([4935])\n",
            "torch.from_numpy(rewards) looks like  torch.Size([4935])\n",
            "rewards looks like  (4606,)\n",
            "logs prob looks like  torch.Size([4606])\n",
            "torch.from_numpy(rewards) looks like  torch.Size([4606])\n",
            "rewards looks like  (3929,)\n",
            "logs prob looks like  torch.Size([3929])\n",
            "torch.from_numpy(rewards) looks like  torch.Size([3929])\n",
            "rewards looks like  (1558,)\n",
            "logs prob looks like  torch.Size([1558])\n",
            "torch.from_numpy(rewards) looks like  torch.Size([1558])\n",
            "rewards looks like  (4675,)\n",
            "logs prob looks like  torch.Size([4675])\n",
            "torch.from_numpy(rewards) looks like  torch.Size([4675])\n",
            "rewards looks like  (1262,)\n",
            "logs prob looks like  torch.Size([1262])\n",
            "torch.from_numpy(rewards) looks like  torch.Size([1262])\n",
            "rewards looks like  (889,)\n",
            "logs prob looks like  torch.Size([889])\n",
            "torch.from_numpy(rewards) looks like  torch.Size([889])\n",
            "rewards looks like  (1468,)\n",
            "logs prob looks like  torch.Size([1468])\n",
            "torch.from_numpy(rewards) looks like  torch.Size([1468])\n",
            "rewards looks like  (1282,)\n",
            "logs prob looks like  torch.Size([1282])\n",
            "torch.from_numpy(rewards) looks like  torch.Size([1282])\n",
            "rewards looks like  (2098,)\n",
            "logs prob looks like  torch.Size([2098])\n",
            "torch.from_numpy(rewards) looks like  torch.Size([2098])\n",
            "rewards looks like  (1564,)\n",
            "logs prob looks like  torch.Size([1564])\n",
            "torch.from_numpy(rewards) looks like  torch.Size([1564])\n",
            "rewards looks like  (1516,)\n",
            "logs prob looks like  torch.Size([1516])\n",
            "torch.from_numpy(rewards) looks like  torch.Size([1516])\n",
            "rewards looks like  (1956,)\n",
            "logs prob looks like  torch.Size([1956])\n",
            "torch.from_numpy(rewards) looks like  torch.Size([1956])\n",
            "rewards looks like  (3174,)\n",
            "logs prob looks like  torch.Size([3174])\n",
            "torch.from_numpy(rewards) looks like  torch.Size([3174])\n",
            "rewards looks like  (3855,)\n",
            "logs prob looks like  torch.Size([3855])\n",
            "torch.from_numpy(rewards) looks like  torch.Size([3855])\n",
            "rewards looks like  (5000,)\n",
            "logs prob looks like  torch.Size([5000])\n",
            "torch.from_numpy(rewards) looks like  torch.Size([5000])\n"
          ]
        }
      ]
    },
    {
      "cell_type": "markdown",
      "metadata": {
        "id": "vNb_tuFYhKVK"
      },
      "source": [
        "### Training Result\n",
        "During the training process, we recorded `avg_total_reward`, which represents the average total reward of episodes before updating the policy network.\n",
        "\n",
        "Theoretically, if the agent becomes better, the `avg_total_reward` will increase.\n",
        "The visualization of the training process is shown below:  \n"
      ]
    },
    {
      "cell_type": "code",
      "metadata": {
        "id": "wZYOI8H10SHN",
        "colab": {
          "base_uri": "https://localhost:8080/",
          "height": 452
        },
        "outputId": "4f0ce939-f808-4fa8-a85a-212ac8f99a76"
      },
      "source": [
        "plt.plot(avg_total_rewards)\n",
        "plt.title(\"Total Rewards\")\n",
        "plt.show()"
      ],
      "execution_count": 161,
      "outputs": [
        {
          "output_type": "display_data",
          "data": {
            "text/plain": [
              "<Figure size 640x480 with 1 Axes>"
            ],
            "image/png": "[encoded data removed]"
          },
          "metadata": {}
        }
      ]
    },
    {
      "cell_type": "markdown",
      "metadata": {
        "id": "mV5jj4dThz0Y"
      },
      "source": [
        "In addition, `avg_final_reward` represents average final rewards of episodes. To be specific, final rewards is the last reward received in one episode, indicating whether the craft lands successfully or not.\n"
      ]
    },
    {
      "cell_type": "code",
      "metadata": {
        "id": "txDZ5vlGWz5w",
        "colab": {
          "base_uri": "https://localhost:8080/",
          "height": 452
        },
        "outputId": "8eb0ddea-87f8-4ed9-bad2-f3fd5e2461e4"
      },
      "source": [
        "plt.plot(avg_final_rewards)\n",
        "plt.title(\"Final Rewards\")\n",
        "plt.show()"
      ],
      "execution_count": 162,
      "outputs": [
        {
          "output_type": "display_data",
          "data": {
            "text/plain": [
              "<Figure size 640x480 with 1 Axes>"
            ],
            "image/png": "[encoded data removed]"
          },
          "metadata": {}
        }
      ]
    },
    {
      "cell_type": "markdown",
      "metadata": {
        "id": "u2HaGRVEYGQS"
      },
      "source": [
        "## Testing\n",
        "The testing result will be the average reward of 5 testing"
      ]
    },
    {
      "cell_type": "code",
      "metadata": {
        "id": "5yFuUKKRYH73",
        "colab": {
          "base_uri": "https://localhost:8080/",
          "height": 414
        },
        "outputId": "5d37a915-11a7-4e22-b1b2-ccd4d5b2f0b5"
      },
      "source": [
        "fix(env, seed)\n",
        "agent.eval()  # set the network into evaluation mode\n",
        "NUM_OF_TEST = 5 # Do not revise this !!!\n",
        "test_total_reward = []\n",
        "action_list = []\n",
        "for i in range(NUM_OF_TEST):\n",
        "  actions = []\n",
        "  state = env.reset()\n",
        "\n",
        "  img = plt.imshow(env.render(mode='rgb_array'))\n",
        "\n",
        "  total_reward = 0\n",
        "\n",
        "  done = False\n",
        "  while not done:\n",
        "      action, _ = agent.sample(state)\n",
        "      actions.append(action)\n",
        "      state, reward, done, _ = env.step(action)\n",
        "\n",
        "      total_reward += reward\n",
        "\n",
        "      img.set_data(env.render(mode='rgb_array'))\n",
        "      display.display(plt.gcf())\n",
        "      display.clear_output(wait=True)\n",
        "\n",
        "  print(total_reward)\n",
        "  test_total_reward.append(total_reward)\n",
        "\n",
        "  action_list.append(actions) # save the result of testing\n"
      ],
      "execution_count": 164,
      "outputs": [
        {
          "output_type": "stream",
          "name": "stdout",
          "text": [
            "133.18242207038688\n"
          ]
        },
        {
          "output_type": "display_data",
          "data": {
            "text/plain": [
              "<Figure size 640x480 with 1 Axes>"
            ],
            "image/png": "[encoded data removed]"
          },
          "metadata": {}
        }
      ]
    },
    {
      "cell_type": "code",
      "metadata": {
        "id": "Aex7mcKr0J01",
        "colab": {
          "base_uri": "https://localhost:8080/"
        },
        "outputId": "b07b65b1-d044-409e-e6ac-887623fc72ab"
      },
      "source": [
        "print(np.mean(test_total_reward))"
      ],
      "execution_count": 165,
      "outputs": [
        {
          "output_type": "stream",
          "name": "stdout",
          "text": [
            "117.95845524307963\n"
          ]
        }
      ]
    },
    {
      "cell_type": "markdown",
      "metadata": {
        "id": "leyebGYRpqsF"
      },
      "source": [
        "Action list"
      ]
    },
    {
      "cell_type": "code",
      "metadata": {
        "id": "hGAH4YWDpp4u",
        "colab": {
          "base_uri": "https://localhost:8080/"
        },
        "outputId": "a6a8a9e9-4293-4270-a6ab-b9b6b22508eb"
      },
      "source": [
        "print(\"Action list looks like \", action_list)\n",
        "print(\"Action list's shape looks like \", np.shape(action_list))"
      ],
      "execution_count": 166,
      "outputs": [
        {
          "output_type": "stream",
          "name": "stdout",
          "text": [
            "Action list looks like  [[3, 3, 3, 3, 3, 3, 3, 2, 2, 3, 0, 3, 2, 2, 2, 1, 1, 2, 3, 2, 2, 3, 2, 1, 1, 0, 2, 1, 2, 2, 1, 2, 1, 1, 3, 2, 2, 1, 1, 1, 2, 2, 3, 2, 1, 3, 3, 1, 2, 2, 1, 2, 2, 0, 2, 2, 2, 1, 2, 2, 2, 1, 2, 2, 3, 2, 1, 1, 2, 3, 0, 2, 2, 3, 1, 2, 1, 2, 2, 2, 1, 2, 0, 2, 2, 3, 2, 1, 2, 0, 1, 2, 2, 2, 2, 2, 2, 1, 3, 2, 2, 3, 3, 3, 2, 2, 0, 2, 3, 3, 3, 3, 1, 2, 2, 3, 2, 2, 2, 1, 2, 2, 2, 2, 2, 2, 3, 1, 0, 2, 2, 0, 2, 1, 2, 2, 0, 2, 2, 3, 2, 2, 2, 2, 3, 2, 2, 2, 2, 2, 2, 2, 3, 2, 2, 2, 2, 1, 2, 2, 3, 3, 3, 1, 2, 2, 0, 2, 2, 2, 2, 3, 1, 2, 2, 2, 2, 2, 1, 2, 2, 1, 2, 2, 2, 2, 1, 0, 2, 1, 2, 2, 0, 1, 2, 1, 2, 1, 2, 0, 2, 1, 2, 2, 2, 0, 2, 0, 0, 2, 3, 2, 2, 2, 3, 3, 2, 2, 1, 2, 2, 2, 2, 2, 2, 1, 0, 2, 2, 2, 0, 1, 1, 2, 0, 2, 2, 2, 2, 1, 1, 2, 2, 3, 2, 3, 0, 2, 2, 0, 2, 1, 2, 2, 3, 2, 1, 2, 2, 2, 3, 3, 2, 2, 0, 3, 2, 3, 2, 0, 2, 2, 2, 2, 2, 3, 1, 2, 3, 2, 2, 3, 2, 2, 2, 2, 1, 0, 2, 2, 2, 2, 2, 3, 2, 1, 1, 2, 2, 2, 1, 2, 2, 2, 2, 2, 1, 2, 2, 3, 3, 3, 2, 1, 2, 1, 2, 2, 1, 2, 3, 0, 2, 1, 1, 3, 1, 3, 3, 3, 3, 3, 3, 3, 3, 3, 3, 3, 3, 3, 3, 3, 3, 3, 3, 0, 3, 2, 3, 3, 3, 3, 2, 3, 3, 3, 3, 3, 3, 3, 3, 0, 3, 3, 3, 3, 3, 3, 0, 3, 0, 0, 3, 0, 2, 1, 2, 0, 2, 3, 1, 1, 2, 1, 2, 3, 2, 3, 3, 1, 3, 3, 3, 3, 3, 3, 0, 2, 3, 2, 2, 3, 2, 3, 0, 2, 1, 3, 3, 2, 2, 3, 2, 3, 0, 3, 3, 3, 2, 3, 3, 3, 3, 3, 3, 3, 3, 3, 3, 3, 3, 3, 3, 3, 3, 3, 3, 3, 3, 3, 3, 3, 3, 3, 3, 3, 3, 3, 3, 3, 3, 3, 3, 3, 3, 3], [2, 3, 2, 3, 2, 2, 2, 3, 2, 2, 3, 3, 2, 0, 2, 3, 2, 2, 2, 2, 2, 3, 2, 2, 3, 0, 2, 0, 1, 2, 2, 2, 1, 1, 2, 2, 2, 2, 1, 2, 1, 2, 2, 2, 2, 2, 0, 0, 2, 1, 3, 2, 0, 2, 3, 2, 1, 1, 2, 1, 2, 2, 2, 2, 2, 2, 1, 2, 2, 2, 2, 3, 2, 2, 2, 3, 2, 2, 2, 3, 1, 2, 2, 1, 1, 3, 2, 0, 2, 2, 2, 0, 3, 2, 1, 1, 1, 2, 2, 2, 2, 2, 3, 0, 0, 2, 2, 3, 2, 1, 2, 2, 0, 2, 2, 3, 2, 3, 2, 2, 2, 3, 0, 2, 2, 3, 2, 3, 3, 2, 2, 0, 2, 3, 0, 3, 3, 2, 2, 1, 2, 2, 0, 2, 2, 2, 2, 2, 2, 0, 1, 1, 3, 2, 2, 3, 2, 2, 3, 2, 2, 2, 1, 1, 3, 2, 1, 2, 3, 3, 2, 2, 2, 3, 1, 1, 2, 2, 2, 2, 1, 2, 1, 1, 1, 2, 2, 2, 2, 0, 2, 1, 3, 3, 2, 2, 2, 2, 1, 3, 2, 0, 1, 2, 2, 2, 1, 1, 2, 2, 1, 0, 1, 2, 3, 3, 3, 2, 2, 3, 3, 2, 3, 2, 2, 2, 2, 3, 2, 2, 2, 3, 2, 0, 2, 2, 2, 2, 2, 2, 2, 2, 3, 2, 2, 3, 2, 3, 3, 2, 2, 3, 2, 2, 2, 2, 2, 1, 3, 2, 2, 2, 3, 2, 2, 2, 3, 2, 3, 2, 2, 2, 2, 3, 3, 3, 3, 3, 3, 3, 3, 3, 3, 3, 3, 3, 3, 3, 0, 3, 3, 0, 3, 3, 3, 3, 3, 0, 0, 3, 3, 3, 3, 3, 3, 3, 3, 3, 2, 3, 1, 3, 3, 3, 3, 3, 3, 3, 3, 3, 3, 3, 3, 3, 3, 3, 3, 3, 3, 3, 3, 3, 3, 3, 3, 0, 3, 3, 3, 3, 3, 3, 3, 3, 3, 0, 3, 3, 3, 3, 3, 3, 3, 3, 3, 3, 3, 3, 3, 3, 3, 3, 0, 3, 3, 3, 2, 2, 1, 1, 3, 1, 3, 3, 3, 1, 3, 3, 0, 0, 0, 3, 3, 3, 1, 1, 2, 0, 1, 0, 1, 3, 3, 3, 0, 0, 3, 3, 1, 3, 3, 3, 3, 0, 3, 1, 3, 0, 1, 0, 3, 3, 3, 3, 3, 3, 1, 3, 3, 3, 2, 1, 1, 2, 1, 3, 3, 0, 3, 1, 3, 0, 3, 1, 3, 0, 1, 1, 1, 0, 1, 1, 1, 1, 0, 1, 1, 0, 1, 2, 1, 1, 1, 1, 3, 1, 0, 0, 0, 1, 1, 1, 0, 3, 0, 3, 1, 0, 1, 1, 0, 3, 0, 3, 1, 1, 1, 0, 0, 1, 1, 1, 1, 1, 1, 0, 1, 1, 0, 0, 2, 2, 2, 0, 2, 1, 1, 1, 1, 1, 1, 1, 1, 1, 1, 1, 3, 1, 1, 1, 1, 1, 1, 1, 1, 1, 1, 1, 1, 1, 2, 2, 3, 2, 3, 1, 2, 0, 2, 2, 1, 2, 2, 2, 1, 0, 2, 1, 2, 2, 2, 2, 3, 1, 2, 3, 3, 2, 2, 3, 3, 3, 3, 2, 2, 2, 0, 2, 2, 2, 2, 3, 2, 3, 3, 3, 2, 2, 2, 2, 3, 2, 3, 3, 2, 2, 3, 2, 2, 3, 3, 2, 3, 2, 3, 2, 2, 3, 2, 2, 1, 2, 2, 2, 0, 2, 2, 2, 3, 0, 0, 1, 2, 3, 1, 2, 3, 2, 3, 2, 2, 1, 2, 1, 0, 2, 2, 2, 2, 2, 2, 1, 2, 3, 2, 2, 2, 1, 1, 2, 2, 1, 0, 2, 3, 1, 2, 1, 2, 0, 2, 2, 2, 3, 2, 1, 2, 2, 2, 0, 0, 0, 3, 2, 1, 1, 2, 2, 1, 2, 0, 3, 2, 2, 2, 1, 2, 2, 0, 2, 2, 1, 2, 1, 3, 1, 3, 2, 2, 1, 2, 2, 2, 0, 2, 2, 1, 2, 1, 2, 1, 2, 0, 3, 3, 0, 3, 0, 1, 3, 3, 3, 1, 0, 2, 1, 1, 1, 2, 1, 1, 0, 1, 1, 0, 2, 3, 2, 1, 1, 2, 3, 0, 3, 1, 3, 0, 1, 3, 0, 1, 0, 1, 3, 1, 0, 3, 3, 3, 0, 1, 1, 1, 3, 3, 1, 1, 3, 1, 1, 1, 3, 1, 1, 1, 1, 1, 1, 3, 1, 1, 2, 1, 1, 1, 1, 1, 1, 1, 1, 0, 3, 3, 0, 0, 1, 1, 1, 1, 1, 1, 1, 1, 1, 1, 1, 1, 1, 0, 1, 2, 1, 2, 3, 1, 1, 0, 1, 1, 1, 1, 1, 1, 0, 1, 1, 1, 3, 1, 1, 1, 1, 3, 1, 2, 3, 1, 2, 1, 1, 3, 0, 3, 0, 1, 3, 1, 1, 0, 1, 1, 0, 1, 2, 2, 1, 2, 1, 1, 1, 2, 1, 1, 1, 3, 2, 3, 1, 1, 0, 2, 1, 1, 3, 3, 3, 0, 3, 0, 1, 1, 1, 3, 1, 1, 1, 3, 3, 3, 1, 1, 1, 3, 0, 1, 3, 1, 2, 3, 1, 2, 1, 1, 2, 3, 2, 0, 1, 3, 0, 0, 1, 1, 1, 1, 1, 1, 0, 1, 0, 2, 1, 1, 0, 1, 1, 1, 1, 0, 0, 1, 1, 3, 3, 1, 1, 1, 1, 3, 1, 0, 1, 1, 0, 1, 1, 0, 1, 3, 3, 0, 1, 1, 1, 1, 1, 1, 0, 1, 3, 0, 3, 1, 1, 1, 3, 1, 0, 0, 1, 2, 3, 0, 3, 1, 0, 1, 0, 2, 1, 1, 1, 0, 1, 1, 1, 2, 0, 1, 3, 0, 3, 1, 1, 1, 0, 3, 0, 1, 1, 1, 1, 0, 3, 0, 3, 0, 0, 3, 1, 1, 2, 1, 1, 1, 1, 1, 1, 3, 1], [1, 2, 1, 2, 1, 1, 1, 1, 2, 2, 2, 1, 1, 2, 1, 2, 1, 2, 2, 2, 2, 2, 2, 2, 2, 3, 2, 2, 2, 2, 2, 2, 3, 2, 2, 3, 2, 2, 2, 2, 2, 0, 3, 3, 3, 2, 2, 3, 2, 2, 3, 2, 3, 2, 2, 2, 2, 2, 3, 2, 2, 0, 3, 2, 2, 2, 0, 2, 2, 2, 3, 2, 2, 2, 0, 2, 2, 2, 0, 1, 2, 2, 3, 0, 1, 2, 3, 2, 2, 2, 2, 3, 1, 2, 1, 3, 2, 1, 2, 0, 2, 1, 2, 2, 1, 1, 2, 1, 1, 2, 2, 2, 1, 2, 2, 1, 1, 2, 1, 2, 1, 0, 2, 2, 2, 1, 2, 1, 2, 0, 2, 2, 1, 2, 1, 1, 2, 2, 3, 2, 2, 2, 2, 3, 3, 2, 2, 2, 2, 2, 3, 2, 2, 2, 3, 2, 2, 3, 2, 1, 3, 2, 2, 2, 0, 3, 1, 2, 2, 2, 2, 0, 2, 3, 1, 2, 2, 1, 2, 0, 2, 2, 2, 2, 2, 2, 3, 2, 2, 2, 3, 0, 3, 3, 2, 2, 2, 1, 0, 2, 3, 2, 2, 2, 2, 3, 0, 2, 2, 2, 3, 2, 3, 2, 2, 1, 2, 3, 2, 2, 2, 2, 0, 2, 3, 2, 3, 2, 3, 1, 1, 2, 3, 2, 2, 2, 3, 2, 2, 3, 2, 2, 2, 3, 1, 2, 1, 2, 2, 0, 2, 1, 1, 2, 2, 1, 1, 2, 0, 1, 2, 2, 3, 2, 1, 2, 2, 2, 2, 2, 2, 2, 3, 2, 2, 1, 2, 1, 2, 2, 1, 2, 2, 2, 2, 1, 3, 1, 2, 2, 2, 2, 2, 2, 1, 1, 3, 2, 0, 2, 1, 2, 0, 1, 2, 2, 3, 0, 1, 2, 2, 3, 1, 1, 2, 2, 3, 2, 2, 1, 3, 3, 2, 2, 2, 1, 3, 2, 3, 3, 2, 2, 3, 2, 3, 2, 2, 1, 2, 2, 2, 3, 2, 2, 2, 2, 2, 2, 3, 3, 2, 0, 2, 3, 2, 2, 3, 3, 2, 3, 2, 0, 3, 3, 3, 3, 3, 3, 3, 3, 3, 3, 3, 3, 3, 3, 3, 3, 3, 3, 3, 3, 3, 3, 3, 3, 3, 3, 3, 3, 3, 2, 3, 3, 3, 3, 3, 3, 0, 0, 3, 3, 3, 3, 3, 3, 3, 3, 3, 3, 3, 3, 3, 3, 3, 3, 3, 3, 3, 3, 2, 3, 3, 2, 3, 3, 3, 3, 3, 3, 3, 3, 3, 3, 3, 3, 3, 3, 3, 3, 3, 3, 3, 3, 3, 3, 3, 3, 3, 3, 3], [3, 3, 3, 3, 3, 3, 3, 3, 0, 3, 2, 2, 2, 2, 2, 3, 2, 3, 2, 2, 2, 1, 1, 1, 0, 2, 2, 2, 2, 0, 0, 1, 1, 2, 2, 2, 3, 3, 2, 2, 2, 2, 2, 1, 2, 2, 2, 0, 1, 2, 0, 2, 1, 2, 2, 2, 1, 2, 1, 1, 2, 1, 0, 1, 2, 1, 2, 1, 2, 2, 2, 0, 2, 1, 2, 2, 2, 2, 0, 2, 2, 2, 2, 2, 2, 2, 2, 2, 2, 1, 2, 1, 1, 2, 0, 2, 1, 3, 1, 1, 2, 2, 2, 3, 2, 1, 2, 3, 2, 2, 2, 3, 2, 3, 3, 2, 2, 2, 3, 2, 2, 2, 2, 1, 2, 3, 1, 2, 3, 2, 2, 3, 3, 2, 3, 2, 2, 2, 2, 1, 3, 2, 2, 3, 2, 2, 3, 2, 2, 2, 2, 2, 2, 3, 2, 3, 1, 2, 3, 2, 3, 2, 1, 1, 2, 2, 2, 2, 1, 1, 2, 1, 2, 2, 0, 3, 2, 2, 3, 2, 0, 1, 1, 1, 1, 0, 2, 1, 2, 3, 2, 2, 2, 2, 2, 2, 2, 2, 2, 3, 1, 2, 0, 2, 2, 2, 1, 2, 0, 1, 2, 2, 1, 1, 3, 2, 2, 2, 3, 1, 2, 2, 2, 1, 2, 2, 1, 2, 0, 1, 3, 2, 2, 2, 0, 3, 2, 1, 2, 3, 2, 3, 1, 2, 1, 2, 2, 3, 2, 2, 2, 2, 2, 2, 0, 2, 1, 2, 3, 1, 2, 2, 3, 2, 0, 2, 3, 2, 2, 3, 2, 2, 2, 2, 2, 0, 3, 2, 3, 3, 0, 0, 1, 1, 2, 1, 1, 1, 2, 1, 1, 1, 1, 2, 1, 3, 0, 3, 3, 3, 3, 3, 3, 3, 3, 3, 0, 3, 3, 0, 3, 3, 3, 3, 3, 3, 0, 3, 3, 3, 2, 3, 2, 1, 1, 1, 1, 0, 0, 2, 2, 3, 3, 2, 2, 0, 2, 2, 3, 0, 1, 2, 1, 3, 2, 3, 0, 0, 3, 3, 1, 3, 3, 3, 3, 2, 3, 1, 3, 3, 3, 0, 3, 3, 0, 3, 0, 3, 3, 0, 3, 3, 3, 1, 0, 3, 0, 3, 3, 3, 3, 3, 3, 3, 3, 3, 0, 3, 3, 3, 3, 3, 3, 3, 3, 0, 3, 0, 0, 2, 0, 2, 3, 0, 3, 1, 3, 3, 3, 0, 3, 3, 3, 1, 3, 0, 3, 3, 2, 3, 2, 2, 2, 1, 1, 1, 0, 2, 3, 2, 2, 2, 3, 2, 3, 3, 3, 3, 3, 3, 0, 0, 3, 3, 3, 3, 1, 3, 3, 0, 3, 3, 3, 3, 1, 3, 3, 3, 3, 3, 3, 3, 3, 3, 3, 3, 3, 3, 3, 3, 1, 1, 3, 3, 3, 0, 3, 3, 3, 1, 3, 3, 3, 3, 1, 2, 1, 2, 2, 3, 2, 0, 0, 1, 2, 2, 1, 3, 3, 2, 3, 3, 3, 3, 3, 0, 3, 3, 3, 3, 3, 1, 3, 3, 1, 0, 3, 3, 0, 3, 3, 3, 3, 3, 3, 3, 3, 3, 3, 1, 0, 3, 3, 3, 0, 3, 3, 3, 3, 3, 3, 3, 3, 3, 0, 3, 3, 3, 0, 3, 0, 3, 0, 3, 3, 3, 3, 0, 3, 3, 3, 3, 0, 2, 3, 2, 1, 1, 1, 2, 1, 1, 0, 3, 3, 3, 3, 0, 3, 0, 3, 3, 3, 3, 3, 3, 3, 3, 0, 3, 3, 1, 3, 2, 2, 3, 2, 1, 1, 0, 2, 3, 3, 3, 3, 3, 1, 2, 1, 3, 3, 0, 3, 0, 3, 1, 0, 0, 3, 0, 3, 3, 3, 0, 3, 3, 3, 3, 3, 3, 3, 3, 3, 3, 3, 3, 3, 3, 3, 1, 3, 0, 3, 3, 0, 3, 0, 3, 3, 3, 0, 3, 3, 3, 3, 1, 1, 1, 0, 3, 2, 3, 0, 3, 3, 1, 3, 3, 0, 0, 0, 3, 3, 3, 3, 3, 2, 3, 3, 3, 2, 3, 1, 2, 3, 0, 1, 1, 1, 1, 0, 2, 3, 0, 1, 2, 1, 2, 2, 1, 0, 2, 2, 2, 0, 1, 2, 2, 1, 0, 2, 0, 2, 2, 3, 3, 1, 2, 3, 1, 2, 0, 0, 3, 1, 3, 3, 1, 1, 1, 1, 2, 2, 2, 3, 3, 3, 1, 3, 0, 1, 1, 1, 0, 0, 3, 3, 0, 0, 3, 3, 2, 3, 0, 3, 2, 1, 1, 3, 3, 0, 3, 2, 0, 1, 2, 1, 2, 1, 0, 1, 0, 1, 3, 3, 3, 3, 3, 1, 0, 1, 3, 3, 1, 2, 3, 3, 3, 0, 3, 3, 3, 0, 0, 2, 3, 2, 2, 2, 0, 2, 2, 1, 2, 2, 1, 2, 1, 1, 1, 2, 2, 2, 2, 1, 2, 3, 0, 2, 1, 2, 2, 2, 1, 2, 2, 2, 0, 3, 1, 1, 2, 3, 2, 2, 2, 3, 3, 2, 2, 2, 3, 3, 2, 0, 3, 2, 3, 2, 2, 2, 3, 2, 2, 2, 2, 2, 2, 3, 2, 3, 3, 1, 2, 2, 2, 3, 2, 2, 1, 3, 0, 2, 0, 2, 3, 2, 0, 0, 1, 0, 2, 1, 0, 1, 2, 3, 2, 0, 2, 2, 2, 2, 2, 2, 1, 1, 0, 1, 2, 2, 2, 1, 2, 2, 1, 3, 2, 2, 2, 2, 2, 1, 0, 2, 1, 1, 2, 1, 2, 2, 2, 3, 2, 0, 2, 2, 2, 3, 1, 2, 2, 2, 2, 3, 2, 2, 3, 3, 2, 2, 2, 2, 3, 2, 2, 3, 3, 2, 2, 2, 3, 0, 2, 2, 2, 2, 3, 1, 2, 1, 2, 2, 2, 1, 3, 2, 2, 2, 2, 2, 2, 2, 2, 3, 1, 3, 2, 2, 1, 1, 2, 2, 1, 2, 3, 3, 2, 0, 0, 1, 2, 1, 1, 2, 2, 2, 3, 2, 2], [0, 1, 3, 1, 0, 0, 1, 1, 2, 1, 2, 1, 2, 1, 2, 2, 1, 2, 2, 0, 2, 2, 3, 0, 2, 3, 2, 2, 0, 3, 2, 2, 2, 1, 2, 2, 2, 2, 2, 2, 1, 2, 2, 2, 3, 2, 2, 2, 2, 2, 3, 2, 2, 3, 0, 2, 3, 3, 2, 2, 0, 3, 2, 1, 2, 2, 2, 1, 1, 3, 0, 2, 1, 2, 1, 2, 2, 2, 0, 1, 3, 2, 3, 2, 3, 0, 1, 2, 2, 1, 2, 2, 3, 2, 2, 2, 2, 3, 2, 2, 0, 3, 3, 1, 2, 1, 3, 2, 2, 1, 2, 2, 2, 2, 0, 2, 2, 1, 3, 2, 2, 3, 2, 2, 3, 1, 2, 3, 2, 2, 3, 0, 2, 2, 2, 2, 1, 1, 2, 1, 2, 2, 2, 2, 1, 2, 2, 2, 2, 3, 2, 2, 2, 2, 2, 3, 0, 2, 1, 2, 2, 2, 2, 2, 2, 2, 1, 2, 2, 2, 2, 3, 2, 2, 2, 0, 2, 1, 2, 1, 2, 2, 0, 2, 2, 2, 2, 3, 0, 3, 3, 3, 3, 3, 0, 2, 1, 2, 1, 2, 2, 2, 2, 2, 2, 3, 2, 2, 2, 3, 2, 2, 3, 0, 1, 2, 1, 2, 1, 3, 2, 2, 2, 0, 2, 3, 2, 1, 2, 1, 0, 2, 0, 2, 2, 2, 2, 1, 1, 2, 1, 2, 2, 2, 2, 2, 2, 3, 2, 2, 1, 2, 2, 3, 2, 2, 2, 3, 3, 0, 1, 2, 2, 2, 2, 3, 2, 2, 3, 3, 3, 0, 2, 2, 2, 1, 2, 0, 2, 2, 2, 3, 0, 1, 2, 3, 1, 2, 2, 2, 2, 2, 2, 2, 2, 2, 2, 2, 1, 3, 2, 2, 0, 2, 1, 2, 2, 1, 3, 1, 2, 2, 3, 3, 2, 1, 1, 2, 2, 3, 1, 2, 1, 2, 0, 2, 2, 2, 2, 2, 0, 3, 0, 2, 2, 2, 2, 3, 1, 0, 2, 1, 2, 2, 2, 3, 2, 2, 2, 1, 3, 0, 2, 3, 2, 3, 1, 2, 2, 0, 2, 2, 2, 2, 2, 1, 1, 2, 2, 3, 2, 1, 1, 2, 2, 1, 1, 2, 2, 2, 0, 2, 2, 2, 2, 1, 1, 2, 0, 2, 1, 0, 2, 2, 3, 2, 3, 2, 2, 2, 2, 2, 2, 2, 2, 2, 3, 2, 2, 1, 2, 2, 2, 2, 3, 2, 2, 1, 2, 2, 3, 2, 3, 3, 3, 2, 2, 1, 2, 3, 2, 2, 3, 2, 3, 2, 1, 2, 1, 3, 2, 1, 0, 2, 2, 1, 2, 2, 2, 2, 1, 2, 2, 2, 1, 2, 2, 0, 3, 2, 3, 1, 2, 2, 2, 2, 3, 0, 0, 2, 0, 1, 2, 0, 1, 2, 2, 0, 3, 2, 3, 2, 2, 2, 1, 2, 3, 2, 2, 2, 2, 2, 2, 2, 3, 3, 1, 2, 1, 2, 2, 2, 1, 1, 1, 0, 2, 2, 0, 2, 2, 1, 3, 1, 2, 3, 2, 2, 2, 3, 2, 2, 2, 2, 3, 2, 2, 3, 3, 3, 3, 3, 3, 3, 3, 0, 0, 0, 3, 2, 3, 3, 3, 3, 3, 3, 3, 3, 3, 3, 3, 3, 3, 3, 3, 3, 3, 3, 2, 1, 2, 1, 1, 2, 3, 3, 3, 1, 0, 3, 3, 3, 1, 3, 3, 3, 3, 3, 0, 3, 3, 3, 3, 0, 0, 3, 3, 3, 2, 3, 2, 2, 2, 3, 0, 1, 2, 2, 0, 0, 2, 2, 3, 1, 1, 2, 3, 3, 2, 3, 3, 3, 3, 3, 3, 3, 0, 3, 3, 2, 0, 2, 3, 2, 2, 3, 3, 2, 2, 2, 1, 2, 3, 0, 3, 2, 2, 3, 3, 1, 3, 3, 3, 3, 3, 0, 3, 3, 3, 3, 3, 3, 3, 3, 3, 3, 3, 3, 3, 3, 0, 3, 3, 3, 3, 3, 3, 3, 3, 3, 3, 3, 3, 3, 3, 3, 3, 0, 2, 3, 3, 1, 3, 3, 3, 3, 3, 2, 3, 2, 3, 3, 2, 3, 2, 0, 3, 3, 0, 3, 3, 3, 3, 3, 3, 3, 3, 0, 3, 3, 3, 3, 3, 3, 3, 3, 3, 3, 3, 3, 3, 3, 3, 3, 3, 3, 0, 3, 3, 3, 3, 3, 3, 3, 3, 3, 3, 3, 3, 3, 3, 3, 3, 3, 3, 3, 3, 3, 3, 3, 3, 3]]\n",
            "Action list's shape looks like  (5,)\n"
          ]
        },
        {
          "output_type": "stream",
          "name": "stderr",
          "text": [
            "/usr/local/lib/python3.10/dist-packages/numpy/core/fromnumeric.py:2007: VisibleDeprecationWarning: Creating an ndarray from ragged nested sequences (which is a list-or-tuple of lists-or-tuples-or ndarrays with different lengths or shapes) is deprecated. If you meant to do this, you must specify 'dtype=object' when creating the ndarray.\n",
            "  result = asarray(a).shape\n"
          ]
        }
      ]
    },
    {
      "cell_type": "markdown",
      "metadata": {
        "id": "fNkmwucrHMen"
      },
      "source": [
        "Analysis of actions taken by agent"
      ]
    },
    {
      "cell_type": "code",
      "metadata": {
        "id": "WHdAItjj1nxw",
        "colab": {
          "base_uri": "https://localhost:8080/"
        },
        "outputId": "eb72ba31-de48-44bd-9691-572eca9cd123"
      },
      "source": [
        "distribution = {}\n",
        "for actions in action_list:\n",
        "  for action in actions:\n",
        "    if action not in distribution.keys():\n",
        "      distribution[action] = 1\n",
        "    else:\n",
        "      distribution[action] += 1\n",
        "print(distribution)"
      ],
      "execution_count": 167,
      "outputs": [
        {
          "output_type": "stream",
          "name": "stdout",
          "text": [
            "{3: 1180, 2: 1402, 0: 377, 1: 700}\n"
          ]
        }
      ]
    },
    {
      "cell_type": "markdown",
      "metadata": {
        "id": "ricE0schY75M"
      },
      "source": [
        "Saving the result of Model Testing\n"
      ]
    },
    {
      "cell_type": "code",
      "metadata": {
        "id": "GZsMkGmIY42b",
        "colab": {
          "base_uri": "https://localhost:8080/"
        },
        "outputId": "69f5f709-70c3-4ba5-f774-df935b3c4d45"
      },
      "source": [
        "PATH = \"Action_List.npy\" # Can be modified into the name or path you want\n",
        "np.save(PATH ,np.array(action_list))"
      ],
      "execution_count": 168,
      "outputs": [
        {
          "output_type": "stream",
          "name": "stderr",
          "text": [
            "<ipython-input-168-0cd63aefc5d4>:2: VisibleDeprecationWarning: Creating an ndarray from ragged nested sequences (which is a list-or-tuple of lists-or-tuples-or ndarrays with different lengths or shapes) is deprecated. If you meant to do this, you must specify 'dtype=object' when creating the ndarray.\n",
            "  np.save(PATH ,np.array(action_list))\n"
          ]
        }
      ]
    },
    {
      "cell_type": "markdown",
      "metadata": {
        "id": "asK7WfbkaLjt"
      },
      "source": [
        "### This is the file you need to submit !!!\n",
        "Download the testing result to your device\n",
        "\n"
      ]
    },
    {
      "cell_type": "code",
      "metadata": {
        "id": "c-CqyhHzaWAL",
        "colab": {
          "base_uri": "https://localhost:8080/",
          "height": 17
        },
        "outputId": "7e9940fc-8dce-4d76-89b7-a8e5b5ad3ec8"
      },
      "source": [
        "from google.colab import files\n",
        "files.download(PATH)"
      ],
      "execution_count": 169,
      "outputs": [
        {
          "output_type": "display_data",
          "data": {
            "text/plain": [
              "<IPython.core.display.Javascript object>"
            ],
            "application/javascript": [
              "\n",
              "    async function download(id, filename, size) {\n",
              "      if (!google.colab.kernel.accessAllowed) {\n",
              "        return;\n",
              "      }\n",
              "      const div = document.createElement('div');\n",
              "      const label = document.createElement('label');\n",
              "      label.textContent = `Downloading \"${filename}\": `;\n",
              "      div.appendChild(label);\n",
              "      const progress = document.createElement('progress');\n",
              "      progress.max = size;\n",
              "      div.appendChild(progress);\n",
              "      document.body.appendChild(div);\n",
              "\n",
              "      const buffers = [];\n",
              "      let downloaded = 0;\n",
              "\n",
              "      const channel = await google.colab.kernel.comms.open(id);\n",
              "      // Send a message to notify the kernel that we're ready.\n",
              "      channel.send({})\n",
              "\n",
              "      for await (const message of channel.messages) {\n",
              "        // Send a message to notify the kernel that we're ready.\n",
              "        channel.send({})\n",
              "        if (message.buffers) {\n",
              "          for (const buffer of message.buffers) {\n",
              "            buffers.push(buffer);\n",
              "            downloaded += buffer.byteLength;\n",
              "            progress.value = downloaded;\n",
              "          }\n",
              "        }\n",
              "      }\n",
              "      const blob = new Blob(buffers, {type: 'application/binary'});\n",
              "      const a = document.createElement('a');\n",
              "      a.href = window.URL.createObjectURL(blob);\n",
              "      a.download = filename;\n",
              "      div.appendChild(a);\n",
              "      a.click();\n",
              "      div.remove();\n",
              "    }\n",
              "  "
            ]
          },
          "metadata": {}
        },
        {
          "output_type": "display_data",
          "data": {
            "text/plain": [
              "<IPython.core.display.Javascript object>"
            ],
            "application/javascript": [
              "download(\"download_88597398-e32d-4a60-8a29-0c24e8cef5a2\", \"Action_List.npy\", 7625)"
            ]
          },
          "metadata": {}
        }
      ]
    },
    {
      "cell_type": "markdown",
      "metadata": {
        "id": "seT4NUmWmAZ1"
      },
      "source": [
        "# Server\n",
        "The code below simulate the environment on the judge server. Can be used for testing."
      ]
    },
    {
      "cell_type": "code",
      "metadata": {
        "id": "U69c-YTxaw6b",
        "colab": {
          "base_uri": "https://localhost:8080/",
          "height": 487
        },
        "outputId": "d8e21f74-e72e-4118-b449-d00721aa0d64"
      },
      "source": [
        "action_list = np.load(PATH,allow_pickle=True) # The action list you upload\n",
        "seed = 2023 # Do not revise this\n",
        "fix(env, seed)\n",
        "\n",
        "agent.eval()  # set network to evaluation mode\n",
        "\n",
        "test_total_reward = []\n",
        "if len(action_list) != 5:\n",
        "  print(\"Wrong format of file !!!\")\n",
        "  exit(0)\n",
        "for actions in action_list:\n",
        "  state = env.reset()\n",
        "  img = plt.imshow(env.render(mode='rgb_array'))\n",
        "\n",
        "  total_reward = 0\n",
        "\n",
        "  done = False\n",
        "\n",
        "  for action in actions:\n",
        "\n",
        "      state, reward, done, _ = env.step(action)\n",
        "      total_reward += reward\n",
        "      if done:\n",
        "        break\n",
        "\n",
        "  print(f\"Your reward is : %.2f\"%total_reward)\n",
        "  test_total_reward.append(total_reward)"
      ],
      "execution_count": 171,
      "outputs": [
        {
          "output_type": "stream",
          "name": "stdout",
          "text": [
            "Your reward is : 212.59\n",
            "Your reward is : 10.39\n",
            "Your reward is : 208.77\n",
            "Your reward is : 24.85\n",
            "Your reward is : 133.18\n"
          ]
        },
        {
          "output_type": "display_data",
          "data": {
            "text/plain": [
              "<Figure size 640x480 with 1 Axes>"
            ],
            "image/png": "[encoded data removed]"
          },
          "metadata": {}
        }
      ]
    },
    {
      "cell_type": "markdown",
      "metadata": {
        "id": "TjFBWwQP1hVe"
      },
      "source": [
        "# Your score"
      ]
    },
    {
      "cell_type": "code",
      "metadata": {
        "id": "GpJpZz3Wbm0X",
        "colab": {
          "base_uri": "https://localhost:8080/"
        },
        "outputId": "02587cb9-28aa-417c-f534-9d6c934b4f84"
      },
      "source": [
        "print(f\"Your final reward is : %.2f\"%np.mean(test_total_reward))"
      ],
      "execution_count": 172,
      "outputs": [
        {
          "output_type": "stream",
          "name": "stdout",
          "text": [
            "Your final reward is : 117.96\n"
          ]
        }
      ]
    },
    {
      "cell_type": "markdown",
      "metadata": {
        "id": "wUBtYXG2eaqf"
      },
      "source": [
        "## Reference\n",
        "\n",
        "Below are some useful tips for you to get high score.\n",
        "\n",
        "- [DRL Lecture 1: Policy Gradient (Review)](https://youtu.be/z95ZYgPgXOY)\n",
        "- [ML Lecture 23-3: Reinforcement Learning (including Q-learning) start at 30:00](https://youtu.be/2-JNBzCq77c?t=1800)\n",
        "- [Lecture 7: Policy Gradient, David Silver](http://www0.cs.ucl.ac.uk/staff/d.silver/web/Teaching_files/pg.pdf)\n"
      ]
    },
    {
      "cell_type": "code",
      "source": [],
      "metadata": {
        "id": "4S0WeIltxw4W"
      },
      "execution_count": null,
      "outputs": []
    }
  ]
}